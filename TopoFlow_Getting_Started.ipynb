{
 "cells": [
  {
   "cell_type": "markdown",
   "metadata": {},
   "source": [
    "# Getting Started with the TopoFlow Hydrologic Model"
   ]
  },
  {
   "cell_type": "markdown",
   "metadata": {},
   "source": [
    "#### Table of Contents"
   ]
  },
  {
   "cell_type": "markdown",
   "metadata": {},
   "source": [
    "1.  <a href=\"#key_facts\">Key Facts About TopoFlow</a> <br>\n",
    "2.  <a href=\"#installation\">How to Install the TopoFlow Python Package</a> <br>\n",
    "3.  <a href=\"#package_overview\">Overview of the TopoFlow Python Package</a> <br>\n",
    "4.  <a href=\"#history\">TopoFlow Development History</a> <br>\n",
    "5.  <a href=\"#emeli\">The EMELI and EMELI-Web Frameworks</a> <br>\n",
    "6.  <a href=\"#provider_files\">EMELI Provider Files - Choosing the Components to Use</a> <br>\n",
    "7.  <a href=\"#data_prep\">TopoFlow Input Files and Data Preparation</a> <br>\n",
    "8.  <a href=\"#output_files\">TopoFlow Output Files and Visualization</a> <br>\n",
    "9.  <a href=\"#treynor_sim\">Running Simulations for the Treynor River</a> <br>\n",
    "10. <a href=\"#calibration\">How to Calibrate TopoFlow</a> <br>\n",
    "11. <a href=\"#other_notebooks\">Other Jupyter Notebooks for TopoFlow 3.6</a> <br>\n",
    "12. <a href=\"#html_help\">HTML Help Pages for TopoFlow Components</a> <br>\n",
    "13. <a href=\"#references\">Key References for TopoFlow</a> <br>"
   ]
  },
  {
   "cell_type": "markdown",
   "metadata": {},
   "source": [
    "## Key Facts About TopoFlow  <a id=\"key_facts\"></a>"
   ]
  },
  {
   "cell_type": "markdown",
   "metadata": {},
   "source": [
    "<ul>\n",
    "<li>Written entirely in Python (83,000 lines of code)\n",
    "<li>Plug-and-play, spatially-distributed hydrologic model based on <b>components</b>\n",
    "<li>Distributed as a Python package  (installs with pip)\n",
    "<li>Package includes numerous hydrologic process <b>components</b>\n",
    "<li>Package includes numerous <b>utilities</b> for data preparation (D8 toolkit, pedotransfer, file I/O, etc.)\n",
    "<li>Package includes data sets for testing in the <b>examples</b> folder\n",
    "<li>Package includes the\n",
    "<a href=\"http://academicworks.cuny.edu/cc_conf_hic/464/\"> <b>EMELI framework</b></a>\n",
    "for coupling BMI components into a model\n",
    "<li>The EMELI framework automatically performs temporal alignment as needed.\n",
    "<li>User-chosen components are coupled to create a complete, spatial hydrologic model\n",
    "<li>Hydrologic processes are modeled using plug-and-play <b>components</b>\n",
    "<li>Channel flow components: kinematic, diffusive and dynamic wave\n",
    "<li>Infiltration components: Green-Ampt, Smith-Parlange and Richards 1D\n",
    "<li>Evaporation components: Priestley-Taylor, Energy Balance\n",
    "<li>Snowmelt components: Degree-Day, Energy Balance\n",
    "<li>Meteorology component includes shortwave and longwave radiation calculators.\n",
    "<li>Diversions component supports canals, sinks and sources.\n",
    "<li>Every TopoFlow component exposes the\n",
    "    <a href=\"https://csdms.colorado.edu/wiki/BMI_Description\"><b>Basic Model Interface</b></a> (BMI)\n",
    "<li>Every TopoFlow component supports\n",
    "    <a href=\"https://csdms.colorado.edu/wiki/CSDMS_Standard_Names\">\n",
    "        <b>CSDMS Standard Names</b></a> for variables.\n",
    "<li>The CSDMS Standard Names have evolved into the\n",
    "    <a href=\"http://www.geoscienceontology.org/\"><b>Scientific Variables Ontology</b></a>\n",
    "<li>Every TopoFlow component has its own configuration file (CFG file)\n",
    "<li>Every TopoFlow component has an HTML Help Page (e.g.\n",
    "<a href=\"https://csdms.colorado.edu/wiki/Model_help:TopoFlow-Meteorology\">\n",
    "<b>Meteorology component</b></a>)\n",
    "<li>Open source code, available on GitHub in the\n",
    "    <a href=\"https://github.com/peckhams/topoflow36\">\n",
    "        <b>TopoFlow 3.6 repository</b></a>\n",
    "<li>Current version is 3.6, updated to run in Python 3.x.\n",
    "<li>The CSDMS model repository contains older versions.\n",
    "<li>Uses only efficient\n",
    "    <a href=\"https://numpy.org/\"><b>Numpy</b></a>\n",
    "    array operations and has <b>no</b> spatial loops.\n",
    "<li>Development began in 2000, initially written in\n",
    "    <a href=\"https://www.harrisgeospatial.com/Software-Technology/IDL\">\n",
    "        <b>IDL</b></a> (Interactive Data Language)\n",
    "<li>Converted to Python/Numpy in 2008.\n",
    "<li><a href=\"http://dx.doi.org/10.1002/2016EA000237\"><b>Peckham et al. (2017)</b></a>\n",
    "    is a recent, key paper on TopoFlow (also in the <b>docs</b> folder)\n",
    "<li><a href=\"http://dx.doi.org/10.1016/S0166-2481(08)00025-1\"><b>Peckham (2009)</b></a>\n",
    "    describes the earlier IDL version of TopoFlow.\n",
    "<li>Key TopoFlow References are listed at the bottom of this notebook\n",
    "</ul>"
   ]
  },
  {
   "cell_type": "markdown",
   "metadata": {},
   "source": [
    "## How to Install the TopoFlow Python Package  <a id=\"installation\"></a>"
   ]
  },
  {
   "cell_type": "markdown",
   "metadata": {},
   "source": [
    "Before you can run the code in this notebook, you will need to install the TopoFlow 3.6 Python package.\n",
    "\n",
    "It is recommended to use Python 3.7 (or higher) from an Anaconda distribution and to install TopoFlow 3.6 in a conda environment called \"tf36\".  In Anaconda is already installed, you can use the following commands on Mac or Linux to install TopoFlow.  This helps to isolate it from the rest of your Python environment to avoid potential package conflicts."
   ]
  },
  {
   "cell_type": "markdown",
   "metadata": {},
   "source": [
    "``` bash\n",
    "% conda update -n base conda\n",
    "% conda create --name tf36\n",
    "% conda activate tf36\n",
    "% conda install netCDF4  (Will be installed with TopoFlow otherwise.) \n",
    "% conda install gdal (for some utilities)\n",
    "NOTE:  Do not use:  conda install -c conda-forge gdal\n",
    "\n",
    "Download the TopoFlow 3.6 package from GitHub repo \"topoflow36\".\n",
    "Copy it somewhere. Denote this full path as TF36_DIR.\n",
    "e.g. TF36_DIR = /Users/peckhams/Dropbox/TopoFlow_3.6\n",
    "\n",
    "% cd TF36_DIR\n",
    "% pip install -e .   (-e is the editable/developer option)\n",
    "% cd\n",
    "\n",
    "If you would like to run the notebook in jupyterlab, also do this.\n",
    "% conda install -c conda-forge jupyterlab\n",
    "% conda install -c conda-forge nb_conda_kernels (needed for conda envs)\n",
    "% jupyter lab\n",
    "```"
   ]
  },
  {
   "cell_type": "markdown",
   "metadata": {},
   "source": [
    "Finally, choose <b>TopoFlow_Getting_Started.ipynb</b> in Jupyter Notebook or Jupyter Lab.\n",
    "In Jupyter Lab, choose the kernel:  Python [conda evn:tf36].  Whenever you want to run TopoFlow (or a TopoFlow notebook), you will then need to switch to this \"tf36\" environment with the command: \"conda activate tf36\"."
   ]
  },
  {
   "cell_type": "markdown",
   "metadata": {},
   "source": [
    "## Overview of the TopoFlow Python Package  <a id=\"package_overview\"></a>"
   ]
  },
  {
   "cell_type": "markdown",
   "metadata": {},
   "source": [
    "<b>The docs folder</b>.\n",
    "This folder contains PDFs of key papers on TopoFlow and other useful information.\n",
    "\n",
    "<b>The components folder</b>.\n",
    "This folder contains TopoFlow's numerous hydrologic process components.\n",
    "Each component exposes a standardized model API called the\n",
    "<a href=\"https://csdms.colorado.edu/wiki/BMI_Description\">\n",
    "    <b>Basic Model Interface (BMI)</b></a>.\n",
    "Every component inherits from BMI_base.py in the \"utils\" folder.  Each model component has its own configuration file, a text file with extension \".cfg\".  Components may get their input data from other components in a component set (passed by reference), or directly from input files.  By editing model CFG files, users specify which output variables are to be saved to files (and at what \"sampling timestep) and values of variables are then written to netCDF files (and optionally to some other file formats).  Each component also has its own very detailed HTML Help Page on the CSDMS wiki website.  These pages describe all of the variables and equations used by the component.  See the section below: \"HTML Help Pages for TopoFlow Components\", which has links to all of these.\n",
    "\n",
    "<b>The utils folder</b>.\n",
    "This folder contains a large collection of utilities that provide low-level functionality to all TopoFlow components.  Several of these provide APIs for reading input files or writing output files in several file formats, including netCDF.\n",
    "A complete toolkit for computing a D8 flow direction grid and all related variables (like slope and total contributing area) from a DEM is also included. (This includes depression filling of the DEM and a \"profile smoothing\" tool.)\n",
    "Also included are utilities for regridding, parameterization, pedotransfer functions, etc.\n",
    "\n",
    "<b>The examples folder</b>\n",
    "The \"examples\" folder contains several data sets for testing, including the Treynor watershed in Iowa with input data for two historic rainfall events both from June 1967.  (Treynor is a small watershed in the Nishnabotna river basin.)  Included in these examples are folders showing correct output files that can be used for testing.\n",
    "\n",
    "<b>The framework folder</b>.\n",
    "This folder contains the EMELI framework, which is described in more detail below.\n",
    "\n",
    "<b>The gui_old folder</b>\n",
    "This folder contains significant (but incomplete) efforts to create a wizard-style GUI for TopoFlow in Python using the\n",
    "<a href=\"https://wxpython.org/\"><b>wxPython</b></a> package.\n",
    "This GUI is modeled after the GUI for the early IDL version of TopoFlow 1.6b."
   ]
  },
  {
   "cell_type": "markdown",
   "metadata": {},
   "source": [
    "## TopoFlow Development History  <a id=\"history\"></a>"
   ]
  },
  {
   "cell_type": "markdown",
   "metadata": {},
   "source": [
    "The best way to learn about TopoFlow --- including its history, capabilities, input data preparation and an example application --- is to read the paper in the \"docs\" folder of the TopoFlow Python package called:  \"Peckham_et_al_2017_GPF.pdf\", along with its appendices \"Peckham_et_al_2017_GPF_Appendices.pdf\".  This paper is also available\n",
    "<a href=\"http://dx.doi.org/10.1002/2016EA000237\"><b>online here</b></a>.\n",
    "\n",
    "TopoFlow version 3.6 runs in Python 3.7 and contains over 82,500 lines of Python code.\n",
    "Source code is available in the\n",
    "<a href=\"https://github.com/peckhams/topoflow36\"><b>topoflow36</b></a> repository on GitHub.\n",
    "\n",
    "TopoFlow version 3.5 runs in Python 2.7 and contains over 75,000 lines of code.  It is no longer under active development, but code is available in the\n",
    "<a href=\"https://github.com/peckhams/topoflow\"><b>topoflow</b></a> repository on GitHub.\n",
    "\n",
    "<a href=\"https://csdms.colorado.edu\"><b>CSDMS</b></a>\n",
    "uses an older version of TopoFlow 3.5 and also provides a graphical user interface via its Web Modeling Tool.  See:\n",
    "<a href=\"https://csdms.colorado.edu/wiki/CSDMS_Web_Modeling_Tool\">\n",
    "    CSDMS Web Modeling Tool</a> and\n",
    "<a href=\"https://csdms.colorado.edu/wiki/HydrologyExecutorBlanca\">\n",
    "    Hydrology Executor Blanca</a>. \n",
    "\n",
    "There is also an earlier version of TopoFlow (1.6b) with a wizard-style GUI written entirely in IDL.  It is no longer actively maintained."
   ]
  },
  {
   "cell_type": "markdown",
   "metadata": {},
   "source": [
    "## The EMELI and EMELI-Web Frameworks  <a id=\"emeli\"></a>"
   ]
  },
  {
   "cell_type": "markdown",
   "metadata": {},
   "source": [
    "<b>EMELI</b> (Experimental Modeling Environment for Linking and Interoperability) is a lightweight, model coupling framework written in Python that is included in the <b>framework</b> folder of the TopoFlow 3.6 Python package.  It can be used to automatically and dynamically couple any set of models that are written in Python or have Python bindings, as long as they each expose a valid BMI interface.\n",
    "\n",
    "TopoFlow versions 3.5 and 3.6 each provide a plug-and-play, component-based modeling framework for spatial hydrologic modeling.  Both use the EMELI framework to couple a set of user-selected components into a functioning model. \n",
    "\n",
    "<a href=\"http://academicworks.cuny.edu/cc_conf_hic/464/\"> <b>Peckham (2014)</b></a>\n",
    "is a paper that describes EMELI in detail.\n",
    "It is also included in the <b>docs</b> folder of the TopoFlow Python package, as:  \"Peckham_2014_EMELI_FINAL.pdf\".\n",
    "\n",
    "<b>EMELI-Web</b> is a version of EMELI that couples and runs a set of TopoFlow components all running as web services on different servers.  Components share updated values of variables over the web as they run.  This is an elaborate example of model coupling over the web built on \"Modeling as a Service\" (MaaS) and the Basic Model Interface (BMI).  It was developed for the NSF-funded EarthCube GeoSemantics project.  A GUI and demonstration of EMELI-Web is\n",
    "<a href=\"http://ecgs.ncsa.illinois.edu/emeli-web/\"><b>available here</b></a>.\n",
    "(It requires you to create a login first.)\n",
    "Source code for EMELI-Web in BitBucket is\n",
    "<a href=\"https://opensource.ncsa.illinois.edu/bitbucket/projects/ECGS/repos/emeli-web-application/browse\"><b>available here</b></a>.\n",
    "\n",
    "<a href=\"http://dx.doi.org/10.1016/j.envsoft.2017.01.021\"> <b>Jiang et al. (2017)</b></a>\n",
    "is a paper that describes EMELI-Web in detail.\n",
    "It is also included in the <b>docs</b> folder of the TopoFlow Python package, as:\n",
    "\"Jiang_et_al_2017.pdf\"."
   ]
  },
  {
   "cell_type": "markdown",
   "metadata": {},
   "source": [
    "## EMELI Provider Files --- Choosing the Components To Use <a id=\"provider_files\"></a>"
   ]
  },
  {
   "cell_type": "markdown",
   "metadata": {},
   "source": [
    "In order to tell EMELI which components you want to couple together to create a complete, spatial hydrologic model, you must list them by name in a simple text file called a <b>provider file</b>.  The filename for this file starts with the <b>case prefix</b>, because you will often choose a different set of components for different cases or scenarios you want to model.  The filename is just this case prefix plus <b>_providers.txt</b>.\n",
    "\n",
    "EMELI will instantiate each of the listed model components as objects and will then check to make sure that each component can get all of the input variables it needs from other selected components (or on its own, from an input file).  EMELI \"runs the clock\", tells each component when to update its variables and orchestrates passing values of variables between all components.  If the components use different time steps, EMELI will automatically apply temporal interpolation.  For additional flexibility, a component can be disabled by setting a flag in its CFG file.  Disabled components are still instantiated but return only default values and do not perform any computation.\n",
    "\n",
    "Provider files are very simple.  Here is an example that has the filename:  June_20_67_providers.txt.  The comments at the top are ignored, but show you the names of the components that are available for each hydrologic process."
   ]
  },
  {
   "cell_type": "markdown",
   "metadata": {},
   "source": [
    "<pre style=\"margin-left:0px;margin-top:0px\">\n",
    "# Available provider components by comp_type:\n",
    "#\n",
    "#     meteorology:   tf_meteorology\n",
    "#     channnels:     tf_channels_kin_wave, tf_channels_diff_wave, tf_channels_dynam_wave\n",
    "#     snow:          tf_snow_degree_day, tf_snow_energy_balance\n",
    "#     evap:          tf_evap_priestley_taylor, tf_evap_energy_balance, tf_evap_read_file\n",
    "#     infil:         tf_infil_green_ampt, tf_infil_smith_parlange, tf_infil_richards_1d, tf_infil_beven\n",
    "#     satzone:       tf_satzone_darcy_layers\n",
    "#     diversions:    tf_diversions_fraction_method\n",
    "#     ice:           tf_ice_gc2d\n",
    "#     hydro_model:   topoflow_driver\n",
    "#     data:          tf_data_his\n",
    "#     LEM:           erode_d8_global, erode_d8_local, dem_smoother\n",
    "#     D8:            d8_global, d8_local\n",
    "#\n",
    "#----------------------------\n",
    "# comp_type     component\n",
    "#----------------------------\n",
    "meteorology     tf_meteorology\n",
    "diversions      tf_diversions_fraction_method\n",
    "channels        tf_channels_kin_wave\n",
    "snow            tf_snow_degree_day\n",
    "satzone         tf_satzone_darcy_layers\n",
    "evap            tf_evap_priestley_taylor\n",
    "infil           tf_infil_green_ampt\n",
    "ice             tf_ice_gc2d\n",
    "hydro_model     topoflow_driver\n",
    "</pre>"
   ]
  },
  {
   "cell_type": "markdown",
   "metadata": {},
   "source": [
    "## TopoFlow Input Files and Data Preparation  <a id=\"data_prep\"></a>"
   ]
  },
  {
   "cell_type": "markdown",
   "metadata": {},
   "source": [
    "TopoFlow requires many different input files, depending on which components are selected.  There is another Jupyter notebook called\n",
    "<a href=\"https://github.com/peckhams/topoflow36/blob/master/TopoFlow_Utils_Demo1.ipynb\">\n",
    "<b>TopoFlow_Utils_Demo1.ipynb</b></a>\n",
    "that shows how to use TopoFlow utilities to prepare most of these input files.\n",
    "\n",
    "TopoFlow uses a <b>site_prefix</b> for all of the filenames in a data set that pertain to the geographic location (the \"site\"). These files describe static properties of the location, such as topography and soil. The site prefix is often the name of a river basin, such as \"Baro_Gam_1min\" for the Baro River with mouth near Gambella, Ethiopia.\n",
    "\n",
    "Topoflow uses a <b>case_prefix</b> for all of the filenames in a data set that describe a particular model scenario (the \"case\" under consideration). These files describe things that can change from one model run to the next for the same site. Note that component CFG filenames always start with the case prefix.  A case prefix might be named after a particular storm event, such as \"June_20_67\", or something simple like \"Case1\" or \"Test1\".  All output filenames start with the case prefix.\n",
    "\n",
    "There are a couple of special CFG files that are not associated with any single process model component.  One of these is called: <b>CASE_PREFIX_path_info.cfg</b>, which is a simple \"key-value\" text file.  It is where you specify input and output directories for a model run, along with the site_prefix and case_prefix.  Here is an example:"
   ]
  },
  {
   "cell_type": "markdown",
   "metadata": {},
   "source": [
    "<pre style=\"margin-left:0px;margin-top:0px\">\n",
    "#===============================================================================\n",
    "# TopoFlow Config File for: Path_Information\n",
    "#===============================================================================\n",
    "in_directory   | .                      | string  | input directory\n",
    "out_directory  | ~/TF_Output/Treynor    | string  | output directory\n",
    "site_prefix    | Treynor                | string  | file prefix for the study site\n",
    "case_prefix    | June_20_67             | string  | file prefix for the model scenario\n",
    "</pre>"
   ]
  },
  {
   "cell_type": "markdown",
   "metadata": {},
   "source": [
    "<b>Note:</b> TopoFlow 3.6 now supports storing files that are derived from or related to the topography in a separate folder called <b>\\__topo</b>, within the CFG directory.  The presence or absence of this separate folder will be automatically detected by TopoFlow. Similarly, soil data files can be put in a separate folder called <b>\\__soil</b>, and meteorology-related files can be put in a separate folder called <b>\\__met</b>.  No changes to CFG files (including CASE_PREFIX_path_info.cfg) are necessary to use this new feature."
   ]
  },
  {
   "cell_type": "markdown",
   "metadata": {},
   "source": [
    "## TopoFlow Output Files and Visualization  <a id=\"output_files\"></a>"
   ]
  },
  {
   "cell_type": "markdown",
   "metadata": {},
   "source": [
    "TopoFlow stores values of output variables in multiple file formats, but the main one is <b>netCDF format</b>.  There is another Jupyter notebook called\n",
    "<a href=\"https://github.com/peckhams/topoflow36/blob/master/TopoFlow_Visualization_v2.ipynb\">\n",
    "<b>TopoFlow_Visualization_v2.ipynb</b></a>\n",
    "that shows how to read values of variables from TopoFlow netCDF output files and to then visualize them.\n",
    "\n",
    "In a model component's CFG file, there are toggles that determine which variables are to be written to files, and how often.  Since TopoFlow is a spatial hydrologic model, most variables are computed on a grid (2D array) that changes with each model time step.  Users can choose to write out this entire grid to a file at some time interval (save_grid_dt), and/or they can write out values for specific grid cells (0D) within the grid at some other time interval (save_pixels_dt).\n",
    "\n",
    "<b>Important Note:</b> TopoFlow will never overwrite an output file that already exists in a given directory, but will instead append \"_1\", \"_2\", \"_3\" etc. to the output filename, just before the extension.  So if you repeat a model run multiple times, you will accumulate many files in the output directory, and the ones with the highest-numbered suffix (and most recent date/time stamp) will be the most recent set.  This is a potential \"gotcha\" when visualizing or analysing model output.\n",
    "\n",
    "<b>The Log File.</b>  The \"final report\" information you see printed to the session window at the end of a model run are also saved in a file called:  <b>CASE_PREFIX.log</b>, in the output directory.  \n",
    "\n",
    "The various types of TopoFlow output can be summarized as follows.  In each case, the output file contains values of some variable (say V) that <b>vary in time</b>, that is, a <b>series</b>.  Output filenames start with the <b>case prefix</b>.  The dimensionality of the output is indicated in the output file name with \"0D_\", \"1D_\", \"2D_\" or \"3D_\" followed by a variable name abbreviation (e.g. \"Q\" or \"d-flood\").\n",
    "\n",
    "<b>0D = Time series</b> (or Point series) <br>\n",
    "Scalar values of V, at one or more model grid cells. <br>\n",
    "Formats:  (1) netCDF, and (2) multi-column text (i.e. CSV) <br>\n",
    "Utility:  topoflow/utils/ncts_files.py <br>\n",
    "Example:  river depth over time for given grid cell <br>\n",
    "Note:     monitored grid cells are specified in [case_prefix]_outlets.txt. <br>\n",
    "\n",
    "<b>1D = Profile series</b> <br>\n",
    "A 1D array of values of V, at one or more grid cells . <br>\n",
    "Formats: (1) netCDF<br>\n",
    "Utility:  topoflow/utils/ncps_files.py<br>\n",
    "Example:  1D, vertical slice of a 3D array (e.g. soil moisture profile) <br>\n",
    "Note:     Chosen grid cells are specified in [case_prefix]_outlets.txt. <br>\n",
    "\n",
    "<b>2D = Grid series (or stack)</b> <br>\n",
    "A 2D array of values of V, for the entire model grid (all cells).<br>\n",
    "Formats:  (1) netCDF, (2) RTS, (3) BOV <br>\n",
    "Utility:  topoflow/utils/ncgs_files.py <br>\n",
    "Example:  river discharges for the entire model grid <br>\n",
    "\n",
    "<b>3D = \"Cube\" series</b> <br>\n",
    "A 3D array of values of V, for entire model grid and various depths.<br>\n",
    "Formats:  (1) netCDF <br>\n",
    "Utility:  topoflow/utils/nccs_files.py <br>\n",
    "Example:  3D array of subsurface soil moisture (grid + depth). <br>\n"
   ]
  },
  {
   "cell_type": "markdown",
   "metadata": {},
   "source": [
    "## Running Simulations for the Treynor River in Iowa<a id=\"treynor_sim\"></a>"
   ]
  },
  {
   "cell_type": "markdown",
   "metadata": {},
   "source": [
    "The TopoFlow 3.6 Python package includes all of the input files required to run various tests in the <b>examples</b> folder.  In this section we show how to run some of these tests using files in the <b>topoflow/examples/Treynor_Iowa_30m</b> folder.\n",
    "\n",
    "On June 7, 1967 and on June 20, 1967, this river basin experienced two intense rainstorms, each with a probability of occurring only once in every 100 years. The figures below show the measured rainfall rates, the measured river discharge, and the river discharge predicted by TopoFlow for each of these storms.\n"
   ]
  },
  {
   "attachments": {
    "Results_6_20_67_Storm.gif": {
     "image/gif": "[encoded data removed]"
    },
    "Results_6_7_67_Storm.gif": {
     "image/gif": "[encoded data removed]"
    }
   },
   "cell_type": "markdown",
   "metadata": {},
   "source": [
    "<table>\n",
    "    <tr>\n",
    "    <td> <img src=\"attachment:Results_6_7_67_Storm.gif\">\n",
    "    <td> <img src=\"attachment:Results_6_20_67_Storm.gif\">\n",
    "    </tr>\n",
    "</table>"
   ]
  },
  {
   "cell_type": "markdown",
   "metadata": {},
   "source": [
    "<b>Figure</b>. Comparison of river discharge (hydrograph) at the outlet of the Treynor watershed predicted by TopoFlow to measured values during two 100-year storms that occurred in June of 1967.  The red curve shows rainfall rates (hyetograph) during the storms."
   ]
  },
  {
   "cell_type": "markdown",
   "metadata": {},
   "source": [
    "### June 7, 1967 Rain Storm"
   ]
  },
  {
   "cell_type": "markdown",
   "metadata": {},
   "source": [
    "First we will perform a model run for the June 7, 1967 storm.  All of the input files for this river basin and this rainfall event are included as sample data in the TopoFlow 3.6 package, in the folder: <b>examples/Treynor_Iowa_30m/</b>.\n",
    "\n",
    "We begin by importing two required TopoFlow modules that we will use for all of the model runs."
   ]
  },
  {
   "cell_type": "code",
   "execution_count": 9,
   "metadata": {},
   "outputs": [],
   "source": [
    "from topoflow.framework import emeli\n",
    "examples_dir  = emeli.paths['examples']\n",
    "cfg_directory = examples_dir  + 'Treynor_Iowa_30m/'\n",
    "\n",
    "from topoflow import main\n",
    "time_interp_method = 'None'\n",
    "# time_interp_method = 'Linear'"
   ]
  },
  {
   "cell_type": "code",
   "execution_count": 10,
   "metadata": {},
   "outputs": [
    {
     "name": "stdout",
     "output_type": "stream",
     "text": [
      "Reading info from provider_file:\n",
      "    /Users/peckhams/Dropbox/TopoFlow_3.6/topoflow/examples/Treynor_Iowa_30m/__No_Infil_June_07_67_rain/June_07_67_providers.txt\n",
      "Reading info from comp_repo_file:\n",
      "    /Users/peckhams/Dropbox/TopoFlow_3.6/topoflow/framework/component_repository.xml\n",
      " \n",
      "Instantiated component: tf_meteorology\n",
      "Instantiated component: tf_diversions_fraction_method\n",
      "Instantiated component: tf_channels_kin_wave\n",
      "Instantiated component: tf_snow_degree_day\n",
      "Instantiated component: tf_satzone_darcy_layers\n",
      "Instantiated component: tf_evap_priestley_taylor\n",
      "Instantiated component: tf_infil_green_ampt\n",
      "Instantiated component: tf_ice_gc2d\n",
      "Instantiated component: topoflow_driver\n",
      " \n",
      "Meteorology component: Initializing...\n",
      "In met_base read_input_files():\n",
      "   time = 0.0\n",
      "   min(P) = 45.720001220703125 [mmph]\n",
      "   max(P) = 45.720001220703125 [mmph]\n",
      " \n",
      "SORRY: Cannot yet create lon and lat grids for\n",
      "       this DEM because it uses UTM coordinates.\n",
      "       Will use lat/lon for Denver, Colorado.\n",
      " \n",
      "Imported netCDF4 version: 1.4.2\n",
      "Initialized component: tf_meteorology.\n",
      " \n",
      "Diversions component: Initializing...\n",
      "Diversions component: Disabled in CFG file.\n",
      "Initialized component: tf_diversions_fraction_method.\n",
      " \n",
      "Channels component: Initializing...\n",
      "CHANNELS calling initialize_d8_vars()...\n",
      "Reading grid values...\n",
      "Finished reading grid from:\n",
      "  /Users/peckhams/Dropbox/TopoFlow_3.6/topoflow/examples/Treynor_Iowa_30m/__topo/Treynor_DEM.rtg\n",
      "Imported netCDF4 version: 1.4.2\n",
      "D8 component: Updating...\n",
      "Updating D8 flow grid...\n",
      "   update_d8_codes(): Initializing grid...\n",
      "   --------------------------------------------\n",
      "   Data type of flow grid at start = int16\n",
      "   Number of flats         = 2\n",
      "   Number of 1-pixel pits  = 5\n",
      "   Number of nodata/NaN    = 0\n",
      "   min(codes), max(codes)  = -8, 128\n",
      "   --------------------------------------------\n",
      "   update_d8_codes(): Breaking ties...\n",
      "   update_d8_codes(): Linking flats...\n",
      "   Number of iterations = 1 (in link_flats())\n",
      "Updating flow width grid...\n",
      "    min(dw), max(dw) = 30.0, 42.426407 [m]\n",
      "Updating flow length grid...\n",
      "    min(ds), max(ds) = 30.0, 42.426407 [m]\n",
      "Updating upstream area grid...\n",
      "    min(A), max(A) = 0.0, 0.49860007 [km^2]\n",
      "    Number of iterations = 41\n",
      "CHANNELS calling read_input_files()...\n",
      "CHANNELS calling set_computed_input_vars()...\n",
      "CHANNELS calling initialize_computed_vars()...\n",
      "    min(nval) = 0.029999999329447746\n",
      "    max(nval) = 0.1599999964237213\n",
      "    min(width)      = 2.0239880084991455\n",
      "    max(width)      = 42.42640686035156\n",
      "    min(angle)      = 0.0 [deg]\n",
      "    max(angle)      = 0.0 [deg]\n",
      "    min(sinuosity)  = 1.0\n",
      "    max(sinuosity)  = 1.0\n",
      "    min(init_depth) = 0.0\n",
      "    max(init_depth) = 0.0\n",
      "Initializing u, f, d grids...\n",
      "Total number of slope values = 1276\n",
      "Number of nonpositive values = 144\n",
      "Number of NaN values         = 0\n",
      "Number of infinite values    = 0\n",
      "-------------------------------------------------\n",
      "WARNING: Zero, negative or NaN slopes found.\n",
      "         Replacing them with smallest slope.\n",
      "         Use \"new_slopes.py\" instead.\n",
      "         min(S) = 0.0005594889516942203\n",
      "         max(S) = 0.1964670866727829\n",
      "-------------------------------------------------\n",
      " \n",
      "Imported netCDF4 version: 1.4.2\n",
      "Initialized component: tf_channels_kin_wave.\n",
      " \n",
      "Snow component: Initializing...\n",
      "Snow component: Disabled in CFG file.\n",
      "Initialized component: tf_snow_degree_day.\n",
      " \n",
      "Groundwater component: Initializing...\n",
      "Groundwater component: Disabled in CFG file.\n",
      "Initialized component: tf_satzone_darcy_layers.\n",
      " \n",
      "Evaporation component: Initializing...\n",
      "Evaporation component: Disabled in CFG file.\n",
      "Initialized component: tf_evap_priestley_taylor.\n",
      " \n",
      "Infiltration component: Initializing...\n",
      "Infiltration component: Disabled in CFG file.\n",
      "Initialized component: tf_infil_green_ampt.\n",
      " \n",
      "Ice component: Initializing...\n",
      "Ice component: Disabled in CFG file.\n",
      "Initialized component: tf_ice_gc2d.\n",
      "TopoFlow component: Initializing...\n",
      "Setting stop method to: Q_peak_fraction\n",
      "Opening log file:\n",
      "    log_file = /Users/peckhams/TF_Output/Treynor/June_07_67.log\n",
      " \n",
      "Starting TopoFlow model run...\n",
      "------------------------------------------------------------\n",
      "Initialized component: topoflow_driver.\n",
      "Driver component name = topoflow_driver\n",
      " \n",
      "Original component time step sizes =\n",
      "    tf_meteorology = 60.0 [seconds]\n",
      "    tf_diversions_fraction_method is Disabled.\n",
      "    tf_channels_kin_wave = 6.0 [seconds]\n",
      "    tf_snow_degree_day is Disabled.\n",
      "    tf_satzone_darcy_layers is Disabled.\n",
      "    tf_evap_priestley_taylor is Disabled.\n",
      "    tf_infil_green_ampt is Disabled.\n",
      "    tf_ice_gc2d is Disabled.\n",
      "    topoflow_driver = 6.0 [seconds]\n",
      "Converting all time step units to seconds...\n",
      "Component with smallest time step is: tf_channels_kin_wave\n",
      " \n",
      "Time interpolation method = None\n",
      " \n",
      "Will print values every 0.5 seconds.\n",
      "Reached end of precip file:\n",
      "  P set to 0 by met_base.read_input_files().\n",
      "  time = 26.0 minutes.\n",
      "Time =      26.20 [min],  Q_out =    8.26056 [m^3/s]\n",
      "Time =      54.00 [min],  Q_out =    0.99145 [m^3/s]\n",
      "Stopping: Reached Q_peak fraction = 0.05.\n",
      "\n",
      "Meteorology component: Finished.\n",
      "Diversions component: Finished.\n",
      "Channels component: Finished.\n",
      "Snow component: Finished.\n",
      "Groundwater component: Finished.\n",
      "Evaporation component: Finished.\n",
      "Infiltration component: Finished.\n",
      "Ice component: Finished.\n",
      "=======================\n",
      "Simulation complete.\n",
      "=======================\n",
      " \n",
      "------------------------------------------------------------\n",
      "TopoFlow Version 3.6 (5/3/20)\n",
      "Wed May 13 13:02:17 2020\n",
      " \n",
      "Input directory:      /Users/peckhams/Dropbox/TopoFlow_3.6/topoflow/examples/Treynor_Iowa_30m/\n",
      "Output directory:     /Users/peckhams/TF_Output/Treynor/\n",
      "Site prefix:          Treynor\n",
      "Case prefix:          June_07_67\n",
      " \n",
      "Simulated time:      65.3 [min]\n",
      "Program run time:    1.2066633701324463 [sec]\n",
      " \n",
      "Number of timesteps: 653\n",
      "Number of columns:   29\n",
      "Number of rows:      44\n",
      " \n",
      "Main outlet ID:    (34, 16) (row, col)\n",
      "Basin_area:        0.396 [km^2] \n",
      " \n",
      "Min Manning's n:   0.029999999329447746\n",
      "Max Manning's n:   0.1599999964237213\n",
      " \n",
      "Q_final:           0.5719488285614365 [m^3/s]\n",
      "Q_peak:            11.472198843424612 [m^3/s]\n",
      "Q_peak_time:       19.8 [min]\n",
      "u_peak:            1.5950987016451459 [m/s]\n",
      "u_peak_time:       19.7 [min]\n",
      "d_peak:            0.7606350429775918 [m]\n",
      "d_peak_time:       19.7 [min]\n",
      " \n",
      "Max(precip rate):  175.25999450683594 [mm/hr]\n",
      " \n",
      "Total accumulated volumes over entire DEM:\n",
      "vol_P    (precip):        45795.76655639649 [m^3]   (incl. leq snowfall)\n",
      "vol_Q    (discharge):     14502.658852015446 [m^3]   (main basin outlet)\n",
      "vol_SM   (snowmelt):      0.0 [m^3]\n",
      "vol_MR   (icemelt):       0.0 [m^3]\n",
      "vol_ET   (evaporation):   0.0 [m^3]\n",
      "vol_IN   (infiltration):  0.0 [m^3]\n",
      "vol_Rg   (recharge):      0.0 [m^3]   (bottom loss)\n",
      "vol_GW   (baseflow):      0.0 [m^3]\n",
      "vol_R    (runoff):        45795.76655639635 [m^3]  R = (P+SM+MR) - (ET+IN)\n",
      "vol_soil (infiltration):  0.0 [m^3]  (change in storage)\n",
      "vol_chan (channels):      3331.7206815338423 [m^3]\n",
      "vol_land (surface):       0.0 [m^3]\n",
      "vol_swe  (snowpack):      0.0 [m^3]\n",
      " \n",
      "Final grid mins and maxes:\n",
      "Min(Q), Max(Q):   0.0002, 0.8404 [m^3/s]\n",
      "Min(u), Max(u):   0.0135, 1.1577 [m/s]\n",
      "Min(d), Max(d):   0.0005, 0.2402 [m]\n",
      " \n",
      "Finished.  (June_07_67)\n",
      " \n"
     ]
    }
   ],
   "source": [
    "# Run this cell to run the model\n",
    "cfg_prefix    = 'June_07_67'\n",
    "cfg_dir = cfg_directory + '__No_Infil_June_07_67_rain/'\n",
    "main.run_model(cfg_prefix=cfg_prefix, cfg_directory=cfg_dir,\n",
    "               time_interp_method=time_interp_method)"
   ]
  },
  {
   "cell_type": "markdown",
   "metadata": {},
   "source": [
    "### June 20, 1967 Rain Storm"
   ]
  },
  {
   "cell_type": "markdown",
   "metadata": {},
   "source": [
    "Next, we perform a model run for the June 20, 1967 storm.  All of the input files for this river basin and this rainfall event are also included as sample data in the TopoFlow 3.6 package, in the folder: <b>examples/Treynor_Iowa_30m/</b>."
   ]
  },
  {
   "cell_type": "code",
   "execution_count": 11,
   "metadata": {},
   "outputs": [
    {
     "name": "stdout",
     "output_type": "stream",
     "text": [
      "Reading info from provider_file:\n",
      "    /Users/peckhams/Dropbox/TopoFlow_3.6/topoflow/examples/Treynor_Iowa_30m/__No_Infil_June_20_67_rain/June_20_67_providers.txt\n",
      "Reading info from comp_repo_file:\n",
      "    /Users/peckhams/Dropbox/TopoFlow_3.6/topoflow/framework/component_repository.xml\n",
      " \n",
      "Instantiated component: tf_meteorology\n",
      "Instantiated component: tf_diversions_fraction_method\n",
      "Instantiated component: tf_channels_kin_wave\n",
      "Instantiated component: tf_snow_degree_day\n",
      "Instantiated component: tf_satzone_darcy_layers\n",
      "Instantiated component: tf_evap_priestley_taylor\n",
      "Instantiated component: tf_infil_green_ampt\n",
      "Instantiated component: tf_ice_gc2d\n",
      "Instantiated component: topoflow_driver\n",
      " \n",
      "Meteorology component: Initializing...\n",
      "In met_base read_input_files():\n",
      "   time = 0.0\n",
      "   min(P) = 5.587999820709228 [mmph]\n",
      "   max(P) = 5.587999820709228 [mmph]\n",
      " \n",
      "------------------------------------------\n",
      " NOTE: Since PRECIP_ONLY = True, output\n",
      "       variables for met component will\n",
      "       not be computed or saved to files.\n",
      "       And evap component may not work.\n",
      "------------------------------------------\n",
      " \n",
      "SORRY: Cannot yet create lon and lat grids for\n",
      "       this DEM because it uses UTM coordinates.\n",
      "       Will use lat/lon for Denver, Colorado.\n",
      " \n",
      "Initialized component: tf_meteorology.\n",
      " \n",
      "Diversions component: Initializing...\n",
      "Diversions component: Disabled in CFG file.\n",
      "Initialized component: tf_diversions_fraction_method.\n",
      " \n",
      "Channels component: Initializing...\n",
      "CHANNELS calling initialize_d8_vars()...\n",
      "Reading grid values...\n",
      "Finished reading grid from:\n",
      "  /Users/peckhams/Dropbox/TopoFlow_3.6/topoflow/examples/Treynor_Iowa_30m/__topo/Treynor_DEM.rtg\n",
      "Imported netCDF4 version: 1.4.2\n",
      "D8 component: Updating...\n",
      "Updating D8 flow grid...\n",
      "   update_d8_codes(): Initializing grid...\n",
      "   --------------------------------------------\n",
      "   Data type of flow grid at start = int16\n",
      "   Number of flats         = 2\n",
      "   Number of 1-pixel pits  = 5\n",
      "   Number of nodata/NaN    = 0\n",
      "   min(codes), max(codes)  = -8, 128\n",
      "   --------------------------------------------\n",
      "   update_d8_codes(): Breaking ties...\n",
      "   update_d8_codes(): Linking flats...\n",
      "   Number of iterations = 1 (in link_flats())\n",
      "Updating flow width grid...\n",
      "    min(dw), max(dw) = 30.0, 42.426407 [m]\n",
      "Updating flow length grid...\n",
      "    min(ds), max(ds) = 30.0, 42.426407 [m]\n",
      "Updating upstream area grid...\n",
      "    min(A), max(A) = 0.0, 0.49860007 [km^2]\n",
      "    Number of iterations = 41\n",
      "CHANNELS calling read_input_files()...\n",
      "CHANNELS calling set_computed_input_vars()...\n",
      "CHANNELS calling initialize_computed_vars()...\n",
      "    min(nval) = 0.029999999329447746\n",
      "    max(nval) = 0.1599999964237213\n",
      "    min(width)      = 2.0239880084991455\n",
      "    max(width)      = 42.42640686035156\n",
      "    min(angle)      = 0.0 [deg]\n",
      "    max(angle)      = 0.0 [deg]\n",
      "    min(sinuosity)  = 1.0\n",
      "    max(sinuosity)  = 1.0\n",
      "    min(init_depth) = 0.0\n",
      "    max(init_depth) = 0.0\n",
      "Initializing u, f, d grids...\n",
      "Total number of slope values = 1276\n",
      "Number of nonpositive values = 144\n",
      "Number of NaN values         = 0\n",
      "Number of infinite values    = 0\n",
      "-------------------------------------------------\n",
      "WARNING: Zero, negative or NaN slopes found.\n",
      "         Replacing them with smallest slope.\n",
      "         Use \"new_slopes.py\" instead.\n",
      "         min(S) = 0.0005594889516942203\n",
      "         max(S) = 0.1964670866727829\n",
      "-------------------------------------------------\n",
      " \n",
      "Imported netCDF4 version: 1.4.2\n",
      "Initialized component: tf_channels_kin_wave.\n",
      " \n",
      "Snow component: Initializing...\n",
      "Snow component: Disabled in CFG file.\n",
      "Initialized component: tf_snow_degree_day.\n",
      " \n",
      "Groundwater component: Initializing...\n",
      "Groundwater component: Disabled in CFG file.\n",
      "Initialized component: tf_satzone_darcy_layers.\n",
      " \n",
      "Evaporation component: Initializing...\n",
      "Evaporation component: Disabled in CFG file.\n",
      "Initialized component: tf_evap_priestley_taylor.\n",
      " \n",
      "Infiltration component: Initializing...\n",
      "Infiltration component: Disabled in CFG file.\n",
      "Initialized component: tf_infil_green_ampt.\n",
      " \n",
      "Ice component: Initializing...\n",
      "Ice component: Disabled in CFG file.\n",
      "Initialized component: tf_ice_gc2d.\n",
      "TopoFlow component: Initializing...\n",
      "Setting stop method to: Q_peak_fraction\n",
      "Opening log file:\n",
      "    log_file = /Users/peckhams/TF_Output/Treynor/June_20_67.log\n",
      " \n",
      "Starting TopoFlow model run...\n",
      "------------------------------------------------------------\n",
      "Initialized component: topoflow_driver.\n",
      "Driver component name = topoflow_driver\n",
      " \n",
      "Original component time step sizes =\n",
      "    tf_meteorology = 60.0 [seconds]\n",
      "    tf_diversions_fraction_method is Disabled.\n",
      "    tf_channels_kin_wave = 6.0 [seconds]\n",
      "    tf_snow_degree_day is Disabled.\n",
      "    tf_satzone_darcy_layers is Disabled.\n",
      "    tf_evap_priestley_taylor is Disabled.\n",
      "    tf_infil_green_ampt is Disabled.\n",
      "    tf_ice_gc2d is Disabled.\n",
      "    topoflow_driver = 6.0 [seconds]\n",
      "Converting all time step units to seconds...\n",
      "Component with smallest time step is: tf_channels_kin_wave\n",
      " \n",
      "Time interpolation method = None\n",
      " \n",
      "Will print values every 0.5 seconds.\n",
      "Time =      23.10 [min],  Q_out =    3.33886 [m^3/s]\n",
      "Time =      45.00 [min],  Q_out =   13.14677 [m^3/s]\n",
      "Time =      64.90 [min],  Q_out =   10.03691 [m^3/s]\n",
      "Time =      87.00 [min],  Q_out =    7.99254 [m^3/s]\n",
      "Time =     110.00 [min],  Q_out =    5.69472 [m^3/s]\n",
      "Time =     132.90 [min],  Q_out =    2.78078 [m^3/s]\n",
      "Time =     157.00 [min],  Q_out =    1.09101 [m^3/s]\n",
      "Stopping: Reached Q_peak fraction = 0.05.\n",
      "\n",
      "Meteorology component: Finished.\n",
      "Diversions component: Finished.\n",
      "Channels component: Finished.\n",
      "Snow component: Finished.\n",
      "Groundwater component: Finished.\n",
      "Evaporation component: Finished.\n",
      "Infiltration component: Finished.\n",
      "Ice component: Finished.\n",
      "=======================\n",
      "Simulation complete.\n",
      "=======================\n",
      " \n",
      "------------------------------------------------------------\n",
      "TopoFlow Version 3.6 (5/3/20)\n",
      "Wed May 13 13:02:41 2020\n",
      " \n",
      "Input directory:      /Users/peckhams/Dropbox/TopoFlow_3.6/topoflow/examples/Treynor_Iowa_30m/\n",
      "Output directory:     /Users/peckhams/TF_Output/Treynor/\n",
      "Site prefix:          Treynor\n",
      "Case prefix:          June_20_67\n",
      " \n",
      "Simulated time:      167.5 [min]\n",
      "Program run time:    3.718194007873535 [sec]\n",
      " \n",
      "Number of timesteps: 1675\n",
      "Number of columns:   29\n",
      "Number of rows:      44\n",
      " \n",
      "Main outlet ID:    (34, 16) (row, col)\n",
      "Basin_area:        0.396 [km^2] \n",
      " \n",
      "Min Manning's n:   0.029999999329447746\n",
      "Max Manning's n:   0.1599999964237213\n",
      " \n",
      "Q_final:           0.7456562661976448 [m^3/s]\n",
      "Q_peak:            14.954556009800292 [m^3/s]\n",
      "Q_peak_time:       38.8 [min]\n",
      "u_peak:            1.7557277550890078 [m/s]\n",
      "u_peak_time:       38.7 [min]\n",
      "d_peak:            0.9008107794391795 [m]\n",
      "d_peak_time:       38.7 [min]\n",
      " \n",
      "Max(precip rate):  165.86199951171875 [mm/hr]\n",
      " \n",
      "Total accumulated volumes over entire DEM:\n",
      "vol_P    (precip):        178769.28208053578 [m^3]   (incl. leq snowfall)\n",
      "vol_Q    (discharge):     60014.66651714472 [m^3]   (main basin outlet)\n",
      "vol_SM   (snowmelt):      0.0 [m^3]\n",
      "vol_MR   (icemelt):       0.0 [m^3]\n",
      "vol_ET   (evaporation):   0.0 [m^3]\n",
      "vol_IN   (infiltration):  0.0 [m^3]\n",
      "vol_Rg   (recharge):      0.0 [m^3]   (bottom loss)\n",
      "vol_GW   (baseflow):      0.0 [m^3]\n",
      "vol_R    (runoff):        178744.97428090393 [m^3]  R = (P+SM+MR) - (ET+IN)\n",
      "vol_soil (infiltration):  0.0 [m^3]  (change in storage)\n",
      "vol_chan (channels):      4153.8441918966455 [m^3]\n",
      "vol_land (surface):       0.0 [m^3]\n",
      "vol_swe  (snowpack):      0.0 [m^3]\n",
      " \n",
      "Final grid mins and maxes:\n",
      "Min(Q), Max(Q):   0.0008, 1.0407 [m^3/s]\n",
      "Min(u), Max(u):   0.0166, 1.2988 [m/s]\n",
      "Min(d), Max(d):   0.0007, 0.2774 [m]\n",
      " \n",
      "Finished.  (June_20_67)\n",
      " \n"
     ]
    }
   ],
   "source": [
    "# Run this cell to run the model\n",
    "cfg_prefix = 'June_20_67'\n",
    "cfg_dir = cfg_directory + '__No_Infil_June_20_67_rain/'\n",
    "main.run_model(cfg_prefix=cfg_prefix, cfg_directory=cfg_dir,\n",
    "               time_interp_method=time_interp_method)"
   ]
  },
  {
   "cell_type": "markdown",
   "metadata": {},
   "source": [
    "## Uniform Rainfall, Rate 30 mmph, for 75 minutes (scalar type)"
   ]
  },
  {
   "cell_type": "code",
   "execution_count": null,
   "metadata": {},
   "outputs": [],
   "source": [
    "# Run this cell to run the model\n",
    "cfg_prefix = 'Test1'\n",
    "cfg_dir = cfg_directory + '__Richards_1layer_30mmph_75min_rain_scalar/'\n",
    "main.run_model(cfg_prefix=cfg_prefix, cfg_directory=cfg_dir,\n",
    "               time_interp_method=time_interp_method)"
   ]
  },
  {
   "cell_type": "markdown",
   "metadata": {},
   "source": [
    "## Uniform Rainfall, Rate 30 mmph, for 75 minutes (time series type)"
   ]
  },
  {
   "cell_type": "code",
   "execution_count": null,
   "metadata": {},
   "outputs": [],
   "source": [
    "# Run this cell to run the model\n",
    "cfg_prefix = 'Test1'\n",
    "cfg_dir = cfg_directory + '__Richards_1layer_30mmph_75min_rain_series/'\n",
    "main.run_model(cfg_prefix=cfg_prefix, cfg_directory=cfg_dir,\n",
    "               time_interp_method=time_interp_method)"
   ]
  },
  {
   "cell_type": "markdown",
   "metadata": {},
   "source": [
    "## Uniform Rainfall, Rate 30 mmph, for 75 minutes (grid type)"
   ]
  },
  {
   "cell_type": "code",
   "execution_count": null,
   "metadata": {},
   "outputs": [],
   "source": [
    "# Run this cell to run the model\n",
    "cfg_prefix = 'Test1'\n",
    "cfg_dir = cfg_directory + '__Richards_1layer_30mmph_75min_rain_grid/'\n",
    "main.run_model(cfg_prefix=cfg_prefix, cfg_directory=cfg_dir,\n",
    "               time_interp_method=time_interp_method)"
   ]
  },
  {
   "cell_type": "markdown",
   "metadata": {},
   "source": [
    "## Uniform Rainfall, Rate 30 mmph, for 75 minutes (grid stack type)"
   ]
  },
  {
   "cell_type": "code",
   "execution_count": null,
   "metadata": {},
   "outputs": [],
   "source": [
    "# Run this cell to run the model\n",
    "cfg_prefix = 'Test1'\n",
    "cfg_dir = cfg_directory + '__Richards_1layer_30mmph_75min_rain_stack/'\n",
    "main.run_model(cfg_prefix=cfg_prefix, cfg_directory=cfg_dir,\n",
    "               time_interp_method=time_interp_method)"
   ]
  },
  {
   "cell_type": "markdown",
   "metadata": {},
   "source": [
    "## Additional Tests  (not on GitHub yet)"
   ]
  },
  {
   "cell_type": "code",
   "execution_count": 12,
   "metadata": {
    "scrolled": false
   },
   "outputs": [],
   "source": [
    "# Run this cell to run the model\n",
    "#cfg_prefix = 'Test1'\n",
    "\n",
    "# These tests not ready yet\n",
    "# cfg_dir = cfg_directory + '__No_Infil_30mmph_scalar_rain/'\n",
    "# cfg_dir = cfg_directory + '__No_Infil_30mmph_series_rain/'\n",
    "# cfg_dir = cfg_directory + '__No_Infil_30mmph_grid_rain/'\n",
    "#--------------------------------------------------------------------------\n",
    "# These tests not ready yet\n",
    "# cfg_dir = cfg_directory + '__Richards_3layer_30mmph_scalar_rain/'\n",
    "# cfg_dir = cfg_directory + '__Richards_3layer_30mmph_series_rain/'\n",
    "# cfg_dir = cfg_directory + '__Richards_3layer_30mmph_grid_rain/'\n",
    "\n",
    "# main.run_model(cfg_prefix=cfg_prefix, cfg_directory=cfg_directory,\n",
    "#               time_interp_method=time_interp_method)"
   ]
  },
  {
   "cell_type": "markdown",
   "metadata": {},
   "source": [
    "## How to Calibrate TopoFlow <a id=\"calibration\"></a>"
   ]
  },
  {
   "cell_type": "markdown",
   "metadata": {},
   "source": [
    "Another Jupyter notebook that explains how to calibrate the TopoFlow model will be linked to this section soon."
   ]
  },
  {
   "cell_type": "markdown",
   "metadata": {},
   "source": [
    "## Other Jupyter Notebooks for TopoFlow 3.6  <a id=\"other_notebooks\"></a>"
   ]
  },
  {
   "cell_type": "markdown",
   "metadata": {},
   "source": [
    "Peckham, S.D. (2019) A Jupyter notebook to illustrate new data preparation utilities in TopoFlow 3.6.  https://github.com/peckhams/topoflow36/blob/master/TopoFlow_Utils_Demo1.ipynb.\n",
    "\n",
    "Peckham, S.D. (2019) A Jupyter notebook to create visualizations of model output from TopoFlow 3.6. (version 2) https://github.com/peckhams/topoflow36/blob/master/TopoFlow_Visualization_v2.ipynb.\n",
    "\n",
    "Peckham, S.D. (2020) A Jupyter notebook to check and explore the TopoFlow solar radiation utilities, which includes shortwave and longwave radiation calculators. (Only shows a few of the capabilities so far.)\n",
    "https://github.com/peckhams/topoflow36/blob/master/TopoFlow_Radiation.ipynb."
   ]
  },
  {
   "cell_type": "markdown",
   "metadata": {},
   "source": [
    "## HTML Help Pages for TopoFlow Components  <a id=\"html_help\"></a>"
   ]
  },
  {
   "cell_type": "markdown",
   "metadata": {},
   "source": [
    "Every TopoFlow component has its own HTML Help Page, which use the standard HTML Help template developed for the\n",
    "<a href=\"https://csdms.colorado.edu/wiki/Main_Page\"><b>CSDMS project</b></a>.\n",
    "This section provides direct links to all of these help pages."
   ]
  },
  {
   "cell_type": "markdown",
   "metadata": {},
   "source": [
    "<b>Channel Flow Process</b>\n",
    "<ul><li>\n",
    "<a href=\"https://csdms.colorado.edu/wiki/Model_help:TopoFlow-Channels-Kinematic_Wave\">\n",
    "    Kinematic Wave Method</a>, &nbsp;&nbsp;\n",
    "<a href=\"https://csdms.colorado.edu/wiki/Model_help:TopoFlow-Channels-Diffusive_Wave\">\n",
    "    Diffusive Wave Method</a>, &nbsp;&nbsp;\n",
    "<a href=\"https://csdms.colorado.edu/wiki/Model_help:TopoFlow-Channels-Dynamic_Wave\">\n",
    "    Dynamic Wave Method</a>\n",
    "</ul>\n",
    "\n",
    "<b>Infiltration Process</b>\n",
    "<ul><li>\n",
    "<a href=\"https://csdms.colorado.edu/wiki/Model_help:TopoFlow-Infiltration-Green-Ampt\">\n",
    "    Green-Ampt Method</a>, &nbsp;&nbsp;\n",
    "<a href=\"https://csdms.colorado.edu/wiki/Model_help:TopoFlow-Infiltration-Smith-Parlange\">\n",
    "    Smith-Parlange 3-Parameter Method</a>, &nbsp;&nbsp;\n",
    "<a href=\"https://csdms.colorado.edu/wiki/Model_help:TopoFlow-Infiltration-Richards_1D\">\n",
    "    Richards' 1D Equation Method</a>\n",
    "</ul>\n",
    "&nbsp;&nbsp;&nbsp;  Note:  There is also a \"Beven Method\" component, infil_beven.py.<br>\n",
    "\n",
    "<b>Evaporation Process</b>\n",
    "<ul><li>\n",
    "<a href=\"https://csdms.colorado.edu/wiki/Model_help:TopoFlow-Evaporation-Priestley_Taylor\">\n",
    "    Priestley-Taylor Method</a>, &nbsp;&nbsp;\n",
    "<a href=\"https://csdms.colorado.edu/wiki/Model_help:TopoFlow-Evaporation-Energy_Balance\">\n",
    "    Energy Balance Method</a>, &nbsp;&nbsp;\n",
    "<a href=\"https://csdms.colorado.edu/wiki/Model_help:TopoFlow-Evaporation-Read_File\">\n",
    "    Read File Method</a>\n",
    "</ul>\n",
    "\n",
    "<b>Snowmelt and Icemelt Process</b>\n",
    "<ul><li>\n",
    "<a href=\"https://csdms.colorado.edu/wiki/Model_help:TopoFlow-Snowmelt-Degree-Day\">\n",
    "    Degree-Day Snowmelt Method</a>, &nbsp;&nbsp;\n",
    "<a href=\"https://csdms.colorado.edu/wiki/Model_help:TopoFlow-Snowmelt-Energy_Balance\">\n",
    "    Energy-Balance Snowmelt Method</a>, &nbsp;&nbsp;\n",
    "<a href=\"https://csdms.colorado.edu/wiki/Model_help:Gc2d\">\n",
    "    GC2D Valley Glacier and Icemelt Model</a>, &nbsp;&nbsp;\n",
    "</ul>\n",
    "\n",
    "<b>Other Hydrologic Process Components</b>\n",
    "<ul><li>\n",
    "<a href=\"https://csdms.colorado.edu/wiki/Model_help:TopoFlow-Meteorology\">\n",
    "    Meteorology Component</a>, &nbsp;&nbsp;\n",
    "<a href=\"https://csdms.colorado.edu/wiki/Model_help:TopoFlow-Diversions\">\n",
    "    Flow Diversions (Fraction Method)</a>, &nbsp;&nbsp;\n",
    "<a href=\"https://csdms.colorado.edu/wiki/Model_help:TopoFlow-Saturated_Zone-Darcy_Layers\">\n",
    "    Saturated Zone (Darcy Layer Method)</a>, &nbsp;&nbsp;\n",
    "</ul>\n",
    "\n",
    "<b>Fluvial Landscape Evolution Models</b>\n",
    "<ul><li>\n",
    "<a href=\"https://csdms.colorado.edu/wiki/Model_help:Erode-D8-Global\">\n",
    "    Erode D8-Global</a>,  &nbsp;&nbsp;\n",
    "<a href=\"https://csdms.colorado.edu/wiki/Model:Erode-D8-Local\">\n",
    "    Erode D8-Local</a>\n",
    "</ul>    \n",
    " "
   ]
  },
  {
   "cell_type": "markdown",
   "metadata": {},
   "source": [
    "## Key References for TopoFlow  <a id=\"references\"></a>"
   ]
  },
  {
   "cell_type": "markdown",
   "metadata": {},
   "source": [
    "Peckham, S.D., M. Stoica, E.E. Jafarov, A. Endalamaw and W.R. Bolton (2017) Reproducible, component-based modeling with TopoFlow, a spatial hydrologic modeling toolkit, Earth and Space Science,4(6), 377-394, special issue: Geoscience Papers of the Future, American Geophysical Union, http://dx.doi.org/10.1002/2016EA000237.\n",
    "\n",
    "Peckham, S.D. (2009) Geomorphometry and spatial hydrologic modeling, In: Hengl, T. and Reuter, H.I. (Eds), Geomorphometry: Concepts, Software and Applications, Chapter 25, Developments in Soil Science, vol. 33, Elsevier, 579-602, http://dx.doi.org/10.1016/S0166-2481(08)00025-1.  (TopoFlow)\n",
    "\n",
    "Jiang, P., M. Elag, P. Kumar, S.D. Peckham, L. Marini, R. Liu (2017) A service-oriented architecture for coupling web service models using the Basic Model Interface (BMI), Environmental Modelling & Software, 92, 107-118, http://dx.doi.org/10.1016/j.envsoft.2017.01.021.\n",
    "\n",
    "Zhang, Z., D.L. Kane and L.D. Hinzman (2000) Development and application of a spatially-distributed Arctic hydrological and thermal process model (ARHYTHM),\n",
    "Hydrological Processes, 14(6), 1017-1044,\n",
    "<a href=\"https://doi.org/10.1002/(SICI)1099-1085(20000430)14:6<1017::AID-HYP982>3.0.CO;2-G\">\n",
    "    https://doi.org/10.1002/(SICI)1099-1085(20000430)14:6<1017::AID-HYP982>3.0.CO;2-G</a>.\n",
    "\n",
    "Peckham, S.D. (2014a) EMELI 1.0:  An experimental smart modeling framework for automatic coupling of self-describing models, Proceedings of HIC 2014, 11th International Conf. on Hydroinformatics, New York, NY. CUNY Academic Works, http://academicworks.cuny.edu/cc_conf_hic/464/.\n",
    "\n",
    "Peckham, S.D. (2014b) The CSDMS Standard Names:  Cross-domain naming conventions for describing process models, data sets and their associated variables, Proceedings of the 7th Intl. Congress on Env. Modelling and Software, International Environmental Modelling and Software Society (iEMSs), San Diego, CA. (Eds.  D.P. Ames, N.W.T. Quinn, A.E. Rizzoli),  Paper 12. http://scholarsarchive.byu.edu/iemssconference/2014/Stream-A/12/.\n",
    "\n",
    "Peckham, S.D., E.W.H. Hutton and B. Norris (2013) A component-based approach to integrated modeling in the geosciences: The Design of CSDMS, Computers & Geosciences, special issue: Modeling for Environmental Change, 53, 3-12, http://dx.doi.org/10.1016/j.cageo.2012.04.002.\n",
    "\n",
    "Peckham, S.D. (2018) Using the open-source TopoFlow Python package for extracting D8 grids from DEMs and for fluvial landscape evolution modeling, Proceedings of Geomorphometry 2018, Boulder, CO, pp. O-11-1 to O-11-4, http://2018.geomorphometry.org/Peckham_2018_geomorphometry.pdf\n"
   ]
  },
  {
   "cell_type": "code",
   "execution_count": null,
   "metadata": {},
   "outputs": [],
   "source": []
  }
 ],
 "metadata": {
  "kernelspec": {
   "display_name": "Python [conda env:tf36]",
   "language": "python",
   "name": "conda-env-tf36-py"
  },
  "language_info": {
   "codemirror_mode": {
    "name": "ipython",
    "version": 3
   },
   "file_extension": ".py",
   "mimetype": "text/x-python",
   "name": "python",
   "nbconvert_exporter": "python",
   "pygments_lexer": "ipython3",
   "version": "3.7.2"
  }
 },
 "nbformat": 4,
 "nbformat_minor": 2
}
