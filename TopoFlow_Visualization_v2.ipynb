{
 "cells": [
  {
   "cell_type": "markdown",
   "metadata": {},
   "source": [
    "# 2nd Notebook to Visualize TopoFlow Output\n",
    "\n",
    "### Table of Contents\n",
    "\n",
    "1.  <a href=\"#intro_C\">Introduction</a> <br>\n",
    "2.  <a href=\"#dirs_C\">Create Some Directories in Your Home Directory</a> <br>\n",
    "3.  <a href=\"#imports_C\">Import Required Python Packages</a> <br>\n",
    "4.  <a href=\"#show_rtg_C\">Show a Grid from an RTG File</a> <br>\n",
    "5.  <a href=\"#show_nc1_C\">Show a Grid from Grid Stack in a TF netCDF File</a> <br>\n",
    "6.  <a href=\"#show_rts1_C\">Show a Grid from Grid Stack in an RTS File</a> <br>\n",
    "7.  <a href=\"#stack2im_C\">Create a Set of Image Files from a TF Grid Stack</a> <br>\n",
    "8.  <a href=\"#ims2movie_C\">Make a Movie from a Set of Image Files</a> <br>\n",
    "9.  <a href=\"#ts_plot_C\">Plot a TF Time Series</a> <br>\n",
    "10. <a href=\"#prof_plot_C\">Plot One Profile in a Profile Series</a> <br>\n",
    "11. <a href=\"#ps_images_C\">Create Image Files from a TF Profile Series</a> <br>\n",
    "12. <a href=\"#ps_movie_C\">Make a Movie from a TF Profile Series</a> <br>\n",
    "13. <a href=\"#play_movie_C\">Play the Movie in the Notebook</a> <br>\n",
    "14. <a href=\"#setup_C\">Appendix 1: &nbsp; Set up a conda Environment for this Notebook</a>\n",
    "\n",
    "<!-- Hyperlink IDs must be unique to work in Jupyter Lab when\n",
    "there are multiple notebooks open. Hence the trailing letter. -->"
   ]
  },
  {
   "cell_type": "markdown",
   "metadata": {},
   "source": [
    "## Introduction  <a id=\"intro_C\"></a>\n",
    "\n",
    "Before you can run the code in this notebook, you will need to install the TopoFlow 3.6 Python package.  This notebook uses new visualization functions from <b>topoflow.utils.visualize.py</b>.  Detailed instructions and background information for how to install TopoFlow in a conda environment are given in\n",
    "<a href=\"#setup\"><b>Appendix 1:  Installing TopoFlow in a conda Environment</b></a>.\n",
    "\n",
    "TopoFlow stores values of output variables in multiple file formats, but the main one is netCDF format.  This Jupyter notebook shows how to read values of variables from TopoFlow netCDF output files and to then visualize them.\n",
    "\n",
    "The TopoFlow model consists of a collection of <b>components</b>, each of which is able to model a particular hydrologic process in a particular way.  It provides a very flexible, <b>plug-and-play</b> modeling environment where a user specifies which set of components they want to use.  The EMELI framework then assembles these components into a functioning hydrologic model.\n",
    "\n",
    "Each TopoFlow component has its own configuration file  or <b>cfg file</b> ending in the extension \".cfg\".  These are text files that can be edited by hand or with scripts and they set the options, parameters, names of input files, etc. that are to be used by the component for a particular model run.  This particular model run is characterized by a <b>case prefix</b> (case as in scenario).  TopoFlow input files that describe static features of the site (a geographic bounding box) to be modeled start with a <b>site prefix</b> and do not change between model runs.  TopoFlow input and configuration files that correspond to a particular scenario (e.g. time period, climate forcing, parameter settings, choice of components, etc.) start with the case prefix.\n",
    "\n",
    "In a model component's CFG file, there are toggles that determine which variables are to be written to files, and how often.  Since TopoFlow is a spatial hydrologic model, most variables are computed on a grid (2D array) that changes with each model time step.  Users can choose to write out this entire grid to a file at some time interval (save_grid_dt), and/or they can write out values for specific grid cells (0D) within the grid at some other time interval (save_pixels_dt).\n",
    "\n",
    "The various types of TopoFlow output can be summarized as follows.  In each case, the output file contains values of some variable (say V) that <b>vary in time</b>, that is, a <b>series</b>.  Output filenames start with the <b>case prefix</b>.  The dimensionality of the output is indicated in the output file name with \"0D_\", \"1D_\", \"2D_\" or \"3D_\" followed by a variable name abbreviation (e.g. \"Q\" or \"d-flood\").\n",
    "\n",
    "<b>0D = Time series</b> (or Point series) <br>\n",
    "Scalar values of V, at one or more model grid cells. <br>\n",
    "Formats:  (1) netCDF, and (2) multi-column text (i.e. CSV) <br>\n",
    "Utility:  topoflow/utils/ncts_files.py <br>\n",
    "Example:  river depth over time for given grid cell <br>\n",
    "Note:     monitored grid cells are specified in [case_prefix]_outlets.txt. <br>\n",
    "\n",
    "<b>1D = Profile series</b> <br>\n",
    "A 1D array of values of V, at one or more grid cells . <br>\n",
    "Formats: (1) netCDF<br>\n",
    "Utility:  topoflow/utils/ncps_files.py<br>\n",
    "Example:  1D, vertical slice of a 3D array (e.g. soil moisture profile) <br>\n",
    "Note:     Chosen grid cells are specified in [case_prefix]_outlets.txt. <br>\n",
    "\n",
    "<b>2D = Grid series (or stack)</b> <br>\n",
    "A 2D array of values of V, for the entire model grid (all cells).<br>\n",
    "Formats:  (1) netCDF, (2) RTS, (3) BOV <br>\n",
    "Utility:  topoflow/utils/ncgs_files.py <br>\n",
    "Example:  river discharges for the entire model grid <br>\n",
    "\n",
    "<b>3D = \"Cube\" series</b> <br>\n",
    "A 3D array of values of V, for entire model grid and various depths.<br>\n",
    "Formats:  (1) netCDF <br>\n",
    "Utility:  topoflow/utils/nccs_files.py <br>\n",
    "Example:  3D array of subsurface soil moisture (grid + depth). <br>\n"
   ]
  },
  {
   "cell_type": "markdown",
   "metadata": {},
   "source": [
    "## Create Some Directories in Your Home Directory  <a id=\"dirs_C\"></a>\n",
    "\n",
    "We assume here that you've already run TopoFlow using the site_prefix, case_prefix, test_dir and output_dir that you provide in the next cell.  So output_dir already exists and contains output to be visualized."
   ]
  },
  {
   "cell_type": "code",
   "execution_count": null,
   "metadata": {
    "collapsed": false,
    "jupyter": {
     "outputs_hidden": false
    }
   },
   "outputs": [],
   "source": [
    "import glob, os, os.path, import shutil\n",
    "\n",
    "home_dir = os.path.expanduser(\"~\")\n",
    "print('Home directory =', home_dir)\n",
    "\n",
    "# Baro River, with mouth near Gambella, Ethiopia\n",
    "BARO = False\n",
    "if (BARO):\n",
    "    site_prefix = 'Baro_Gam_1min'\n",
    "    # case_prefix = 'Test1'\n",
    "    case_prefix = 'Test2'\n",
    "    test_dir    = home_dir + '/TF_Tests'\n",
    "\n",
    "# Treynor River, in Iowa (part of Nishnabotna R.)\n",
    "TREYNOR = True\n",
    "if (TREYNOR):\n",
    "    site_prefix = 'Treynor'\n",
    "    case_prefix = 'June_20_67'\n",
    "    # case_prefix = 'June_07_67'\n",
    "    test_dir    = home_dir + '/TF_Output'\n",
    "    \n",
    "output_dir = test_dir + '/' + site_prefix\n",
    "print('Output directory =', output_dir)\n",
    "\n",
    "# This is now done below as needed\n",
    "# png_dir  = output_dir + '/' + 'png_files'\n",
    "# png_dir2 = output_dir + '/' + 'png_files2'\n",
    "# if not(os.path.exists( png_dir )):    os.mkdir( png_dir)\n",
    "# if not(os.path.exists( png_dir2 )):   os.mkdir( png_dir2)\n",
    "\n",
    "os.chdir( output_dir )"
   ]
  },
  {
   "cell_type": "markdown",
   "metadata": {},
   "source": [
    "## Import Required Python Packages <a id=\"imports_C\"></a>"
   ]
  },
  {
   "cell_type": "code",
   "execution_count": 2,
   "metadata": {},
   "outputs": [
    {
     "name": "stdout",
     "output_type": "stream",
     "text": [
      "Importing TopoFlow 3.6 package modules:\n",
      "   topoflow.utils\n",
      "   topoflow.utils.tests\n",
      "   topoflow.components\n",
      "   topoflow.components.tests\n",
      "   topoflow.framework\n",
      "   topoflow.framework.tests\n",
      " \n",
      "Paths for this package:\n",
      "framework_dir = /Users/peckhams/Dropbox/TopoFlow_3.6/topoflow/framework/\n",
      "parent_dir    = /Users/peckhams/Dropbox/TopoFlow_3.6/topoflow/\n",
      "examples_dir  = /Users/peckhams/Dropbox/TopoFlow_3.6/topoflow/examples/\n",
      "__file__      = /Users/peckhams/Dropbox/TopoFlow_3.6/topoflow/framework/emeli.py\n",
      "__name__      = topoflow.framework.emeli\n",
      " \n"
     ]
    }
   ],
   "source": [
    "from topoflow.utils import visualize as tfvis\n",
    "from topoflow.utils import rtg_files\n",
    "from topoflow.utils import rts_files"
   ]
  },
  {
   "cell_type": "markdown",
   "metadata": {},
   "source": [
    "## Show a Grid from an RTG File  <a id=\"show_rtg_C\"></a>"
   ]
  },
  {
   "cell_type": "code",
   "execution_count": 40,
   "metadata": {},
   "outputs": [
    {
     "name": "stdout",
     "output_type": "stream",
     "text": [
      "Byte swap needed = True\n",
      "Reading grid from RTG file...\n",
      "Reading grid values....\n",
      "Finished reading grid from:\n",
      "  Treynor_DEM.rtg\n",
      "extent = [277850.358, 278720.358, 4560090.42, 4561410.42]\n",
      "min(grid), max(grid) = 335.0505 380.1815\n",
      "Finished.\n",
      "\n"
     ]
    },
    {
     "data": {
      "image/png": "[encoded data removed]",
      "text/plain": [
       "<Figure size 576x576 with 1 Axes>"
      ]
     },
     "metadata": {
      "needs_background": "light"
     },
     "output_type": "display_data"
    }
   ],
   "source": [
    "## RTG files are typically in the *input* vs. output directory\n",
    "long_name = 'Land Surface Elevation'\n",
    "rtg_filename = site_prefix + '_DEM.rtg'\n",
    "rtg = rtg_files.rtg_file()\n",
    "OK = rtg.open_file( rtg_filename )\n",
    "if not(OK):\n",
    "    print('Could not open RTG file.')\n",
    "print('Byte swap needed =', rtg.byte_swap_needed())\n",
    "print('Reading grid from RTG file...')\n",
    "grid   = rtg.read_grid( VERBOSE=True )\n",
    "extent = rtg.get_bounds()\n",
    "# For Treynor, the extent is in UTM eastings and northings\n",
    "print('extent =', extent)\n",
    "print('min(grid), max(grid) =', grid.min(), grid.max())\n",
    "print('Finished.')\n",
    "rtg.close_file()\n",
    "print()\n",
    "\n",
    "tfvis.show_grid_as_image( grid, long_name, extent=extent,\n",
    "                          cmap='rainbow', stretch='hist_equal',\n",
    "                          # cmap='rainbow', stretch='linear',\n",
    "                          xsize=8, ysize=8, dpi=None)"
   ]
  },
  {
   "cell_type": "markdown",
   "metadata": {},
   "source": [
    "## Show a Grid from a Grid Stack in a TF netCDF file  <a id=\"show_nc1_C\"></a>"
   ]
  },
  {
   "cell_type": "code",
   "execution_count": 41,
   "metadata": {},
   "outputs": [
    {
     "name": "stdout",
     "output_type": "stream",
     "text": [
      "var_names in netCDF file =\n",
      "['time', 'X', 'Y', 'Q']\n",
      "long_name = volumetric_discharge\n",
      "var_name  = Q\n",
      "var_units = m^3/s\n",
      "n_grids   = 168\n",
      "extent = \n",
      "[277850.358, 278720.358, 4560090.42, 4561410.42]\n",
      "grid shape = (44, 29)\n",
      "min(grid)  = 0.0\n",
      "max(grid)  = 13.900598\n",
      "\n"
     ]
    },
    {
     "data": {
      "image/png": "[encoded data removed]",
      "text/plain": [
       "<Figure size 576x576 with 1 Axes>"
      ]
     },
     "metadata": {
      "needs_background": "light"
     },
     "output_type": "display_data"
    }
   ],
   "source": [
    "nc_file = case_prefix + '_2D-Q.nc'\n",
    "# nc_file = case_prefix + '_2D-d-flood.nc'\n",
    "\n",
    "(grid, long_name, extent) = tfvis.read_grid_from_nc_file(nc_file, time_index=84)\n",
    "print()\n",
    "\n",
    "tfvis.show_grid_as_image( grid, long_name, extent=extent,\n",
    "                          cmap='rainbow', stretch='power', p=0.3,\n",
    "                          xsize=8, ysize=8, dpi=None)"
   ]
  },
  {
   "cell_type": "markdown",
   "metadata": {},
   "source": [
    "## Show a Grid from Grid Stack in an RTS File  <a id=\"show_rts1_C\"></a>"
   ]
  },
  {
   "cell_type": "code",
   "execution_count": 37,
   "metadata": {},
   "outputs": [
    {
     "name": "stdout",
     "output_type": "stream",
     "text": [
      "Byte swap needed = True\n",
      "rts.number_of_grids()  = 168.0\n",
      "Reading one grid from RTS file... \n",
      "  time_index = 84\n",
      "extent = [277850.358, 278720.358, 4560090.42, 4561410.42]\n",
      "min(grid), max(grid) = 0.0 13.900598\n",
      "Finished.\n",
      "\n"
     ]
    },
    {
     "data": {
      "image/png": "[encoded data removed]",
      "text/plain": [
       "<Figure size 576x576 with 1 Axes>"
      ]
     },
     "metadata": {
      "needs_background": "light"
     },
     "output_type": "display_data"
    }
   ],
   "source": [
    "long_name = 'River Discharge'\n",
    "rts_filename = case_prefix + '_2D-Q.rts'\n",
    "rts = rts_files.rts_file()\n",
    "OK = rts.open_file( rts_filename )\n",
    "if not(OK):\n",
    "    print('Could not open RTS file.')\n",
    "print('Byte swap needed =', rts.byte_swap_needed())\n",
    "n_grids = rts.number_of_grids()\n",
    "print('rts.number_of_grids()  =', n_grids)\n",
    "print('Reading one grid from RTS file... ')\n",
    "time_index = int(n_grids / 2)\n",
    "print('  time_index =', time_index )\n",
    "grid   = rts.read_grid( time_index )   # alias to get_grid()\n",
    "extent = rts.get_bounds()\n",
    "print('extent =', extent)\n",
    "print('min(grid), max(grid) =', grid.min(), grid.max())\n",
    "print('Finished.')\n",
    "rts.close_file()\n",
    "print()\n",
    "\n",
    "tfvis.show_grid_as_image( grid, long_name, extent=extent,\n",
    "                          cmap='rainbow', stretch='power', p=0.3,\n",
    "                          # a=1, b=2, p=0.5,\n",
    "                          xsize=8, ysize=8, dpi=None)"
   ]
  },
  {
   "cell_type": "markdown",
   "metadata": {},
   "source": [
    "## Create a Set of Image Files from a TF Grid Stack (netCDF) <a id=\"stack2im_C\"></a>"
   ]
  },
  {
   "cell_type": "code",
   "execution_count": 5,
   "metadata": {},
   "outputs": [
    {
     "name": "stdout",
     "output_type": "stream",
     "text": [
      "Creating images from grid stack in nc_file:\n",
      "  June_20_67_2D-Q.nc\n",
      "  var name  = Q\n",
      "  long name = volumetric_discharge\n",
      "  n_grids   = 100\n",
      "This may take a few minutes.\n",
      "Working...\n",
      "Finished saving 100 images to PNG files.\n"
     ]
    }
   ],
   "source": [
    "png_dir3 = output_dir + '/' + 'png_files3'\n",
    "if not(os.path.exists( png_dir3 )): os.mkdir( png_dir3)\n",
    "\n",
    "nc_file = case_prefix + '_2D-Q.nc'\n",
    "# nc_file = case_prefix + '_2D-d-flood.nc'\n",
    "\n",
    "tfvis.save_grid_stack_as_images( nc_file, png_dir3, extent=extent,\n",
    "                                 xsize=8, ysize=8, dpi=192, REPORT=True)\n"
   ]
  },
  {
   "cell_type": "markdown",
   "metadata": {},
   "source": [
    "## Make a Movie from a Set of Image Files  <a id=\"ims2movie_C\"></a>"
   ]
  },
  {
   "cell_type": "code",
   "execution_count": 6,
   "metadata": {},
   "outputs": [
    {
     "name": "stdout",
     "output_type": "stream",
     "text": [
      "Creating movie from 100 PNG files.\n",
      "Working...\n",
      "Finished creating movie, MP4 format.\n",
      "  June_20_67_Q_Grid_Movie.mp4\n",
      "\n"
     ]
    }
   ],
   "source": [
    "fps = 10  # frames per second\n",
    "mp4_file = case_prefix + '_Q_Grid_Movie.mp4'\n",
    "tfvis.create_movie_from_images( mp4_file, png_dir3, fps=fps, REPORT=True)\n"
   ]
  },
  {
   "cell_type": "markdown",
   "metadata": {},
   "source": [
    "## Plot a TF Time Series <a id=\"ts_plot_C\"></a>"
   ]
  },
  {
   "cell_type": "code",
   "execution_count": 42,
   "metadata": {},
   "outputs": [
    {
     "name": "stdout",
     "output_type": "stream",
     "text": [
      "var_names in netCDF file =\n",
      "['time', 'Q_34_16', 'Q_32_16', 'Q_37_19', 'Q_26_14', 'Q_30_15', 'Q_0_0']\n",
      "var longitudes =\n",
      "[277850.49133333337, 277850.49133333337, 277850.51633333333, 277850.47466666665, 277850.483, 277850.358]\n",
      "var latitudes =\n",
      "[4560090.703333333, 4560090.6866666665, 4560090.7283333335, 4560090.636666667, 4560090.67, 4560090.42]\n",
      "\n"
     ]
    },
    {
     "data": {
      "image/png": "[encoded data removed]",
      "text/plain": [
       "<Figure size 576x360 with 1 Axes>"
      ]
     },
     "metadata": {
      "needs_background": "light"
     },
     "output_type": "display_data"
    }
   ],
   "source": [
    "nc_file = case_prefix + '_0D-Q.nc'\n",
    "# nc_file = case_prefix + '_0D-d-flood.nc'\n",
    "\n",
    "tfvis.plot_time_series(nc_file, output_dir=output_dir, marker=',',\n",
    "                       REPORT=True, xsize=8, ysize=5)\n"
   ]
  },
  {
   "cell_type": "markdown",
   "metadata": {},
   "source": [
    "## Plot One Profile in a TF Profile Series  <a id=\"prof_plot_C\"></a>"
   ]
  },
  {
   "cell_type": "code",
   "execution_count": 43,
   "metadata": {},
   "outputs": [
    {
     "ename": "FileNotFoundError",
     "evalue": "[Errno 2] No such file or directory: b'June_20_67_1D-q.nc'",
     "output_type": "error",
     "traceback": [
      "\u001b[0;31m---------------------------------------------------------------------------\u001b[0m",
      "\u001b[0;31mFileNotFoundError\u001b[0m                         Traceback (most recent call last)",
      "\u001b[0;32m<ipython-input-43-f47695d9609f>\u001b[0m in \u001b[0;36m<module>\u001b[0;34m\u001b[0m\n\u001b[1;32m      6\u001b[0m tfvis.plot_z_profile(nc_file, time_index=10,\n\u001b[1;32m      7\u001b[0m                      \u001b[0moutput_dir\u001b[0m\u001b[0;34m=\u001b[0m\u001b[0moutput_dir\u001b[0m\u001b[0;34m,\u001b[0m \u001b[0mmarker\u001b[0m\u001b[0;34m=\u001b[0m\u001b[0;34m','\u001b[0m\u001b[0;34m,\u001b[0m\u001b[0;34m\u001b[0m\u001b[0;34m\u001b[0m\u001b[0m\n\u001b[0;32m----> 8\u001b[0;31m                      REPORT=True, xsize=8, ysize=5)\n\u001b[0m",
      "\u001b[0;32m~/Dropbox/TopoFlow_3.6/topoflow/utils/visualize.py\u001b[0m in \u001b[0;36mplot_z_profile\u001b[0;34m(nc_file, time_index, output_dir, marker, REPORT, xsize, ysize)\u001b[0m\n\u001b[1;32m    458\u001b[0m \u001b[0;34m\u001b[0m\u001b[0m\n\u001b[1;32m    459\u001b[0m     \u001b[0mncps\u001b[0m \u001b[0;34m=\u001b[0m \u001b[0mncps_files\u001b[0m\u001b[0;34m.\u001b[0m\u001b[0mncps_file\u001b[0m\u001b[0;34m(\u001b[0m\u001b[0;34m)\u001b[0m\u001b[0;34m\u001b[0m\u001b[0;34m\u001b[0m\u001b[0m\n\u001b[0;32m--> 460\u001b[0;31m     \u001b[0mncps\u001b[0m\u001b[0;34m.\u001b[0m\u001b[0mopen_file\u001b[0m\u001b[0;34m(\u001b[0m \u001b[0mnc_file\u001b[0m \u001b[0;34m)\u001b[0m\u001b[0;34m\u001b[0m\u001b[0;34m\u001b[0m\u001b[0m\n\u001b[0m\u001b[1;32m    461\u001b[0m     \u001b[0mvar_name_list\u001b[0m \u001b[0;34m=\u001b[0m \u001b[0mncps\u001b[0m\u001b[0;34m.\u001b[0m\u001b[0mget_var_names\u001b[0m\u001b[0;34m(\u001b[0m\u001b[0;34m)\u001b[0m\u001b[0;34m\u001b[0m\u001b[0;34m\u001b[0m\u001b[0m\n\u001b[1;32m    462\u001b[0m     \u001b[0mlon_list\u001b[0m      \u001b[0;34m=\u001b[0m \u001b[0mncps\u001b[0m\u001b[0;34m.\u001b[0m\u001b[0mget_var_lons\u001b[0m\u001b[0;34m(\u001b[0m\u001b[0;34m)\u001b[0m\u001b[0;34m\u001b[0m\u001b[0;34m\u001b[0m\u001b[0m\n",
      "\u001b[0;32m~/Dropbox/TopoFlow_3.6/topoflow/utils/ncps_files.py\u001b[0m in \u001b[0;36mopen_file\u001b[0;34m(self, file_name)\u001b[0m\n\u001b[1;32m    340\u001b[0m         \u001b[0;31m#-------------------------\u001b[0m\u001b[0;34m\u001b[0m\u001b[0;34m\u001b[0m\u001b[0;34m\u001b[0m\u001b[0m\n\u001b[1;32m    341\u001b[0m \u001b[0;31m#         try:\u001b[0m\u001b[0;34m\u001b[0m\u001b[0;34m\u001b[0m\u001b[0;34m\u001b[0m\u001b[0m\n\u001b[0;32m--> 342\u001b[0;31m         \u001b[0mncps_unit\u001b[0m \u001b[0;34m=\u001b[0m \u001b[0mnc\u001b[0m\u001b[0;34m.\u001b[0m\u001b[0mDataset\u001b[0m\u001b[0;34m(\u001b[0m\u001b[0mfile_name\u001b[0m\u001b[0;34m,\u001b[0m \u001b[0mmode\u001b[0m\u001b[0;34m=\u001b[0m\u001b[0;34m'r'\u001b[0m\u001b[0;34m)\u001b[0m\u001b[0;34m\u001b[0m\u001b[0;34m\u001b[0m\u001b[0m\n\u001b[0m\u001b[1;32m    343\u001b[0m         \u001b[0mself\u001b[0m\u001b[0;34m.\u001b[0m\u001b[0mncps_unit\u001b[0m \u001b[0;34m=\u001b[0m \u001b[0mncps_unit\u001b[0m\u001b[0;34m\u001b[0m\u001b[0;34m\u001b[0m\u001b[0m\n\u001b[1;32m    344\u001b[0m         \u001b[0;31m### return ncps_unit\u001b[0m\u001b[0;34m\u001b[0m\u001b[0;34m\u001b[0m\u001b[0;34m\u001b[0m\u001b[0m\n",
      "\u001b[0;32mnetCDF4/_netCDF4.pyx\u001b[0m in \u001b[0;36mnetCDF4._netCDF4.Dataset.__init__\u001b[0;34m()\u001b[0m\n",
      "\u001b[0;32mnetCDF4/_netCDF4.pyx\u001b[0m in \u001b[0;36mnetCDF4._netCDF4._ensure_nc_success\u001b[0;34m()\u001b[0m\n",
      "\u001b[0;31mFileNotFoundError\u001b[0m: [Errno 2] No such file or directory: b'June_20_67_1D-q.nc'"
     ]
    }
   ],
   "source": [
    "nc_file = case_prefix + '_1D-q.nc'\n",
    "# nc_file = case_prefix + '_1D-p.nc'\n",
    "# nc_file = case_prefix + '_1D-K.nc'\n",
    "# nc_file = case_prefix + '_1D-v.nc'\n",
    "\n",
    "tfvis.plot_z_profile(nc_file, time_index=10,\n",
    "                     output_dir=output_dir, marker=',',\n",
    "                     REPORT=True, xsize=8, ysize=5)\n"
   ]
  },
  {
   "cell_type": "markdown",
   "metadata": {},
   "source": [
    "## Create a Set of Image Files from a TF Profile Series  <a id=\"ps_images_C\"></a>"
   ]
  },
  {
   "cell_type": "code",
   "execution_count": 18,
   "metadata": {},
   "outputs": [
    {
     "name": "stdout",
     "output_type": "stream",
     "text": [
      "Creating images from z profiles in nc_file:\n",
      "  June_20_67_1D-q.nc\n",
      "  var name  = q_34_16\n",
      "  long_name = soil_water_content\n",
      "  Number of profiles = 200\n",
      "This may take a few minutes.\n",
      "Working...\n",
      "Finished saving 200 images to PNG files.\n"
     ]
    }
   ],
   "source": [
    "png_dir4 = output_dir + '/' + 'png_files4'\n",
    "if not(os.path.exists( png_dir4 )): os.mkdir( png_dir4)\n",
    "\n",
    "nc_file = case_prefix + '_1D-q.nc'\n",
    "ymin = 0.0\n",
    "ymax = 0.5\n",
    "# nc_file = case_prefix + '_1D-p.nc'\n",
    "# nc_file = case_prefix + '_1D-K.nc'\n",
    "# nc_file = case_prefix + '_1D-v.nc'\n",
    "# ymin = None\n",
    "# ymax = None\n",
    "\n",
    "# Set ymin and ymax to make them same for all plots.\n",
    "tfvis.save_profile_series_as_images(nc_file, png_dir=png_dir4,\n",
    "                   ymin=ymin, ymax=ymax,    # (same for all plots)\n",
    "                   # ymin=None, ymax=None,  # (auto for each plot)\n",
    "                   marker=',', REPORT=True,\n",
    "                   xsize=8, ysize=5, dpi=192)\n"
   ]
  },
  {
   "cell_type": "markdown",
   "metadata": {},
   "source": [
    "## Make a Movie from a TF Profile Series  <a id=\"ps_movie_C\"></a>"
   ]
  },
  {
   "cell_type": "code",
   "execution_count": 19,
   "metadata": {},
   "outputs": [
    {
     "name": "stdout",
     "output_type": "stream",
     "text": [
      "Creating movie from 200 PNG files.\n",
      "Working...\n",
      "Finished creating movie, MP4 format.\n",
      "  June_20_67_Profile_Movie_q.mp4\n",
      "\n"
     ]
    }
   ],
   "source": [
    "fps = 20  # frames per second\n",
    "mp4_file = case_prefix + '_Profile_Movie_q.mp4'\n",
    "# mp4_file = case_prefix + '_Profile_Movie_p.mp4'\n",
    "# mp4_file = case_prefix + '_Profile_Movie_K.mp4'\n",
    "# mp4_file = case_prefix + '_Profile_Movie_v.mp4'\n",
    "\n",
    "tfvis.create_movie_from_images( mp4_file, png_dir4, fps=fps, REPORT=True)\n"
   ]
  },
  {
   "cell_type": "markdown",
   "metadata": {},
   "source": [
    "## Play the Movie in the Notebook  <a id=\"play_movie_C\"></a>\n",
    "\n",
    "An extension that allows you to play MP4 movie files in JupyterLab is\n",
    "[<b>available on GitHub</b>](https://github.com/jupyterlab/jupyterlab-mp4)\n",
    "(by Ian Rose of the JupyterLab organization) and can be installed with\n",
    "these commands.\n",
    "    \n",
    "``` bash\n",
    "% conda activate tfvis\n",
    "% conda install jupyterlab\n",
    "% jupyter labextension install @jupyterlab/mp4-extension\n",
    "```\n",
    "\n",
    "<b>Note:</b> The last command is from a pull-request on the extension's github repo.\n",
    "Using the command: \"jupyter labextension install jupyterlab-mp4\" results in the\n",
    "following error message:<br>\n",
    "An error occured.\n",
    "ValueError: \"jupyterlab-mp4\" is not a valid npm package"
   ]
  },
  {
   "cell_type": "code",
   "execution_count": 44,
   "metadata": {},
   "outputs": [],
   "source": [
    "# import os.path   # (not needed now)\n",
    "# from IPython.display import Audio, Image, YouTubeVideo\n",
    "from IPython.display import Video\n",
    "\n",
    "# help(Video)    # (uncomment to learn more about Video)"
   ]
  },
  {
   "cell_type": "code",
   "execution_count": 11,
   "metadata": {},
   "outputs": [],
   "source": [
    "#--------------------------------------------------------------------\n",
    "# Note:  Choosing the video window dimensions.  If the movie was\n",
    "#        created with size (8\" x 5\"), then its aspect ratio is 5/8.\n",
    "#        To maintain this aspect ratio, set the width and height\n",
    "#        in the call to Video() that have this same aspect ratio.\n",
    "#        For example, width=640, height=400 => AR = 400/640 = 5/8,\n",
    "#        and width=560, height=350  => AR = 350/560 = 5/8.\n",
    "#--------------------------------------------------------------------\n",
    "\n",
    "#---------------------------------------------------------------\n",
    "#  Now, it also works to specify the full path to the MP4 file\n",
    "#  Make sure to user \"Users\" vs. \"User\" here.   :)\n",
    "#---------------------------------------------------------------\n",
    "mp4_file2 = output_dir + '/' + mp4_file\n",
    "print(mp4_file2)\n",
    "\n",
    "#---------------------------------------------\n",
    "# Option to embed the video in the notebook\n",
    "# but this can result in large notebook file\n",
    "#---------------------------------------------\n",
    "Video( mp4_file2, embed=True, width=640, height=400)\n",
    "\n",
    "# For some reason, it doesn't work without \"embed=True\"\n",
    "# Video( mp4_file, width=600, height=300)\n",
    "\n",
    "#-------------------------------------------------------------\n",
    "#  You can just use the name of the MP4 file if it is in the\n",
    "#  the same directory as your notebook (.ipynb file).\n",
    "#  (e.g. /Users/peckhams/Jupyter, in this case)\n",
    "#-------------------------------------------------------------\n",
    "# mp4_file = 'Test2_Profile_Movie.mp4'\n",
    "# Video( mp4_file, width=600, height=450)\n",
    "\n",
    "\n",
    "#--------------------------------------------------------------------\n",
    "#  You could use os.path.relpath() or os.path.abspath(), but that\n",
    "#  doesn't appear to be necessary now.  You could specify the path\n",
    "#  relative to the the location of the notebook.\n",
    "#--------------------------------------------------------------------\n",
    "## mp4_file = os.path.relpath( mp4_file, start='/Users/peckhams/Jupyter')\n",
    "## print(mp4_file)\n",
    "## print(mp4_file)\n",
    "## Video( mp4_file, embed=True, width=600, height=300)\n",
    "\n",
    "## mp4_file = '../../..' + mp4_file\n",
    "## mp4_file = os.path.abspath( mp4_file )\n"
   ]
  },
  {
   "cell_type": "markdown",
   "metadata": {},
   "source": [
    "## Appendix 1: Installing TopoFlow in a conda Environment  <a id=\"setup_C\"></a>\n",
    "\n",
    "To run this Jupyter notebook, it is recommended to use Python 3.7 from an Anaconda distribution and to install the required Python packages in a conda environment called <b>tf36</b>.  This prevents conflicts with other Python packages you may have installed.\n",
    "The Anaconda distribution includes many packages from the\n",
    "[<b>Python Standard Library</b>](https://docs.python.org/3/library/).\n",
    "\n",
    "First, download the TopoFlow 3.6 package from GitHub repo \"topoflow36\" at:\n",
    "<b>https://github.com/peckhams/topoflow36</b>.\n",
    "Copy or unzip the package into some directory on your computer.  Let's refer to this full path as TF36_DIR.  e.g. TF36_DIR = /Users/peckhams/Dropbox/TopoFlow_3.6\n",
    "\n",
    "Installing TopoFlow 3.6 with pip causes most of its dependencies to be installed automatically.  However, if you want to run the growing collection of Jupyter notebooks (such as this one) that highlight TopoFlow functionality, you will also need to install the\n",
    "[<b>nb_conda</b>](https://docs.anaconda.com/anaconda/user-guide/tasks/use-jupyter-notebook-extensions/) package, and optionally the <b>jupyterlab</b> package (see below).\n",
    "In addition, some of the new TopoFlow utilities (e.g. regrid.py and visualize.py) require the\n",
    "[<b>gdal</b>](https://pypi.org/project/GDAL/) and\n",
    "[<b>matplotlib</b>](https://matplotlib.org/) packages.\n",
    "Simply type the following commands at an OS prompt after installing Anaconda and downloading TopoFlow.\n",
    "\n",
    "``` bash\n",
    "% conda update -n base conda\n",
    "% conda create --name tf36\n",
    "% conda activate tf36\n",
    "% conda list\n",
    "% conda install nb_conda\n",
    "% conda install gdal\n",
    "% conda install matplotlib\n",
    "% conda install imageio\n",
    "% pip install imageio-ffmpeg  (an imageio extension)\n",
    "% cd TF36_DIR\n",
    "% pip install -e .   (-e is the editable/developer option)\n",
    "```\n",
    "\n",
    "<b>Note:</b>  The <b>pip</b> package manager is used to install TopoFlow 3.6, since it is not available as a conda package.  (It gets installed when you install <b>nb_conda</b>.) However, like conda, pip will install a package and its dependencies into the currently active conda environment, as explained\n",
    "[<b>in these docs</b>](https://docs.conda.io/projects/conda/en/4.6.1/user-guide/tasks/manage-pkgs.html#installing-non-conda-packages).  If you switch to another environment with <b>conda activate envname</b>, you can confirm that topoflow (or cfunits, gdal, netcdf4, etc.) is not there with <b>conda list</b>. \n",
    "\n",
    "<b>Note:</b>  Some of the new TopoFlow utilities use a Python package version of [<b>GDAL</b>](https://pypi.org/project/GDAL/).  At the time of this writing, installing <b>gdal</b> from the <b>conda-forge </b> with <i>conda install -c conda-forge gdal</i> did not work.\n",
    "\n",
    "<b>Note:</b> The netCDF4 package will be installed as a TopoFlow dependency.\n",
    "\n",
    "#### <b>Conda Environments</b>\n",
    "\n",
    "Note that <b>conda</b> is the name of the package manager for the popular Anaconda Python distribution.  One feature of conda is support for multiple environments, which are isolated from one another.  When you install Anaconda, an environment called <b>base</b> is created for you and a base set of commonly-used Python packages are installed there.  However, you can (and should!) create additional, named environments and install different sets of Python packages into them without worrying about potential conflicts with packages in other environments.  Type <b>conda env list</b> to list your available environments.  You can switch to one of your other environments using the command <b>conda activate envname</b>.  (Replace \"envname\" with the name of an environment.) You can switch back to the base environment with the command <b>conda deactivate</b>.  It is better not to install new packages into the base environment.  See the online conda documentation on [<b>Managing Environments</b>](https://docs.conda.io/projects/conda/en/latest/user-guide/tasks/manage-environments.html) for more information.\n",
    "\n",
    "It is always a good idea to update conda itself before creating new environments and installing packages in them. The \"-n\" flag is followed by the name of the environment to update, and the \"-c\" flag is followed by the name of the <b>channel</b> from which to get packages.  A channel is a collection of Python packages that are provided and maintained by some group.  The word \"defaults\" refers to\n",
    "[<b>Anaconda's own collection</b>](https://docs.anaconda.com/anaconda/packages/pkg-docs/), while\n",
    "[<b>conda-forge</b>](https://conda-forge.org/feedstocks/)\n",
    "refers to another popular collection and the GitHub organization that maintains it.  Many Python packages are available from both of these channels.  (However, the ipyleaflet and pydap  packages are currently not available in the Anaconda collection.) When you are installing several packages into an environment, the potential for installation problems seems to be less if you get them all from the same channel.  Keep in mind that packages you install will likely depend on many other Python packages, so there is a potential for conflicts, usually related to different package versions.  Using conda environments helps to mitigate against this and helps with <b>reproducibility</b>.\n",
    "\n",
    "Once you've switched to an environment with <b>conda activate envname</b>, you can type <b>conda list</b> to see a list of packages.  If you do this right after you create a new environment you will see that it contains no packages.  If you do this right after installing each package above you will see that:\n",
    "\n",
    "<ul>\n",
    "    <li>Installing <b>nb_conda</b> triggers installation of <b>nb_conda_kernels</b>,\n",
    "    <b>ipykernel</b> (5.3.0), <b>notebook</b> (6.0.3) and <b>traitlets</b>\n",
    "    (4.3.3), among many others. \n",
    "    <li>Installing <b>gdal</b> triggers installation of #######.\n",
    "    <li>Installing <b>matplotlib</b> triggers installation of ##########. \n",
    "    <li>Installing <b>imageio</b> triggers installation of ##########. \n",
    "</ul>\n",
    "\n",
    "#### <b>Jupyter Notebook Extensions</b>\n",
    "\n",
    "Note that <b>nb_conda</b> is installed first above, and triggers installation of <b>nb_conda_kernels</b> along with <b>notebook</b>.  This is important as it makes your Jupyter notebook app aware of your conda environments and available in the app as \"kernels\".\n",
    "Anaconda provides a helpful page on the\n",
    "[<b>Jupyter Notebook Extensions</b>](https://docs.continuum.io/anaconda/user-guide/tasks/use-jupyter-notebook-extensions/).\n",
    "That page also explains how you can enable or disable these extensions individually. The command <b>jupyter nbextension list</b> shows you the extensions that are installed and whether they are enabled.  If you run the <b>jupyter notebook</b> or <b>jupyter lab</b> command in an environment that has <b>nb_conda_kernels</b> installed (see below), you will have the ability to associate one of your available conda environments with any new notebook you create.  Different environments give rise to different <b>kernels</b> in Jupyter, and the kernel name includes the environment name, e.g. <b>Python \\[conda env:balto\\]</b>.  The kernel name is displayed in the upper right corner.  Notebooks typically open with the \"environment kernel\" they were created with. However, there is a <b>Change Kernel</b> option in the <b>Kernel</b> menu in the Jupyter app menu bar. (After changing the kernel, you may need to choose <b>Restart</b> from the <b>Kernel</b> menu.\n",
    "\n",
    "#### <b>Cloning a conda Environment</b>\n",
    "\n",
    "If your notebook is working but then you want to import additional packages (possibly with many dependencies, and potential for problems), you can keep the first environment but clone it with\n",
    "<b><i>conda create --name clonename --copy --clone envname</i></b>,\n",
    "and then install the additional packages in the clone.  This way, you can switch to the new environment's kernel and try to run your notebook, but if you run into any problems you can easily revert back to the original environment and functionality.\n",
    "\n",
    "<b>Note:</b> Setting the \"--copy\" flag installs all packages using copies instead of hard or soft links.  This is necessary to avoid problems when using <b>pip</b> together with <b>conda</b> as described [<b>on this page</b>](https://stackoverflow.com/questions/43879119/installing-tensorflow-in-cloned-conda-environment-breaks-conda-environment-it-wa).\n",
    "\n",
    "#### <b>Running Notebooks in the Jupyter Notebook App</b>\n",
    "\n",
    "When you want to run the notebook, type <b>conda activate tf36</b> (at an OS command prompt) to activate this environment.  Then change to the directory that contains this notebook and type <b>jupyter notebook</b>.  By default, this folder is called <b>Jupyter</b> and is in your home directory.  In the app, choose this notebook by name, \"TopoFlow_Getting_Started.ipynb\", and make sure to choose the kernel called:  <b>Python \\[conda env:balto\\]</b>.  See the References section at the end for more info.\n",
    "\n",
    "#### <b>Running Notebooks in the JupyterLab App</b>\n",
    "\n",
    "The\n",
    "[<b>JupyterLab</b>](https://jupyterlab.readthedocs.io/en/stable/index.html)\n",
    "app is a cool, new successor to the Notebook app and offers many additional features.  If you want to use this notebook in JupyterLab, you need to install one more Python package, as follows.\n",
    "\n",
    "``` bash\n",
    "% conda activate tf36\n",
    "% conda install jupyterlab\n",
    "```\n",
    "\n",
    "You launch the JupyterLab app by typing <b>jupyter lab</b> instead of <b>jupyter notebook</b>.  To quit, choose <b>Logout</b> or <b>Shutdown</b> from the app's <b>File</b> menu.\n",
    "\n",
    "Finally, choose <b>TopoFlow_Getting_Started.ipynb</b> in Jupyter Notebook or Jupyter Lab.\n",
    "In Jupyter Lab, choose the kernel:  Python [conda evn:tfvis].  Whenever you want to run this notebook, you will then need to switch to this \"tfvis\" environment with the command: \"conda activate tfvis\".\n",
    "\n",
    "#### <b>JupyterLab Extensions</b>\n",
    "\n",
    "The Jupyter project provides documentation on\n",
    "[<b>JupyterLab Extensions</b>](https://jupyterlab.readthedocs.io/en/stable/user/extensions.html)\n",
    "which add capabilities to JupyterLab.  For example, after installing jupyterlab (see just above), if you want to use the <b>ipywidgets</b> and <b>ipyleaflet</b> Python packages, you need to install two extensions, as follows:\n",
    "```\n",
    "% conda activate tf36\n",
    "% jupyter labextension install jupyter-leaflet\n",
    "% jupyter labextension install @jupyter-widgets/jupyterlab-manager\n",
    "```\n",
    "However, you should only install trusted extensions, due to security concerns, as explained in the documentation.  Third-party extensions pose a potential security risk.  An extension that allows you to play MP4 movie files in JupyterLab is\n",
    "[<b>available on GitHub</b>](https://github.com/jupyterlab/jupyterlab-mp4)\n",
    "(by Ian Rose of the JupyterLab organization)\n",
    "and can be installed with the command:\n",
    "```\n",
    "% jupyter labextension install @jupyterlab/mp4-extension\n",
    "```\n",
    "<b>Note:</b> This command is from a pull-request on the extension's github repo.\n",
    "Using the command: \"jupyter labextension install jupyterlab-mp4\" results in the\n",
    "following error message:<br>\n",
    "An error occured.\n",
    "ValueError: \"jupyterlab-mp4\" is not a valid npm package\n",
    "\n",
    "As of May 27, 2020, JupyterLab has added an experimental <b>Extension Manager</b> which can be enabled by choosing Settings > Enable Extension Manager in the app."
   ]
  },
  {
   "cell_type": "code",
   "execution_count": null,
   "metadata": {},
   "outputs": [],
   "source": []
  }
 ],
 "metadata": {
  "kernelspec": {
   "display_name": "Python [conda env:tfvis]",
   "language": "python",
   "name": "conda-env-tfvis-py"
  },
  "language_info": {
   "codemirror_mode": {
    "name": "ipython",
    "version": 3
   },
   "file_extension": ".py",
   "mimetype": "text/x-python",
   "name": "python",
   "nbconvert_exporter": "python",
   "pygments_lexer": "ipython3",
   "version": "3.7.5"
  }
 },
 "nbformat": 4,
 "nbformat_minor": 4
}
