{
 "cells": [
  {
   "cell_type": "markdown",
   "metadata": {},
   "source": [
    "# 2nd Jupyter Notebook to Visualize TopoFlow Output"
   ]
  },
  {
   "cell_type": "markdown",
   "metadata": {},
   "source": [
    "<b>Note:</b>  This notebook uses new visualization functions from <b>topoflow.utils.visualize.py</b>.  \n",
    "\n",
    "Instructions for how to set up a <b>conda environment</b> for running this notebook can be found in <b>Appendix 1</b>.  <br>See the link in the Table of Contents."
   ]
  },
  {
   "cell_type": "markdown",
   "metadata": {},
   "source": [
    "### Table of Contents"
   ]
  },
  {
   "cell_type": "markdown",
   "metadata": {},
   "source": [
    "1.  <a href=\"#intro\">Introduction</a> <br>\n",
    "2.  <a href=\"#make_dirs\">Create some directories in your home directory</a> <br>\n",
    "3.  <a href=\"#imports\">Import Required Python Packages</a> <br>\n",
    "4.  <a href=\"#read_grid\">Read grid from a grid stack in a TF netCDF file</a> <br>\n",
    "5.  <a href=\"#grid_image\">Create a color image of the grid</a> <br>\n",
    "6.  <a href=\"#stack_images\">Create a set of image files from a TF grid stack</a> <br>\n",
    "7.  <a href=\"#stack_movie\">Make a movie from a set of grid image files</a> <br>\n",
    "8.  <a href=\"#ts_plot\">Create a time series plot</a> <br>\n",
    "9.  <a href=\"#profile_plot\">Create a plot of one profile in a profile series</a> <br>\n",
    "10. <a href=\"#ps_images\">Create a set of image files from a TF profile series</a> <br>\n",
    "11. <a href=\"#ps_movie\">Make a movie from profiles in a TF profile series</a> <br>\n",
    "12. <a href=\"#setup\">Appendix 1: &nbsp; Set up a conda environment for this notebook</a>"
   ]
  },
  {
   "cell_type": "markdown",
   "metadata": {},
   "source": [
    "## Introduction  <a id=\"intro\"></a>"
   ]
  },
  {
   "cell_type": "markdown",
   "metadata": {},
   "source": [
    "TopoFlow stores values of output variables in multiple file formats, but the main one is netCDF format.  This Jupyter notebook shows how to read values of variables from TopoFlow netCDF output files and to then visualize them.\n",
    "\n",
    "The TopoFlow model consists of a collection of <b>components</b>, each of which is able to model a particular hydrologic process in a particular way.  It provides a very flexible, <b>plug-and-play</b> modeling environment where a user specifies which set of components they want to use.  The EMELI framework then assembles these components into a functioning hydrologic model.\n",
    "\n",
    "Each TopoFlow component has its own configuration file  or <b>cfg file</b> ending in the extension \".cfg\".  These are text files that can be edited by hand or with scripts and they set the options, parameters, names of input files, etc. that are to be used by the component for a particular model run.  This particular model run is characterized by a <b>case prefix</b> (case as in scenario).  TopoFlow input files that describe static features of the site (a geographic bounding box) to be modeled start with a <b>site prefix</b> and do not change between model runs.  TopoFlow input and configuration files that correspond to a particular scenario (e.g. time period, climate forcing, parameter settings, choice of components, etc.) start with the case prefix.\n",
    "\n",
    "In a model component's CFG file, there are toggles that determine which variables are to be written to files, and how often.  Since TopoFlow is a spatial hydrologic model, most variables are computed on a grid (2D array) that changes with each model time step.  Users can choose to write out this entire grid to a file at some time interval (save_grid_dt), and/or they can write out values for specific grid cells (0D) within the grid at some other time interval (save_pixels_dt).\n",
    "\n",
    "The various types of TopoFlow output can be summarized as follows.  In each case, the output file contains values of some variable (say V) that <b>vary in time</b>, that is, a <b>series</b>.  Output filenames start with the <b>case prefix</b>.  The dimensionality of the output is indicated in the output file name with \"0D_\", \"1D_\", \"2D_\" or \"3D_\" followed by a variable name abbreviation (e.g. \"Q\" or \"d-flood\").\n",
    "\n",
    "<b>0D = Time series</b> (or Point series) <br>\n",
    "Scalar values of V, at one or more model grid cells. <br>\n",
    "Formats:  (1) netCDF, and (2) multi-column text (i.e. CSV) <br>\n",
    "Utility:  topoflow/utils/ncts_files.py <br>\n",
    "Example:  river depth over time for given grid cell <br>\n",
    "Note:     monitored grid cells are specified in [case_prefix]_outlets.txt. <br>\n",
    "\n",
    "<b>1D = Profile series</b> <br>\n",
    "A 1D array of values of V, at one or more grid cells . <br>\n",
    "Formats: (1) netCDF<br>\n",
    "Utility:  topoflow/utils/ncps_files.py<br>\n",
    "Example:  1D, vertical slice of a 3D array (e.g. soil moisture profile) <br>\n",
    "Note:     Chosen grid cells are specified in [case_prefix]_outlets.txt. <br>\n",
    "\n",
    "<b>2D = Grid series (or stack)</b> <br>\n",
    "A 2D array of values of V, for the entire model grid (all cells).<br>\n",
    "Formats:  (1) netCDF, (2) RTS, (3) BOV <br>\n",
    "Utility:  topoflow/utils/ncgs_files.py <br>\n",
    "Example:  river discharges for the entire model grid <br>\n",
    "\n",
    "<b>3D = \"Cube\" series</b> <br>\n",
    "A 3D array of values of V, for entire model grid and various depths.<br>\n",
    "Formats:  (1) netCDF <br>\n",
    "Utility:  topoflow/utils/nccs_files.py <br>\n",
    "Example:  3D array of subsurface soil moisture (grid + depth). <br>\n"
   ]
  },
  {
   "cell_type": "markdown",
   "metadata": {},
   "source": [
    "# Create some directories in your home directory  <a id=\"make_dirs\"></a>"
   ]
  },
  {
   "cell_type": "code",
   "execution_count": 1,
   "metadata": {
    "jupyter": {
     "outputs_hidden": false
    }
   },
   "outputs": [
    {
     "name": "stdout",
     "output_type": "stream",
     "text": [
      "Home directory = /Users/peckhams\n",
      "Output directory = /Users/peckhams/TF_Output/Treynor\n"
     ]
    }
   ],
   "source": [
    "import glob\n",
    "import os, os.path\n",
    "import shutil\n",
    "\n",
    "home_dir = os.path.expanduser(\"~\")\n",
    "print('Home directory =', home_dir)\n",
    "\n",
    "# Baro River, with mouth near Gambella, Ethiopia\n",
    "BARO = False\n",
    "if (BARO):\n",
    "    site_prefix = 'Baro_Gam_1min'\n",
    "    # case_prefix = 'Test1'\n",
    "    case_prefix = 'Test2'\n",
    "    test_dir    = home_dir + '/TF_Tests'\n",
    "\n",
    "# Treynor River, in Iowa (part of Nishnabotna R.)\n",
    "TREYNOR = True\n",
    "if (TREYNOR):\n",
    "    site_prefix = 'Treynor'\n",
    "    case_prefix = 'June_20_67'\n",
    "    # case_prefix = 'June_07_67'\n",
    "    test_dir    = home_dir + '/TF_Output'\n",
    "    \n",
    "output_dir = test_dir + '/' + site_prefix\n",
    "print('Output directory =', output_dir)\n",
    "\n",
    "if not(os.path.exists( test_dir )):   os.mkdir( test_dir )\n",
    "if not(os.path.exists( output_dir )): os.mkdir( output_dir)\n",
    "\n",
    "# This is now done below as needed\n",
    "# png_dir  = output_dir + '/' + 'png_files'\n",
    "# png_dir2 = output_dir + '/' + 'png_files2'\n",
    "# if not(os.path.exists( png_dir )):    os.mkdir( png_dir)\n",
    "# if not(os.path.exists( png_dir2 )):   os.mkdir( png_dir2)\n",
    "    \n",
    "os.chdir( output_dir )"
   ]
  },
  {
   "cell_type": "markdown",
   "metadata": {},
   "source": [
    "# Import required Python packages <a id=\"imports\"></a>"
   ]
  },
  {
   "cell_type": "code",
   "execution_count": 2,
   "metadata": {},
   "outputs": [
    {
     "name": "stdout",
     "output_type": "stream",
     "text": [
      "Importing TopoFlow 3.6 package modules:\n",
      "   topoflow.utils\n",
      "   topoflow.utils.tests\n",
      "   topoflow.components\n",
      "   topoflow.components.tests\n",
      "   topoflow.framework\n",
      "   topoflow.framework.tests\n",
      " \n",
      "Paths for this package:\n",
      "framework_dir = /Users/peckhams/Dropbox/TopoFlow_3.6/topoflow/framework/\n",
      "parent_dir    = /Users/peckhams/Dropbox/TopoFlow_3.6/topoflow/\n",
      "examples_dir  = /Users/peckhams/Dropbox/TopoFlow_3.6/topoflow/examples/\n",
      "__file__      = /Users/peckhams/Dropbox/TopoFlow_3.6/topoflow/framework/emeli.py\n",
      "__name__      = topoflow.framework.emeli\n",
      " \n"
     ]
    }
   ],
   "source": [
    "from topoflow.utils import visualize as tfvis\n"
   ]
  },
  {
   "cell_type": "markdown",
   "metadata": {},
   "source": [
    "# Read grid from a grid stack in a TF netCDF file  <a id=\"read_grid\"></a>"
   ]
  },
  {
   "cell_type": "code",
   "execution_count": 3,
   "metadata": {},
   "outputs": [
    {
     "name": "stdout",
     "output_type": "stream",
     "text": [
      "var_names in netCDF file =\n",
      "['time', 'X', 'Y', 'Q']\n",
      "long_name = volumetric_discharge\n",
      "var_name  = Q\n",
      "var_units = m^3/s\n",
      "n_grids   = 100\n",
      "extent = \n",
      "[277850.358, 278720.358, 4560090.42, 4561410.42]\n",
      "grid shape = (44, 29)\n",
      "min(grid)  = 0.0\n",
      "max(grid)  = 8.159525e-05\n"
     ]
    }
   ],
   "source": [
    "nc_file = case_prefix + '_2D-Q.nc'\n",
    "# nc_file = case_prefix + '_2D-d-flood.nc'\n",
    "\n",
    "(grid, long_name, extent) = tfvis.read_grid_from_nc_file(nc_file, time_index=3)\n"
   ]
  },
  {
   "cell_type": "markdown",
   "metadata": {},
   "source": [
    "# Create a color image of the grid  <a id=\"grid_image\"></a>"
   ]
  },
  {
   "cell_type": "code",
   "execution_count": 4,
   "metadata": {},
   "outputs": [
    {
     "data": {
      "image/png": "[encoded data removed]",
      "text/plain": [
       "<Figure size 576x576 with 1 Axes>"
      ]
     },
     "metadata": {
      "needs_background": "light"
     },
     "output_type": "display_data"
    }
   ],
   "source": [
    "tfvis.show_grid_as_image( grid, long_name, extent=extent,\n",
    "                          cmap='rainbow', stretch='power_stretch3',\n",
    "                          xsize=8, ysize=8, dpi=None)\n"
   ]
  },
  {
   "cell_type": "markdown",
   "metadata": {},
   "source": [
    "# Create a set of image files from a TF grid stack  <a id=\"stack_images\"></a>"
   ]
  },
  {
   "cell_type": "code",
   "execution_count": 5,
   "metadata": {},
   "outputs": [
    {
     "name": "stdout",
     "output_type": "stream",
     "text": [
      "Creating images from grid stack in nc_file:\n",
      "  June_20_67_2D-Q.nc\n",
      "  var name  = Q\n",
      "  long name = volumetric_discharge\n",
      "  n_grids   = 100\n",
      "This may take a few minutes.\n",
      "Working...\n",
      "Finished saving 100 images to PNG files.\n"
     ]
    }
   ],
   "source": [
    "png_dir3 = output_dir + '/' + 'png_files3'\n",
    "if not(os.path.exists( png_dir3 )): os.mkdir( png_dir3)\n",
    "\n",
    "nc_file = case_prefix + '_2D-Q.nc'\n",
    "# nc_file = case_prefix + '_2D-d-flood.nc'\n",
    "\n",
    "tfvis.save_grid_stack_as_images( nc_file, png_dir3, extent=extent,\n",
    "                                 xsize=8, ysize=8, dpi=192, REPORT=True)\n"
   ]
  },
  {
   "cell_type": "markdown",
   "metadata": {},
   "source": [
    "# Make a movie from a set of grid image files  <a id=\"stack_movie\"></a>"
   ]
  },
  {
   "cell_type": "code",
   "execution_count": 6,
   "metadata": {},
   "outputs": [
    {
     "name": "stdout",
     "output_type": "stream",
     "text": [
      "Creating movie from 100 PNG files.\n",
      "Working...\n",
      "Finished creating movie, MP4 format.\n",
      "  June_20_67_Q_Grid_Movie.mp4\n",
      "\n"
     ]
    }
   ],
   "source": [
    "fps = 10  # frames per second\n",
    "mp4_file = case_prefix + '_Q_Grid_Movie.mp4'\n",
    "tfvis.create_movie_from_images( mp4_file, png_dir3, fps=fps, REPORT=True)\n"
   ]
  },
  {
   "cell_type": "markdown",
   "metadata": {},
   "source": [
    "# Create a time series plot  <a id=\"ts_plot\"></a>"
   ]
  },
  {
   "cell_type": "code",
   "execution_count": 7,
   "metadata": {},
   "outputs": [
    {
     "name": "stdout",
     "output_type": "stream",
     "text": [
      "var_names in netCDF file =\n",
      "['time', 'Q_34_16', 'Q_32_16', 'Q_37_19', 'Q_26_14', 'Q_30_15', 'Q_0_0']\n",
      "var longitudes =\n",
      "[277850.49133333337, 277850.49133333337, 277850.51633333333, 277850.47466666665, 277850.483, 277850.358]\n",
      "var latitudes =\n",
      "[4560090.703333333, 4560090.6866666665, 4560090.7283333335, 4560090.636666667, 4560090.67, 4560090.42]\n",
      "\n"
     ]
    },
    {
     "data": {
      "image/png": "[encoded data removed]",
      "text/plain": [
       "<Figure size 576x360 with 1 Axes>"
      ]
     },
     "metadata": {
      "needs_background": "light"
     },
     "output_type": "display_data"
    }
   ],
   "source": [
    "nc_file = case_prefix + '_0D-Q.nc'\n",
    "# nc_file = case_prefix + '_0D-d-flood.nc'\n",
    "\n",
    "tfvis.plot_time_series(nc_file, output_dir=output_dir, marker=',',\n",
    "                       REPORT=True, xsize=8, ysize=5)\n"
   ]
  },
  {
   "cell_type": "markdown",
   "metadata": {},
   "source": [
    "# Create a plot of one profile in a profile series  <a id=\"profile_plot\"></a>"
   ]
  },
  {
   "cell_type": "code",
   "execution_count": 8,
   "metadata": {},
   "outputs": [
    {
     "name": "stdout",
     "output_type": "stream",
     "text": [
      "var_names in netCDF file =\n",
      "['time', 'z', 'q_34_16', 'q_32_16', 'q_37_19', 'q_26_14', 'q_30_15', 'q_0_0']\n",
      "var longitudes =\n",
      "[277850.49133333337, 277850.49133333337, 277850.51633333333, 277850.47466666665, 277850.483, 277850.358]\n",
      "var latitudes =\n",
      "[4560090.703333333, 4560090.6866666665, 4560090.7283333335, 4560090.636666667, 4560090.67, 4560090.42]\n",
      "\n"
     ]
    },
    {
     "data": {
      "image/png": "[encoded data removed]",
      "text/plain": [
       "<Figure size 792x432 with 1 Axes>"
      ]
     },
     "metadata": {
      "needs_background": "light"
     },
     "output_type": "display_data"
    }
   ],
   "source": [
    "nc_file = case_prefix + '_1D-q.nc'\n",
    "# nc_file = case_prefix + '_1D-p.nc'\n",
    "# nc_file = case_prefix + '_1D-K.nc'\n",
    "# nc_file = case_prefix + '_1D-v.nc'\n",
    "\n",
    "tfvis.plot_z_profile(nc_file, time_index=10,\n",
    "                     output_dir=output_dir, marker=',',\n",
    "                     REPORT=True, xsize=8, ysize=5)\n"
   ]
  },
  {
   "cell_type": "markdown",
   "metadata": {},
   "source": [
    "# Create a set of image files from a TF profile series  <a id=\"ps_images\"></a>"
   ]
  },
  {
   "cell_type": "code",
   "execution_count": 18,
   "metadata": {},
   "outputs": [
    {
     "name": "stdout",
     "output_type": "stream",
     "text": [
      "Creating images from z profiles in nc_file:\n",
      "  June_20_67_1D-q.nc\n",
      "  var name  = q_34_16\n",
      "  long_name = soil_water_content\n",
      "  Number of profiles = 200\n",
      "This may take a few minutes.\n",
      "Working...\n",
      "Finished saving 200 images to PNG files.\n"
     ]
    }
   ],
   "source": [
    "png_dir4 = output_dir + '/' + 'png_files4'\n",
    "if not(os.path.exists( png_dir4 )): os.mkdir( png_dir4)\n",
    "\n",
    "nc_file = case_prefix + '_1D-q.nc'\n",
    "ymin = 0.0\n",
    "ymax = 0.5\n",
    "# nc_file = case_prefix + '_1D-p.nc'\n",
    "# nc_file = case_prefix + '_1D-K.nc'\n",
    "# nc_file = case_prefix + '_1D-v.nc'\n",
    "# ymin = None\n",
    "# ymax = None\n",
    "\n",
    "# Set ymin and ymax to make them same for all plots.\n",
    "tfvis.save_profile_series_as_images(nc_file, png_dir=png_dir4,\n",
    "                   ymin=ymin, ymax=ymax,    # (same for all plots)\n",
    "                   # ymin=None, ymax=None,  # (auto for each plot)\n",
    "                   marker=',', REPORT=True,\n",
    "                   xsize=8, ysize=5, dpi=192)\n"
   ]
  },
  {
   "cell_type": "markdown",
   "metadata": {},
   "source": [
    "# Make a movie from profiles in a TF profile series  <a id=\"ps_movie\"></a>"
   ]
  },
  {
   "cell_type": "code",
   "execution_count": 19,
   "metadata": {},
   "outputs": [
    {
     "name": "stdout",
     "output_type": "stream",
     "text": [
      "Creating movie from 200 PNG files.\n",
      "Working...\n",
      "Finished creating movie, MP4 format.\n",
      "  June_20_67_Profile_Movie_q.mp4\n",
      "\n"
     ]
    }
   ],
   "source": [
    "fps = 20  # frames per second\n",
    "mp4_file = case_prefix + '_Profile_Movie_q.mp4'\n",
    "# mp4_file = case_prefix + '_Profile_Movie_p.mp4'\n",
    "# mp4_file = case_prefix + '_Profile_Movie_K.mp4'\n",
    "# mp4_file = case_prefix + '_Profile_Movie_v.mp4'\n",
    "\n",
    "tfvis.create_movie_from_images( mp4_file, png_dir4, fps=fps, REPORT=True)\n"
   ]
  },
  {
   "cell_type": "code",
   "execution_count": 11,
   "metadata": {},
   "outputs": [],
   "source": [
    "# from IPython.display import Video\n",
    "\n",
    "#--------------------------------------------------------------------\n",
    "# Note: For some reason, the mp4 file must be in the same directory\n",
    "#       as the .ipynb file (e.g. /User/peckhams/Jupyter).\n",
    "#       Specifying the full path by these methods doesn't work.\n",
    "#       Creating a symbolic link should work, however.\n",
    "#--------------------------------------------------------------------\n",
    "# mp4_file2 = output_dir + '/' + mp4_file\n",
    "## mp4_file2 = '../../..' + output_dir + '/' + mp4_file\n",
    "## print( mp4_file2 )\n",
    "# os.path.expandvars( mp4_file2 )\n",
    "# Video( mp4_file2, width=600, height=450)\n",
    "\n",
    "# help(Video)\n",
    "\n",
    "#----------------------------------------------\n",
    "# Movie is (8\" x 6\"), so aspect ratio is 3/4.\n",
    "# 450/600 = 3/4.  Only works if the MP4 file\n",
    "# is in the same directory as the notebook.\n",
    "#----------------------------------------------\n",
    "# Video( mp4_file, width=600, height=450)\n"
   ]
  },
  {
   "cell_type": "markdown",
   "metadata": {},
   "source": [
    "# Appendix 1: &nbsp; Set up a conda environment for this notebook  <a id=\"setup\"></a>"
   ]
  },
  {
   "cell_type": "markdown",
   "metadata": {},
   "source": [
    "Before you can run the code in this notebook, you will need to install the TopoFlow 3.6 Python package.\n",
    "\n",
    "It is recommended to use Python 3.7 (or higher) from an Anaconda distribution and to install TopoFlow 3.6 in a conda environment called \"tfvis\".  In Anaconda is already installed, you can use the following commands on Mac or Linux to install TopoFlow.  This helps to isolate it from the rest of your Python environment to avoid potential package conflicts."
   ]
  },
  {
   "cell_type": "markdown",
   "metadata": {},
   "source": [
    "```bash\n",
    "% conda update -n base conda\n",
    "% conda create --name tfvis\n",
    "% conda activate tfvis\n",
    "% conda install matplotlib\n",
    "% conda install imageio\n",
    "% pip install imageio-ffmpeg  (an imageio extension)\n",
    "\n",
    "Download the TopoFlow 3.6 package from GitHub repo \"topoflow36\".\n",
    "Copy it somewhere. Denote this full path as TF36_DIR.\n",
    "e.g. TF36_DIR = /Users/peckhams/Dropbox/TopoFlow_3.6\n",
    "\n",
    "% cd TF36_DIR\n",
    "% pip install -e .   (-e is the editable/developer option)\n",
    "% cd\n",
    "\n",
    "If you would like to run the notebook in jupyterlab, also do this.\n",
    "% conda install -c conda-forge jupyterlab\n",
    "% conda install -c conda-forge nb_conda_kernels (needed for conda envs)\n",
    "% jupyter lab\n",
    "```"
   ]
  },
  {
   "cell_type": "markdown",
   "metadata": {},
   "source": [
    "Finally, choose <b>TopoFlow_Getting_Started.ipynb</b> in Jupyter Notebook or Jupyter Lab.\n",
    "In Jupyter Lab, choose the kernel:  Python [conda evn:tfvis].  Whenever you want to run this notebook, you will then need to switch to this \"tfvis\" environment with the command: \"conda activate tfvis\"."
   ]
  },
  {
   "cell_type": "markdown",
   "metadata": {},
   "source": [
    "# Appendix 2:   &nbsp; Show a video in a markdown cell"
   ]
  },
  {
   "cell_type": "markdown",
   "metadata": {},
   "source": [
    "<video controls src=mp4_file2 />"
   ]
  },
  {
   "cell_type": "code",
   "execution_count": 12,
   "metadata": {},
   "outputs": [],
   "source": [
    "# An alternate approach.\n",
    "#-------------------------\n",
    "# from IPython.display import HTML\n",
    "\n",
    "# HTML(\"\"\"\n",
    "# <video width=\"320\" height=\"240\" controls>\n",
    "#   <source src=mp4_file type=\"video/mp4\">\n",
    "# </video>\n",
    "# \"\"\")"
   ]
  },
  {
   "cell_type": "code",
   "execution_count": null,
   "metadata": {},
   "outputs": [],
   "source": []
  }
 ],
 "metadata": {
  "kernelspec": {
   "display_name": "Python [conda env:tfvis]",
   "language": "python",
   "name": "conda-env-tfvis-py"
  },
  "language_info": {
   "codemirror_mode": {
    "name": "ipython",
    "version": 3
   },
   "file_extension": ".py",
   "mimetype": "text/x-python",
   "name": "python",
   "nbconvert_exporter": "python",
   "pygments_lexer": "ipython3",
   "version": "3.7.5"
  }
 },
 "nbformat": 4,
 "nbformat_minor": 4
}
