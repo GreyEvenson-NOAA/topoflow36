{
 "cells": [
  {
   "cell_type": "markdown",
   "metadata": {},
   "source": [
    "# Jupyter Notebook to Visualize TopoFlow Output"
   ]
  },
  {
   "cell_type": "markdown",
   "metadata": {},
   "source": [
    "TopoFlow stores values of output variables in multiple file formats, but the main one is netCDF format.  This Jupyter notebook shows how to read values of variables from TopoFlow netCDF output files and to then visualize them.\n",
    "\n",
    "The TopoFlow model consists of a collection of <b>components</b>, each of which is able to model a particular hydrologic process in a particular way.  It provides a very flexible, <b>plug-and-play</b> modeling environment where a user specifies which set of components they want to use.  The EMELI framework then assembles these components into a functioning hydrologic model.\n",
    "\n",
    "Each TopoFlow component has its own configuration file  or <b>cfg file</b> ending in the extension \".cfg\".  These are text files that can be edited by hand or with scripts and they set the options, parameters, names of input files, etc. that are to be used by the component for a particular model run.  This particular model run is characterized by a <b>case prefix</b> (case as in scenario).  TopoFlow input files that describe static features of the site (a geographic bounding box) to be modeled start with a <b>site prefix</b> and do not change between model runs.  TopoFlow input and configuration files that correspond to a particular scenario (e.g. time period, climate forcing, parameter settings, choice of components, etc.) start with the case prefix.\n",
    "\n",
    "In a model component's CFG file, there are toggles that determine which variables are to be written to files, and how often.  Since TopoFlow is a spatial hydrologic model, most variables are computed on a grid (2D array) that changes with each model time step.  Users can choose to write out this entire grid to a file at some time interval (save_grid_dt), and/or they can write out values for specific grid cells (0D) within the grid at some other time interval (save_pixels_dt).\n",
    "\n",
    "The various types of TopoFlow output can be summarized as follows.  In each case, the output file contains of values of some variable (say V) that <b>vary in time</b>, that is, a <b>series</b>.  Output filenames start with the <b>case prefix</b>.  The dimensionality of the output is indicated in the output file name with \"0D_\", \"1D_\", \"2D_\" or \"3D_\" followed by a variable name abbreviation (e.g. \"Q\" or \"d-flood\").\n",
    "\n",
    "<b>0D = Time series</b> <br>\n",
    "Scalar values of V, at one or more model grid cells. <br>\n",
    "Formats:  (1) netCDF, and (2) multi-column text (i.e. CSV) <br>\n",
    "Utility:  topoflow/utils/ncts_files.py <br>\n",
    "Example:  river depth over time for given grid cell <br>\n",
    "Note:     monitored grid cells are specified in [case_prefix]_outlets.txt. <br>\n",
    "\n",
    "<b>1D = Profile series</b> <br>\n",
    "A 1D array of values of V, at one or more grid cells . <br>\n",
    "Formats: (1) netCDF<br>\n",
    "Utility:  topoflow/utils/ncps_files.py<br>\n",
    "Example:  1D, vertical slice of a 3D array (e.g. soil moisture profile) <br>\n",
    "\n",
    "<b>2D = Grid series (or stack)</b> <br>\n",
    "A 2D array of values of V, for the entire model grid (all cells).<br>\n",
    "Formats:  (1) netCDF, (2) RTS, (3) BOV <br>\n",
    "Utility:  topoflow/utils/ncgs_files.py <br>\n",
    "Example:  river discharges for the entire model grid <br>\n",
    "\n",
    "<b>3D = \"Cube\" series</b> <br>\n",
    "A 3D array of values of V, for entire model grid and various depths.<br>\n",
    "Formats:  (1) netCDF <br>\n",
    "Utility:  topoflow/utils/nccs_files.py <br>\n",
    "Example:  3D array of subsurface soil moisture (grid + depth). <br>\n"
   ]
  },
  {
   "cell_type": "markdown",
   "metadata": {},
   "source": [
    "# Set up a conda environment with all dependencies"
   ]
  },
  {
   "cell_type": "raw",
   "metadata": {},
   "source": [
    "To run this Jupyter notebook, it is recommended to use Python 3.7 from an Anaconda distribution and to create a \"tf36\" conda environment with the following commands.  \n",
    "\n",
    "% conda update -n base conda\n",
    "% conda create --name tfvis\n",
    "% conda activate tfvis\n",
    "# conda install matplotlib\n",
    "% conda install imageio\n",
    "% pip install imageio-ffmpeg    # imageio extension\n",
    "\n",
    "# Download TopoFlow 3.6 package from GitHub repo \"topoflow36\"\n",
    "# Copy it somewhere:  <tf36_dir>\n",
    "# e.g. <tf36_dir> = /Users/peckhams/Dropbox/TopoFlow_3.6\n",
    "\n",
    "% cd <tf36_dir>  \n",
    "% pip install -e .     # (-e is the editable/developer option)\n",
    "% cd\n",
    "\n",
    "# Optional, to start jupyter lab from this conda environment.\n",
    "% conda install -c conda-forge jupyterlab\n",
    "% conda install -c conda-forge nb_conda_kernels   # (needed for conda envs)\n",
    "% jupyter lab\n",
    "\n",
    "# Finally, choose TopoFlow_Visualization.ipynb in Jupyter Lab,\n",
    "# but make sure to choose the kernel:  Python [conda evn:tfvis]"
   ]
  },
  {
   "cell_type": "markdown",
   "metadata": {},
   "source": [
    "# Create some directories in your home directory"
   ]
  },
  {
   "cell_type": "code",
   "execution_count": 1,
   "metadata": {
    "collapsed": false,
    "jupyter": {
     "outputs_hidden": false
    }
   },
   "outputs": [],
   "source": [
    "import glob\n",
    "import os, os.path\n",
    "import shutil\n",
    "\n",
    "# site_prefix = 'Baro_Gam_1min'\n",
    "case_prefix = 'Test1'\n",
    "\n",
    "home_dir   = os.path.expanduser(\"~\")\n",
    "test_dir   = home_dir + '/TF_Output'\n",
    "output_dir = test_dir + '/' + case_prefix\n",
    "png_dir    = output_dir + '/' + 'png_files'\n",
    "\n",
    "if not(os.path.exists( test_dir )):   os.mkdir( test_dir )\n",
    "if not(os.path.exists( output_dir )): os.mkdir( output_dir)\n",
    "if not(os.path.exists( png_dir )):    os.mkdir( png_dir)\n",
    "    \n",
    "os.chdir( output_dir )"
   ]
  },
  {
   "cell_type": "markdown",
   "metadata": {},
   "source": [
    "# Import required Python packages"
   ]
  },
  {
   "cell_type": "code",
   "execution_count": 2,
   "metadata": {},
   "outputs": [
    {
     "name": "stdout",
     "output_type": "stream",
     "text": [
      "Importing TopoFlow 3.6 packages:\n",
      "   topoflow.utils\n",
      "   topoflow.utils.tests\n",
      "   topoflow.components\n",
      "   topoflow.components.tests\n",
      "   topoflow.framework\n",
      "   topoflow.framework.tests\n",
      " \n",
      "Paths for this package:\n",
      "framework_dir = /Users/peckhams/Dropbox/TopoFlow_3.6/topoflow/framework/\n",
      "parent_dir    = /Users/peckhams/Dropbox/TopoFlow_3.6/topoflow/\n",
      "examples_dir  = /Users/peckhams/Dropbox/TopoFlow_3.6/topoflow/examples/\n",
      "__file__      = /Users/peckhams/Dropbox/TopoFlow_3.6/topoflow/framework/emeli.py\n",
      "__name__      = topoflow.framework.emeli\n",
      " \n"
     ]
    }
   ],
   "source": [
    "import numpy as np\n",
    "import matplotlib.pyplot as plt\n",
    "import imageio\n",
    "\n",
    "from topoflow.utils import ncgs_files\n",
    "from topoflow.utils import ncts_files"
   ]
  },
  {
   "cell_type": "markdown",
   "metadata": {},
   "source": [
    "# Define some useful \"stretch\" functions"
   ]
  },
  {
   "cell_type": "code",
   "execution_count": 3,
   "metadata": {},
   "outputs": [],
   "source": [
    "# https://docs.scipy.org/doc/numpy/reference/generated/numpy.histogram.html\n",
    "\n",
    "def histogram_equalize( grid, PLOT_NCS=False):\n",
    "    (hist, bin_edges) = np.histogram( grid, bins=256)\n",
    "    # hmin = hist.min()\n",
    "    # hmax = hist.max()\n",
    "\n",
    "    cs  = hist.cumsum()\n",
    "    ncs = (cs - cs.min()) / (cs.max() - cs.min())\n",
    "    ncs.astype('uint8');\n",
    "    if (PLOT_NCS):\n",
    "        plt.plot( ncs )\n",
    "\n",
    "    flat = grid.flatten()\n",
    "    flat2 = np.uint8( 255 * (flat - flat.min()) / (flat.max() - flat.min()) )\n",
    "    grid2 = ncs[ flat2 ].reshape( grid.shape )\n",
    "    return grid2\n",
    "\n",
    "def power_stretch1( grid, p ):\n",
    "    return grid**p\n",
    "\n",
    "def power_stretch2( grid, a=1000, b=0.5):\n",
    "    # Note: Try a=1000 and b=0.5\n",
    "    gmin = grid.min()\n",
    "    gmax = grid.max()\n",
    "    norm = (grid - gmin) / (gmax - gmin)\n",
    "    return (1 - (1 + a * norm)**(-b))\n",
    "\n",
    "def power_stretch3( grid, a=1, b=2):\n",
    "    # Note:  Try a=1, b=2 (shape of a quarter circle)\n",
    "    gmin = grid.min()\n",
    "    gmax = grid.max()\n",
    "    norm = (grid - gmin) / (gmax - gmin)\n",
    "    return (1 - (1 - norm**a)**b)**(1/b)\n",
    "\n",
    "def log_stretch( grid, a=1 ):\n",
    "    return np.log( (a * grid) + 1 )\n"
   ]
  },
  {
   "cell_type": "markdown",
   "metadata": {},
   "source": [
    "# Read grid from a grid stack in a TF netCDF file"
   ]
  },
  {
   "cell_type": "code",
   "execution_count": 23,
   "metadata": {},
   "outputs": [
    {
     "name": "stdout",
     "output_type": "stream",
     "text": [
      "long_name = volumetric_discharge\n",
      "var_name  = Q\n",
      "var_units = m^3/s\n",
      "n_grids   = 167\n",
      "var_names in netCDF file =\n",
      "['time', 'X', 'Y', 'Q']\n",
      "gmin = 0.0\n",
      "gmax = 3075.1648\n"
     ]
    }
   ],
   "source": [
    "ncgs = ncgs_files.ncgs_file()\n",
    "\n",
    "nc_file = 'Test1_2D-Q.nc'\n",
    "# nc_file = 'Test1_2D-d-flood.nc'\n",
    "\n",
    "ncgs.open_file( nc_file )\n",
    "var_name_list = ncgs.get_var_names()\n",
    "var_index = 3   # 0=time, 1=X, 2=Y, 3=V  ###############\n",
    "var_name  = var_name_list[ var_index ]\n",
    "long_name = ncgs.get_var_long_name( var_name )\n",
    "var_units = ncgs.get_var_units( var_name )\n",
    "n_grids   = ncgs.ncgs_unit.variables[ var_name ].n_grids\n",
    "\n",
    "print('long_name =', long_name)\n",
    "print('var_name  =', var_name)\n",
    "print('var_units =', var_units)\n",
    "print('n_grids   =', n_grids)\n",
    "print('var_names in netCDF file =' )\n",
    "print( var_name_list )\n",
    "\n",
    "# Use these to set \"extent\" in plt.imshow().\n",
    "minlon = ncgs.ncgs_unit.variables['X'].geospatial_lon_min\n",
    "maxlon = ncgs.ncgs_unit.variables['X'].geospatial_lon_max\n",
    "minlat = ncgs.ncgs_unit.variables['Y'].geospatial_lat_min\n",
    "maxlat = ncgs.ncgs_unit.variables['Y'].geospatial_lat_max\n",
    "\n",
    "# Read the second grid in the grid stack\n",
    "time_index = 1\n",
    "grid = ncgs.get_grid( var_name, time_index )\n",
    "\n",
    "gmin = grid.min()\n",
    "gmax = grid.max()\n",
    "print( 'gmin =', gmin )\n",
    "print( 'gmax =', gmax)\n",
    "\n",
    "ncgs.close_file()"
   ]
  },
  {
   "cell_type": "markdown",
   "metadata": {},
   "source": [
    "# Apply a stretch to enchance image contrast"
   ]
  },
  {
   "cell_type": "code",
   "execution_count": 24,
   "metadata": {},
   "outputs": [],
   "source": [
    "# grid2 = power_stretch1( grid, 0.5)\n",
    "# grid2 = power_stretch1( grid, 0.2)\n",
    "# grid2 = log_stretch( grid )\n",
    "# grid2 = power_stretch2( grid )\n",
    "grid2 = power_stretch3( grid, a=0.5 )\n",
    "# grid2 = histogram_equalize( grid, PLOT_NCS=True)\n"
   ]
  },
  {
   "cell_type": "markdown",
   "metadata": {},
   "source": [
    "# Create a color image of the grid"
   ]
  },
  {
   "cell_type": "raw",
   "metadata": {},
   "source": [
    "# Information on matplotlib color maps\n",
    "# https://matplotlib.org/3.1.0/tutorials/colors/colormaps.html\n",
    "\n",
    "# Information on matplotlib.pyplot.imshow\n",
    "# https://matplotlib.org/3.1.1/api/_as_gen/matplotlib.pyplot.imshow.html\n",
    "\n",
    "# Information on matplotlib.pyplot.savefig\n",
    "# https://matplotlib.org/3.1.0/api/_as_gen/matplotlib.pyplot.savefig.html\n",
    "\n",
    "# plt.savefig(fname, dpi=None, facecolor='w', edgecolor='w',\n",
    "#         orientation='portrait', papertype=None, format=None,\n",
    "#         transparent=False, bbox_inches=None, pad_inches=0.1,\n",
    "#         frameon=None, metadata=None)"
   ]
  },
  {
   "cell_type": "code",
   "execution_count": 25,
   "metadata": {},
   "outputs": [
    {
     "data": {
      "image/png": "[encoded data removed]",
      "text/plain": [
       "<Figure size 648x648 with 1 Axes>"
      ]
     },
     "metadata": {
      "needs_background": "light"
     },
     "output_type": "display_data"
    }
   ],
   "source": [
    "# figure = plt.figure(1, figsize=(9,9))\n",
    "fig, ax = plt.subplots( figsize=(9,9))\n",
    "im_title = long_name.replace('_', ' ').title()\n",
    "ax.set_title( im_title )\n",
    "\n",
    "# Choose a color map\n",
    "cmap = 'rainbow'\n",
    "# cmap = 'hsv'\n",
    "# cmap = 'jet'\n",
    "# cmap = 'gist_rainbow'  # reverse rainbow\n",
    "# cmap = 'gist_ncar'\n",
    "# cmap = 'gist_stern'\n",
    "\n",
    "gmin = grid2.min()\n",
    "gmax = grid2.max()\n",
    "im = ax.imshow(grid2, interpolation='nearest', cmap=cmap,\n",
    "               vmin=gmin, vmax=gmax,\n",
    "               extent=[minlon, maxlon, minlat, maxlat])\n",
    "        \n",
    "# NOTE!  Saving must come before \"showing\" to avoid blank image.\n",
    "im_file = 'Test_Image.jpg'   # format inferred from extension, or set format\n",
    "plt.savefig( im_file )\n",
    "\n",
    "plt.show()"
   ]
  },
  {
   "cell_type": "markdown",
   "metadata": {},
   "source": [
    "# Create a set of image files from a TF grid stack"
   ]
  },
  {
   "cell_type": "code",
   "execution_count": 26,
   "metadata": {},
   "outputs": [
    {
     "name": "stdout",
     "output_type": "stream",
     "text": [
      "var_name  = Q\n",
      "long_name = volumetric_discharge\n",
      "Creating images from grid stack in nc_file:\n",
      "  Test1_2D-Q.nc\n",
      "  var name = volumetric_discharge\n",
      "This may take a few minutes.\n",
      "Working...\n",
      "Finished saving 167 images to PNG files.\n"
     ]
    }
   ],
   "source": [
    "nc_file = 'Test1_2D-Q.nc'\n",
    "# nc_file = 'Test1_2D-d-flood.nc'\n",
    "\n",
    "ncgs.open_file( nc_file )\n",
    "var_name_list = ncgs.get_var_names()\n",
    "var_index = 3   # 0=time, 1=X, 2=Y, 3=V  ###############\n",
    "var_name  = var_name_list[ var_index ]\n",
    "long_name = ncgs.get_var_long_name( var_name )\n",
    "print('var_name  =', var_name )\n",
    "print('long_name =', long_name )\n",
    "\n",
    "im_title = long_name.replace('_', ' ').title()\n",
    "im_file_prefix = 'TF_Movie_Frame_'\n",
    "time_pad_map = {1:'0000', 2:'000', 3:'00', 4:'0', 5:''}\n",
    "cmap = 'rainbow'\n",
    "\n",
    "print('Creating images from grid stack in nc_file:')\n",
    "print('  ' + nc_file )\n",
    "print('  ' + 'var name =', long_name)\n",
    "print('This may take a few minutes.')\n",
    "print('Working...')\n",
    "time_index = 0\n",
    "\n",
    "while (True):\n",
    "    # print('time index =', time_index )\n",
    "    try:\n",
    "        grid = ncgs.get_grid( var_name, time_index )\n",
    "    except:\n",
    "        break\n",
    "    time_index += 1\n",
    "    ## grid2 = log_stretch( grid )\n",
    "    ## grid2 = power_stretch1( grid )\n",
    "    grid2 = power_stretch3( grid )\n",
    "    ## grid2 = histogram_equalize( grid )\n",
    "    gmin = grid2.min()\n",
    "    gmax = grid2.max()\n",
    "\n",
    "    fig, ax = plt.subplots( figsize=(6,6), dpi=192) \n",
    "    ax.set_title( im_title )\n",
    "    im = ax.imshow(grid2, interpolation='nearest', cmap=cmap,\n",
    "                   vmin=gmin, vmax=gmax,\n",
    "                   extent=[minlon, maxlon, minlat, maxlat])\n",
    "    \n",
    "    # Build a filename for this image/frame\n",
    "    tstr = str(time_index)\n",
    "    pad = time_pad_map[ len(tstr) ]\n",
    "    time_str = (pad + tstr)\n",
    "    im_file = im_file_prefix + time_str + '.png' \n",
    "    im_file = (png_dir + '/' + im_file)\n",
    "\n",
    "    plt.savefig( im_file )\n",
    "    plt.close()\n",
    "\n",
    "ncgs.close_file()\n",
    "tstr = str(time_index)\n",
    "print('Finished saving ' + tstr + ' images to PNG files.')"
   ]
  },
  {
   "cell_type": "markdown",
   "metadata": {},
   "source": [
    "# Make a movie from a set of image files"
   ]
  },
  {
   "cell_type": "code",
   "execution_count": 27,
   "metadata": {},
   "outputs": [
    {
     "name": "stdout",
     "output_type": "stream",
     "text": [
      "Creating movie from 167 PNG files.\n",
      "Working...\n",
      "Finished creating movie, MP4 format.\n",
      "  Test_Movie.mp4\n",
      "\n"
     ]
    }
   ],
   "source": [
    "fps = 10  # frames per second\n",
    "mp4_file = 'Test_Movie.mp4'\n",
    "im_file_list = sorted( glob.glob( png_dir + '/*.png' ) )\n",
    "n_frames = len( im_file_list )\n",
    "\n",
    "print('Creating movie from', n_frames, 'PNG files.')\n",
    "## print('This may take a few minutes.')\n",
    "print('Working...')\n",
    "writer = imageio.get_writer( mp4_file, fps=fps )\n",
    "\n",
    "for im_file in im_file_list:\n",
    "    writer.append_data(imageio.imread( im_file ))\n",
    "writer.close()\n",
    "print('Finished creating movie, MP4 format.')\n",
    "print('  ' + mp4_file)\n",
    "print()\n"
   ]
  },
  {
   "cell_type": "markdown",
   "metadata": {},
   "source": [
    "# Create a time series plot"
   ]
  },
  {
   "cell_type": "code",
   "execution_count": 11,
   "metadata": {},
   "outputs": [
    {
     "name": "stdout",
     "output_type": "stream",
     "text": [
      "var_names in netCDF file =\n",
      "['time', 'df_79_4', 'df_76_14', 'df_79_29', 'df_59_48', 'df_60_48', 'df_76_45', 'df_74_44', 'df_81_56']\n",
      "\n"
     ]
    },
    {
     "data": {
      "image/png": "[encoded data removed]",
      "text/plain": [
       "<Figure size 792x432 with 1 Axes>"
      ]
     },
     "metadata": {
      "needs_background": "light"
     },
     "output_type": "display_data"
    }
   ],
   "source": [
    "# nc_file = 'Test1_0D-Q.nc'\n",
    "nc_file = 'Test1_0D-d-flood.nc'\n",
    "\n",
    "ncts = ncts_files.ncts_file()\n",
    "ncts.open_file( nc_file )\n",
    "var_name_list  = ncts.get_var_names()\n",
    "var_name = var_name_list[1]\n",
    "\n",
    "print( 'var_names in netCDF file =' )\n",
    "print( var_name_list )\n",
    "print()\n",
    "\n",
    "(series, times) = ncts.get_series( var_name )\n",
    "long_name = series.long_name\n",
    "v_units   = series.units\n",
    "t_units   = times.units\n",
    "values    = np.array( series )\n",
    "times     = np.array( times )\n",
    "# values = series[:]   # also works\n",
    "# times  = times[:]    # also works\n",
    "\n",
    "if (t_units == 'minutes'):\n",
    "    # times = times / 60.0\n",
    "    # t_units = 'hours'\n",
    "    times = times / (60.0 * 24)\n",
    "    t_units = 'days'\n",
    "\n",
    "# ymin = values.min()\n",
    "ymin = 0.0\n",
    "ymax = values.max()\n",
    "\n",
    "figure = plt.figure(1, figsize=(11,6))\n",
    "# fig, ax = plt.subplots( figsize=(11,6))\n",
    "\n",
    "# Set the plot point marker\n",
    "# https://matplotlib.org/3.1.1/api/markers_api.html\n",
    "marker = ','  # pixel\n",
    "# marker = '.'  # point (small circle)\n",
    "# marker = 'o'  # circle\n",
    "# marker = '+'\n",
    "# marker = 'x'\n",
    "\n",
    "plt.plot( times, values, marker=marker)\n",
    "plt.xlabel( 'Time' + ' [' + t_units + ']' )\n",
    "plt.ylabel( long_name + ' [' + v_units + ']' )\n",
    "plt.ylim( np.array(ymin, ymax) )\n",
    "\n",
    "plt.show()\n",
    "\n",
    "ncts.close_file()\n"
   ]
  },
  {
   "cell_type": "code",
   "execution_count": null,
   "metadata": {},
   "outputs": [],
   "source": []
  }
 ],
 "metadata": {
  "kernelspec": {
   "display_name": "Python [conda env:tfvis] *",
   "language": "python",
   "name": "conda-env-tfvis-py"
  },
  "language_info": {
   "codemirror_mode": {
    "name": "ipython",
    "version": 3
   },
   "file_extension": ".py",
   "mimetype": "text/x-python",
   "name": "python",
   "nbconvert_exporter": "python",
   "pygments_lexer": "ipython3",
   "version": "3.7.5"
  }
 },
 "nbformat": 4,
 "nbformat_minor": 4
}
