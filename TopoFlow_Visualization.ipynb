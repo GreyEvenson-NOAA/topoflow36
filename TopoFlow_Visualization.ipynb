{
 "cells": [
  {
   "cell_type": "markdown",
   "metadata": {},
   "source": [
    "# Jupyter Notebook to Visualize TopoFlow Output"
   ]
  },
  {
   "cell_type": "markdown",
   "metadata": {},
   "source": [
    "TopoFlow stores values of output variables in multiple file formats, but the main one is netCDF format.  This Jupyter notebook shows how to read values of variables from TopoFlow netCDF output files and to then visualize them.\n",
    "\n",
    "The TopoFlow model consists of a collection of <b>components</b>, each of which is able to model a particular hydrologic process in a particular way.  It provides a very flexible, <b>plug-and-play</b> modeling environment where a user specifies which set of components they want to use.  The EMELI framework then assembles these components into a functioning hydrologic model.\n",
    "\n",
    "Each TopoFlow component has its own configuration file  or <b>cfg file</b> ending in the extension \".cfg\".  These are text files that can be edited by hand or with scripts and they set the options, parameters, names of input files, etc. that are to be used by the component for a particular model run.  This particular model run is characterized by a <b>case prefix</b> (case as in scenario).  TopoFlow input files that describe static features of the site (a geographic bounding box) to be modeled start with a <b>site prefix</b> and do not change between model runs.  TopoFlow input and configuration files that correspond to a particular scenario (e.g. time period, climate forcing, parameter settings, choice of components, etc.) start with the case prefix.\n",
    "\n",
    "In a model component's CFG file, there are toggles that determine which variables are to be written to files, and how often.  Since TopoFlow is a spatial hydrologic model, most variables are computed on a grid (2D array) that changes with each model time step.  Users can choose to write out this entire grid to a file at some time interval (save_grid_dt), and/or they can write out values for specific grid cells (0D) within the grid at some other time interval (save_pixels_dt).\n",
    "\n",
    "The various types of TopoFlow output can be summarized as follows.  In each case, the output file contains values of some variable (say V) that <b>vary in time</b>, that is, a <b>series</b>.  Output filenames start with the <b>case prefix</b>.  The dimensionality of the output is indicated in the output file name with \"0D_\", \"1D_\", \"2D_\" or \"3D_\" followed by a variable name abbreviation (e.g. \"Q\" or \"d-flood\").\n",
    "\n",
    "<b>0D = Time series</b> (or Point series) <br>\n",
    "Scalar values of V, at one or more model grid cells. <br>\n",
    "Formats:  (1) netCDF, and (2) multi-column text (i.e. CSV) <br>\n",
    "Utility:  topoflow/utils/ncts_files.py <br>\n",
    "Example:  river depth over time for given grid cell <br>\n",
    "Note:     monitored grid cells are specified in [case_prefix]_outlets.txt. <br>\n",
    "\n",
    "<b>1D = Profile series</b> <br>\n",
    "A 1D array of values of V, at one or more grid cells . <br>\n",
    "Formats: (1) netCDF<br>\n",
    "Utility:  topoflow/utils/ncps_files.py<br>\n",
    "Example:  1D, vertical slice of a 3D array (e.g. soil moisture profile) <br>\n",
    "Note:     Chosen grid cells are specified in [case_prefix]_outlets.txt. <br>\n",
    "\n",
    "<b>2D = Grid series (or stack)</b> <br>\n",
    "A 2D array of values of V, for the entire model grid (all cells).<br>\n",
    "Formats:  (1) netCDF, (2) RTS, (3) BOV <br>\n",
    "Utility:  topoflow/utils/ncgs_files.py <br>\n",
    "Example:  river discharges for the entire model grid <br>\n",
    "\n",
    "<b>3D = \"Cube\" series</b> <br>\n",
    "A 3D array of values of V, for entire model grid and various depths.<br>\n",
    "Formats:  (1) netCDF <br>\n",
    "Utility:  topoflow/utils/nccs_files.py <br>\n",
    "Example:  3D array of subsurface soil moisture (grid + depth). <br>\n"
   ]
  },
  {
   "cell_type": "markdown",
   "metadata": {},
   "source": [
    "# Set up a conda environment with all dependencies"
   ]
  },
  {
   "cell_type": "markdown",
   "metadata": {},
   "source": [
    "Before you can run the code in this notebook, you will need to install the TopoFlow 3.6 Python package.\n",
    "\n",
    "It is recommended to use Python 3.7 (or higher) from an Anaconda distribution and to install TopoFlow 3.6 in a conda environment called \"tfvis\".  In Anaconda is already installed, you can use the following commands on Mac or Linux to install TopoFlow.  This helps to isolate it from the rest of your Python environment to avoid potential package conflicts."
   ]
  },
  {
   "cell_type": "markdown",
   "metadata": {},
   "source": [
    "```\n",
    "% conda update -n base conda\n",
    "% conda create --name tfvis\n",
    "% conda activate tfvis\n",
    "% conda install matplotlib\n",
    "% conda install imageio\n",
    "% pip install imageio-ffmpeg  (an imageio extension)\n",
    "\n",
    "Download the TopoFlow 3.6 package from GitHub repo \"topoflow36\".\n",
    "Copy it somewhere. Denote this full path as TF36_DIR.\n",
    "e.g. TF36_DIR = /Users/peckhams/Dropbox/TopoFlow_3.6\n",
    "\n",
    "% cd TF36_DIR\n",
    "% pip install -e .   (-e is the editable/developer option)\n",
    "% cd\n",
    "\n",
    "If you would like to run the notebook in jupyterlab, also do this.\n",
    "% conda install -c conda-forge jupyterlab\n",
    "% conda install -c conda-forge nb_conda_kernels (needed for conda envs)\n",
    "% jupyter lab\n",
    "```"
   ]
  },
  {
   "cell_type": "markdown",
   "metadata": {},
   "source": [
    "Finally, choose <b>TopoFlow_Getting_Started.ipynb</b> in Jupyter Notebook or Jupyter Lab.\n",
    "In Jupyter Lab, choose the kernel:  Python [conda evn:tfvis].  Whenever you want to run this notebook, you will then need to switch to this \"tfvis\" environment with the command: \"conda activate tfvis\"."
   ]
  },
  {
   "cell_type": "markdown",
   "metadata": {},
   "source": [
    "# Create some directories in your home directory"
   ]
  },
  {
   "cell_type": "code",
   "execution_count": 12,
   "metadata": {
    "jupyter": {
     "outputs_hidden": false
    }
   },
   "outputs": [],
   "source": [
    "import glob\n",
    "import os, os.path\n",
    "import shutil\n",
    "\n",
    "site_prefix = 'Baro_Gam_1min'\n",
    "# case_prefix = 'Test1'\n",
    "case_prefix = 'Test2'\n",
    "\n",
    "home_dir   = os.path.expanduser(\"~\")\n",
    "\n",
    "test_dir   = home_dir + '/TF_Tests'\n",
    "output_dir = test_dir + '/' + site_prefix\n",
    "\n",
    "# Original directories\n",
    "# test_dir   = home_dir + '/TF_Output'\n",
    "# output_dir = test_dir + '/' + case_prefix\n",
    "\n",
    "png_dir    = output_dir + '/' + 'png_files'\n",
    "png_dir2   = output_dir + '/' + 'png_files2'\n",
    "\n",
    "if not(os.path.exists( test_dir )):   os.mkdir( test_dir )\n",
    "if not(os.path.exists( output_dir )): os.mkdir( output_dir)\n",
    "if not(os.path.exists( png_dir )):    os.mkdir( png_dir)\n",
    "if not(os.path.exists( png_dir2 )):   os.mkdir( png_dir2)\n",
    "    \n",
    "os.chdir( output_dir )"
   ]
  },
  {
   "cell_type": "markdown",
   "metadata": {},
   "source": [
    "# Import required Python packages"
   ]
  },
  {
   "cell_type": "code",
   "execution_count": 13,
   "metadata": {},
   "outputs": [],
   "source": [
    "import numpy as np\n",
    "import matplotlib.pyplot as plt\n",
    "import imageio\n",
    "\n",
    "from topoflow.utils import ncgs_files\n",
    "from topoflow.utils import ncts_files\n",
    "from topoflow.utils import ncps_files\n"
   ]
  },
  {
   "cell_type": "markdown",
   "metadata": {},
   "source": [
    "# Define some useful \"stretch\" functions"
   ]
  },
  {
   "cell_type": "code",
   "execution_count": 14,
   "metadata": {},
   "outputs": [],
   "source": [
    "# https://docs.scipy.org/doc/numpy/reference/generated/numpy.histogram.html\n",
    "\n",
    "def histogram_equalize( grid, PLOT_NCS=False):\n",
    "    (hist, bin_edges) = np.histogram( grid, bins=256)\n",
    "    # hmin = hist.min()\n",
    "    # hmax = hist.max()\n",
    "\n",
    "    cs  = hist.cumsum()\n",
    "    ncs = (cs - cs.min()) / (cs.max() - cs.min())\n",
    "    ncs.astype('uint8');\n",
    "    if (PLOT_NCS):\n",
    "        plt.plot( ncs )\n",
    "\n",
    "    flat = grid.flatten()\n",
    "    flat2 = np.uint8( 255 * (flat - flat.min()) / (flat.max() - flat.min()) )\n",
    "    grid2 = ncs[ flat2 ].reshape( grid.shape )\n",
    "    return grid2\n",
    "\n",
    "def power_stretch1( grid, p ):\n",
    "    return grid**p\n",
    "\n",
    "def power_stretch2( grid, a=1000, b=0.5):\n",
    "    # Note: Try a=1000 and b=0.5\n",
    "    gmin = grid.min()\n",
    "    gmax = grid.max()\n",
    "    norm = (grid - gmin) / (gmax - gmin)\n",
    "    return (1 - (1 + a * norm)**(-b))\n",
    "\n",
    "def power_stretch3( grid, a=1, b=2):\n",
    "    # Note:  Try a=1, b=2 (shape of a quarter circle)\n",
    "    gmin = grid.min()\n",
    "    gmax = grid.max()\n",
    "    norm = (grid - gmin) / (gmax - gmin)\n",
    "    return (1 - (1 - norm**a)**b)**(1/b)\n",
    "\n",
    "def log_stretch( grid, a=1 ):\n",
    "    return np.log( (a * grid) + 1 )\n"
   ]
  },
  {
   "cell_type": "markdown",
   "metadata": {},
   "source": [
    "# Read grid from a grid stack in a TF netCDF file"
   ]
  },
  {
   "cell_type": "code",
   "execution_count": 15,
   "metadata": {},
   "outputs": [
    {
     "name": "stdout",
     "output_type": "stream",
     "text": [
      "long_name = volumetric_discharge\n",
      "var_name  = Q\n",
      "var_units = m^3/s\n",
      "n_grids   = 25\n",
      "var_names in netCDF file =\n",
      "['time', 'X', 'Y', 'Q']\n",
      "gmin = 0.0\n",
      "gmax = 1533.3933\n"
     ]
    }
   ],
   "source": [
    "ncgs = ncgs_files.ncgs_file()\n",
    "\n",
    "nc_file = case_prefix + '_2D-Q.nc'\n",
    "# nc_file = case_prefix + '_2D-d-flood.nc'\n",
    "\n",
    "ncgs.open_file( nc_file )\n",
    "var_name_list = ncgs.get_var_names()\n",
    "var_index = 3   # 0=time, 1=X, 2=Y, 3=V  ###############\n",
    "var_name  = var_name_list[ var_index ]\n",
    "long_name = ncgs.get_var_long_name( var_name )\n",
    "var_units = ncgs.get_var_units( var_name )\n",
    "n_grids   = ncgs.ncgs_unit.variables[ var_name ].n_grids\n",
    "\n",
    "print('long_name =', long_name)\n",
    "print('var_name  =', var_name)\n",
    "print('var_units =', var_units)\n",
    "print('n_grids   =', n_grids)\n",
    "print('var_names in netCDF file =' )\n",
    "print( var_name_list )\n",
    "\n",
    "# Use these to set \"extent\" in plt.imshow().\n",
    "minlon = ncgs.ncgs_unit.variables['X'].geospatial_lon_min\n",
    "maxlon = ncgs.ncgs_unit.variables['X'].geospatial_lon_max\n",
    "minlat = ncgs.ncgs_unit.variables['Y'].geospatial_lat_min\n",
    "maxlat = ncgs.ncgs_unit.variables['Y'].geospatial_lat_max\n",
    "\n",
    "# Read the second grid in the grid stack\n",
    "time_index = 1\n",
    "grid = ncgs.get_grid( var_name, time_index )\n",
    "\n",
    "gmin = grid.min()\n",
    "gmax = grid.max()\n",
    "print( 'gmin =', gmin )\n",
    "print( 'gmax =', gmax)\n",
    "\n",
    "ncgs.close_file()"
   ]
  },
  {
   "cell_type": "markdown",
   "metadata": {},
   "source": [
    "# Apply a stretch to enchance image contrast"
   ]
  },
  {
   "cell_type": "code",
   "execution_count": 16,
   "metadata": {},
   "outputs": [],
   "source": [
    "# grid2 = power_stretch1( grid, 0.5)\n",
    "# grid2 = power_stretch1( grid, 0.2)\n",
    "# grid2 = log_stretch( grid )\n",
    "# grid2 = power_stretch2( grid )\n",
    "grid2 = power_stretch3( grid, a=0.5 )\n",
    "# grid2 = histogram_equalize( grid, PLOT_NCS=True)\n"
   ]
  },
  {
   "cell_type": "markdown",
   "metadata": {},
   "source": [
    "# Create a color image of the grid"
   ]
  },
  {
   "cell_type": "code",
   "execution_count": 17,
   "metadata": {},
   "outputs": [
    {
     "data": {
      "image/png": "[encoded data removed]",
      "text/plain": [
       "<Figure size 648x648 with 1 Axes>"
      ]
     },
     "metadata": {
      "needs_background": "light"
     },
     "output_type": "display_data"
    }
   ],
   "source": [
    "# figure = plt.figure(1, figsize=(9,9))\n",
    "fig, ax = plt.subplots( figsize=(9,9))\n",
    "im_title = long_name.replace('_', ' ').title()\n",
    "ax.set_title( im_title )\n",
    "ax.set_xlabel('Longitude [deg]')\n",
    "ax.set_ylabel('Latitude [deg]')\n",
    "\n",
    "# Choose a color map\n",
    "cmap = 'rainbow'\n",
    "# cmap = 'hsv'\n",
    "# cmap = 'jet'\n",
    "# cmap = 'gist_rainbow'  # reverse rainbow\n",
    "# cmap = 'gist_ncar'\n",
    "# cmap = 'gist_stern'\n",
    "\n",
    "gmin = grid2.min()\n",
    "gmax = grid2.max()\n",
    "im = ax.imshow(grid2, interpolation='nearest', cmap=cmap,\n",
    "               vmin=gmin, vmax=gmax,\n",
    "               extent=[minlon, maxlon, minlat, maxlat])\n",
    "        \n",
    "# NOTE!  Saving must come before \"showing\" to avoid blank image.\n",
    "im_file = 'Test_Image.jpg'   # format inferred from extension, or set format\n",
    "plt.savefig( im_file )\n",
    "\n",
    "plt.show()"
   ]
  },
  {
   "cell_type": "markdown",
   "metadata": {},
   "source": [
    "```\n",
    "Information on matplotlib color maps\n",
    "https://matplotlib.org/3.1.0/tutorials/colors/colormaps.html\n",
    "\n",
    "Information on matplotlib.pyplot.imshow\n",
    "https://matplotlib.org/3.1.1/api/_as_gen/matplotlib.pyplot.imshow.html\n",
    "\n",
    "Information on matplotlib.pyplot.savefig\n",
    "https://matplotlib.org/3.1.0/api/_as_gen/matplotlib.pyplot.savefig.html\n",
    "\n",
    "plt.savefig(fname, dpi=None, facecolor='w', edgecolor='w',\n",
    "            orientation='portrait', papertype=None, format=None,\n",
    "            transparent=False, bbox_inches=None, pad_inches=0.1,\n",
    "            frameon=None, metadata=None)\n",
    "```"
   ]
  },
  {
   "cell_type": "markdown",
   "metadata": {},
   "source": [
    "# Create a set of image files from a TF grid stack"
   ]
  },
  {
   "cell_type": "code",
   "execution_count": 18,
   "metadata": {},
   "outputs": [
    {
     "name": "stdout",
     "output_type": "stream",
     "text": [
      "var_name  = Q\n",
      "long_name = volumetric_discharge\n",
      "Creating images from grid stack in nc_file:\n",
      "  Test2_2D-Q.nc\n",
      "  var name = volumetric_discharge\n",
      "This may take a few minutes.\n",
      "Working...\n",
      "Finished saving 25 images to PNG files.\n"
     ]
    }
   ],
   "source": [
    "nc_file = case_prefix + '_2D-Q.nc'\n",
    "# nc_file = case_prefix + '_2D-d-flood.nc'\n",
    "\n",
    "ncgs.open_file( nc_file )\n",
    "var_name_list = ncgs.get_var_names()\n",
    "var_index = 3   # 0=time, 1=X, 2=Y, 3=V  ###############\n",
    "var_name  = var_name_list[ var_index ]\n",
    "long_name = ncgs.get_var_long_name( var_name )\n",
    "print('var_name  =', var_name )\n",
    "print('long_name =', long_name )\n",
    "\n",
    "im_title = long_name.replace('_', ' ').title()\n",
    "im_file_prefix = 'TF_Movie_Frame_'\n",
    "time_pad_map = {1:'0000', 2:'000', 3:'00', 4:'0', 5:''}\n",
    "cmap = 'rainbow'\n",
    "\n",
    "print('Creating images from grid stack in nc_file:')\n",
    "print('  ' + nc_file )\n",
    "print('  ' + 'var name =', long_name)\n",
    "print('This may take a few minutes.')\n",
    "print('Working...')\n",
    "time_index = 0\n",
    "\n",
    "while (True):\n",
    "    # print('time index =', time_index )\n",
    "    try:\n",
    "        grid = ncgs.get_grid( var_name, time_index )\n",
    "    except:\n",
    "        break\n",
    "    time_index += 1\n",
    "    ## grid2 = log_stretch( grid )\n",
    "    ## grid2 = power_stretch1( grid )\n",
    "    grid2 = power_stretch3( grid )\n",
    "    ## grid2 = histogram_equalize( grid )\n",
    "    gmin = grid2.min()\n",
    "    gmax = grid2.max()\n",
    "\n",
    "    fig, ax = plt.subplots( figsize=(6,6), dpi=192) \n",
    "    ax.set_title( im_title )\n",
    "    ax.set_xlabel('Longitude [deg]')\n",
    "    ax.set_ylabel('Latitude [deg]')\n",
    "    im = ax.imshow(grid2, interpolation='nearest', cmap=cmap,\n",
    "                   vmin=gmin, vmax=gmax,\n",
    "                   extent=[minlon, maxlon, minlat, maxlat])\n",
    "    \n",
    "    # Build a filename for this image/frame\n",
    "    tstr = str(time_index)\n",
    "    pad = time_pad_map[ len(tstr) ]\n",
    "    time_str = (pad + tstr)\n",
    "    im_file = im_file_prefix + time_str + '.png' \n",
    "    im_file = (png_dir + '/' + im_file)\n",
    "\n",
    "    plt.savefig( im_file )\n",
    "    plt.close()\n",
    "\n",
    "ncgs.close_file()\n",
    "tstr = str(time_index)\n",
    "print('Finished saving ' + tstr + ' images to PNG files.')"
   ]
  },
  {
   "cell_type": "markdown",
   "metadata": {},
   "source": [
    "# Make a movie from a set of image files"
   ]
  },
  {
   "cell_type": "code",
   "execution_count": 19,
   "metadata": {},
   "outputs": [
    {
     "name": "stdout",
     "output_type": "stream",
     "text": [
      "Creating movie from 25 PNG files.\n",
      "Working...\n",
      "Finished creating movie, MP4 format.\n",
      "  Test2_Movie.mp4\n",
      "\n"
     ]
    }
   ],
   "source": [
    "fps = 10  # frames per second\n",
    "mp4_file = case_prefix + '_Movie.mp4'\n",
    "im_file_list = sorted( glob.glob( png_dir + '/*.png' ) )\n",
    "n_frames = len( im_file_list )\n",
    "\n",
    "print('Creating movie from', n_frames, 'PNG files.')\n",
    "## print('This may take a few minutes.')\n",
    "print('Working...')\n",
    "writer = imageio.get_writer( mp4_file, fps=fps )\n",
    "\n",
    "for im_file in im_file_list:\n",
    "    writer.append_data(imageio.imread( im_file ))\n",
    "writer.close()\n",
    "print('Finished creating movie, MP4 format.')\n",
    "print('  ' + mp4_file)\n",
    "print()\n"
   ]
  },
  {
   "cell_type": "markdown",
   "metadata": {},
   "source": [
    "# Create a time series plot"
   ]
  },
  {
   "cell_type": "code",
   "execution_count": 20,
   "metadata": {},
   "outputs": [
    {
     "name": "stdout",
     "output_type": "stream",
     "text": [
      "var_names in netCDF file =\n",
      "['time', 'Q_79_4', 'Q_76_14', 'Q_79_29', 'Q_59_48', 'Q_60_48', 'Q_76_45', 'Q_74_44', 'Q_81_56']\n",
      "var longitudes =\n",
      "[34.28791666666667, 34.45458333333333, 34.70458333333333, 35.021249999999995, 35.021249999999995, 34.97125, 34.95458333333333, 35.15458333333333]\n",
      "var latitudes =\n",
      "[8.687083333333668, 8.637083333333667, 8.687083333333668, 8.353750000000334, 8.370416666667001, 8.637083333333667, 8.603750000000334, 8.720416666667]\n",
      "\n"
     ]
    },
    {
     "data": {
      "image/png": "[encoded data removed]",
      "text/plain": [
       "<Figure size 792x432 with 1 Axes>"
      ]
     },
     "metadata": {
      "needs_background": "light"
     },
     "output_type": "display_data"
    }
   ],
   "source": [
    "os.chdir( output_dir )\n",
    "nc_file = case_prefix + '_0D-Q.nc'\n",
    "# nc_file = case_prefix + '_0D-d-flood.nc'\n",
    "\n",
    "ncts = ncts_files.ncts_file()\n",
    "ncts.open_file( nc_file )\n",
    "var_name_list = ncts.get_var_names()\n",
    "lon_list      = ncts.get_var_lons()\n",
    "lat_list      = ncts.get_var_lats()\n",
    "\n",
    "var_index = 1\n",
    "var_name = var_name_list[ var_index ]\n",
    "\n",
    "print( 'var_names in netCDF file =' )\n",
    "print( var_name_list )\n",
    "print( 'var longitudes =')\n",
    "print( lon_list )\n",
    "print( 'var latitudes =')\n",
    "print( lat_list )\n",
    "print()\n",
    "\n",
    "(series, times) = ncts.get_series( var_name )\n",
    "long_name = series.long_name\n",
    "v_units   = series.units\n",
    "t_units   = times.units\n",
    "values    = np.array( series )\n",
    "times     = np.array( times )\n",
    "# values = series[:]   # also works\n",
    "# times  = times[:]    # also works\n",
    "\n",
    "if (t_units == 'minutes'):\n",
    "    # times = times / 60.0\n",
    "    # t_units = 'hours'\n",
    "    times = times / (60.0 * 24)\n",
    "    t_units = 'days'\n",
    "\n",
    "# ymin = values.min()\n",
    "ymin = 0.0\n",
    "ymax = values.max()\n",
    "\n",
    "figure = plt.figure(1, figsize=(11,6))\n",
    "# fig, ax = plt.subplots( figsize=(11,6))\n",
    "\n",
    "# Set the plot point marker\n",
    "# https://matplotlib.org/3.1.1/api/markers_api.html\n",
    "marker = ','  # pixel\n",
    "# marker = '.'  # point (small circle)\n",
    "# marker = 'o'  # circle\n",
    "# marker = '+'\n",
    "# marker = 'x'\n",
    "\n",
    "y_name = long_name.replace('_', ' ').title()\n",
    "\n",
    "plt.plot( times, values, marker=marker)\n",
    "plt.xlabel( 'Time' + ' [' + t_units + ']' )\n",
    "plt.ylabel( y_name + ' [' + v_units + ']' )\n",
    "plt.ylim( np.array(ymin, ymax) )\n",
    "\n",
    "plt.show()\n",
    "\n",
    "ncts.close_file()\n"
   ]
  },
  {
   "cell_type": "markdown",
   "metadata": {},
   "source": [
    "# Create a profile series plot"
   ]
  },
  {
   "cell_type": "code",
   "execution_count": 21,
   "metadata": {},
   "outputs": [
    {
     "name": "stdout",
     "output_type": "stream",
     "text": [
      "var_names in netCDF file =\n",
      "['time', 'z', 'q_79_4', 'q_76_14', 'q_79_29', 'q_59_48', 'q_60_48', 'q_76_45', 'q_74_44', 'q_81_56']\n",
      "var longitudes =\n",
      "[34.28791666666667, 34.45458333333333, 34.70458333333333, 35.021249999999995, 35.021249999999995, 34.97125, 34.95458333333333, 35.15458333333333]\n",
      "var latitudes =\n",
      "[8.687083333333668, 8.637083333333667, 8.687083333333668, 8.353750000000334, 8.370416666667001, 8.637083333333667, 8.603750000000334, 8.720416666667]\n",
      "\n"
     ]
    },
    {
     "data": {
      "image/png": "[encoded data removed]",
      "text/plain": [
       "<Figure size 792x432 with 1 Axes>"
      ]
     },
     "metadata": {
      "needs_background": "light"
     },
     "output_type": "display_data"
    }
   ],
   "source": [
    "os.chdir( output_dir )\n",
    "nc_file = case_prefix + '_1D-q.nc'\n",
    "# nc_file = case_prefix + '_1D-p.nc'\n",
    "# nc_file = case_prefix + '_1D-v.nc'\n",
    "\n",
    "ncps = ncps_files.ncps_file()\n",
    "ncps.open_file( nc_file )\n",
    "var_name_list = ncps.get_var_names()\n",
    "lon_list      = ncps.get_var_lons()\n",
    "lat_list      = ncps.get_var_lats()\n",
    "\n",
    "var_index = 2  #### 0 = time, 1 = z, 2 = var\n",
    "var_name = var_name_list[ var_index ]\n",
    "\n",
    "print( 'var_names in netCDF file =' )\n",
    "print( var_name_list )\n",
    "print( 'var longitudes =')\n",
    "print( lon_list )\n",
    "print( 'var latitudes =')\n",
    "print( lat_list )\n",
    "print()\n",
    "\n",
    "# (profile, z, time) = ncps.get_profile(var_name, time_index)\n",
    "\n",
    "(profiles, z, times) = ncps.get_profiles(var_name)\n",
    "long_name = profiles.long_name\n",
    "v_units   = profiles.units\n",
    "z_units   = z.units\n",
    "# t_units   = times.units\n",
    "\n",
    "time_index = 50   ######\n",
    "profile    = profiles[ time_index]\n",
    "time       = times[ time_index ]\n",
    "values     = np.array( profile )\n",
    "z_values   = np.array( z )\n",
    "# times     = np.array( times )\n",
    "# values = profile[:]   # also works\n",
    "# times  = times[:]    # also works\n",
    "\n",
    "# if (t_units == 'minutes'):\n",
    "#     # times = times / 60.0\n",
    "#     # t_units = 'hours'\n",
    "#     times = times / (60.0 * 24)\n",
    "#     t_units = 'days'\n",
    "\n",
    "# ymin = 0.0\n",
    "ymin = values.min()\n",
    "ymax = values.max()\n",
    "\n",
    "figure = plt.figure(1, figsize=(11,6))\n",
    "# fig, ax = plt.subplots( figsize=(11,6))\n",
    "\n",
    "# Set the plot point marker\n",
    "# https://matplotlib.org/3.1.1/api/markers_api.html\n",
    "marker = ','  # pixel\n",
    "# marker = '.'  # point (small circle)\n",
    "# marker = 'o'  # circle\n",
    "# marker = '+'\n",
    "# marker = 'x'\n",
    "\n",
    "y_name = long_name.replace('_', ' ').title()\n",
    "\n",
    "plt.plot( z_values, values, marker=marker)\n",
    "plt.xlabel( 'Depth' + ' [' + z_units + ']' )\n",
    "plt.ylabel( y_name + ' [' + v_units + ']' )\n",
    "plt.ylim( np.array(ymin, ymax) )\n",
    "\n",
    "plt.show()\n",
    "\n",
    "ncps.close_file()"
   ]
  },
  {
   "cell_type": "markdown",
   "metadata": {},
   "source": [
    "# Create a set of image files from a TF profile series"
   ]
  },
  {
   "cell_type": "code",
   "execution_count": 55,
   "metadata": {},
   "outputs": [
    {
     "name": "stdout",
     "output_type": "stream",
     "text": [
      "var_name  = K_79_4\n",
      "long_name = hydraulic_conductivity\n",
      "Creating images from grid stack in nc_file:\n",
      "  Test2_1D-K.nc\n",
      "  var name = hydraulic_conductivity\n",
      "This may take a few minutes.\n",
      "Working...\n",
      "Finished saving 600 images to PNG files.\n"
     ]
    }
   ],
   "source": [
    "# nc_file = case_prefix + '_1D-q.nc'\n",
    "# nc_file = case_prefix + '_1D-p.nc'\n",
    "# nc_file = case_prefix + '_1D-v.nc'\n",
    "nc_file = case_prefix + '_1D-K.nc'\n",
    "\n",
    "ncps.open_file( nc_file )\n",
    "var_name_list = ncps.get_var_names()\n",
    "var_index = 2   #### 0 = time, 1 = z, 2 = var\n",
    "var_name  = var_name_list[ var_index ]\n",
    "long_name = ncps.get_var_long_name( var_name )\n",
    "## svo_name = ncps.get_var_svo_name( var_name )\n",
    "print('var_name  =', var_name )\n",
    "print('long_name =', long_name )\n",
    "## print('svo_name  =', svo_name )\n",
    "\n",
    "# Set the plot point marker\n",
    "# https://matplotlib.org/3.1.1/api/markers_api.html\n",
    "marker = ','  # pixel\n",
    "# marker = '.'  # point (small circle)\n",
    "# marker = 'o'  # circle\n",
    "# marker = '+'\n",
    "# marker = 'x'\n",
    "y_name = long_name.replace('_', ' ').title()\n",
    "\n",
    "im_title = long_name.replace('_', ' ').title()\n",
    "im_file_prefix = 'TF_Profie_Movie_Frame_'\n",
    "time_pad_map = {1:'0000', 2:'000', 3:'00', 4:'0', 5:''}\n",
    "cmap = 'rainbow'\n",
    "\n",
    "print('Creating images from grid stack in nc_file:')\n",
    "print('  ' + nc_file )\n",
    "print('  ' + 'var name =', long_name)\n",
    "print('This may take a few minutes.')\n",
    "print('Working...')\n",
    "time_index = 0\n",
    "\n",
    "while (True):\n",
    "    # print('time index =', time_index )\n",
    "    try:\n",
    "        (profiles, z, times) = ncps.get_profiles( var_name )\n",
    "        profile = profiles[ time_index ]\n",
    "        time    = times[ time_index ]\n",
    "    except:\n",
    "        break\n",
    " \n",
    "    values    = np.array( profile )\n",
    "    z_values  = np.array( z )\n",
    "    time_index += 1\n",
    "    ymin = values.min()\n",
    "    ymax = values.max()\n",
    "\n",
    "    fig, ax = plt.subplots( figsize=(8,6), dpi=192) \n",
    "    ax.set_title( im_title )   \n",
    "    plt.plot( z_values, values, marker=marker)\n",
    "    plt.xlabel( 'Depth' + ' [' + z_units + ']' )\n",
    "    plt.ylabel( y_name + ' [' + v_units + ']' )\n",
    "    plt.ylim( np.array(ymin, ymax) )\n",
    "    ## plt.show()  #####  Don't show each plot as it is generated.\n",
    "\n",
    "    # Build a filename for this image/frame\n",
    "    tstr = str(time_index)\n",
    "    pad = time_pad_map[ len(tstr) ]\n",
    "    time_str = (pad + tstr)\n",
    "    im_file = im_file_prefix + time_str + '.png' \n",
    "    im_file = (png_dir2 + '/' + im_file)\n",
    "\n",
    "    plt.savefig( im_file )\n",
    "    plt.close()\n",
    "\n",
    "ncps.close_file()\n",
    "tstr = str(time_index)\n",
    "print('Finished saving ' + tstr + ' images to PNG files.')"
   ]
  },
  {
   "cell_type": "markdown",
   "metadata": {},
   "source": [
    "# Make a movie from a set of soil profile plots"
   ]
  },
  {
   "cell_type": "code",
   "execution_count": 56,
   "metadata": {},
   "outputs": [
    {
     "name": "stdout",
     "output_type": "stream",
     "text": [
      "Creating movie from 600 PNG files.\n",
      "Working...\n",
      "Finished creating movie, MP4 format.\n",
      "  Test2_Profile_Movie_K.mp4\n",
      "\n"
     ]
    }
   ],
   "source": [
    "fps = 10  # frames per second\n",
    "mp4_file = case_prefix + '_Profile_Movie_K.mp4'\n",
    "im_file_list = sorted( glob.glob( png_dir2 + '/*.png' ) )\n",
    "n_frames = len( im_file_list )\n",
    "\n",
    "print('Creating movie from', n_frames, 'PNG files.')\n",
    "## print('This may take a few minutes.')\n",
    "print('Working...')\n",
    "writer = imageio.get_writer( mp4_file, fps=fps )\n",
    "\n",
    "for im_file in im_file_list:\n",
    "    writer.append_data(imageio.imread( im_file ))\n",
    "writer.close()\n",
    "print('Finished creating movie, MP4 format.')\n",
    "print('  ' + mp4_file)\n",
    "print()\n"
   ]
  },
  {
   "cell_type": "code",
   "execution_count": 49,
   "metadata": {},
   "outputs": [],
   "source": [
    "from IPython.display import Video\n",
    "\n",
    "#--------------------------------------------------------------------\n",
    "# Note: For some reason, the mp4 file must be in the same directory\n",
    "#       as the .ipynb file (e.g. /User/peckhams/Jupyter).\n",
    "#       Specifying the full path by these methods doesn't work.\n",
    "#       Creating a symbolic link should work, however.\n",
    "#--------------------------------------------------------------------\n",
    "# mp4_file2 = output_dir + '/' + mp4_file\n",
    "## mp4_file2 = '../../..' + output_dir + '/' + mp4_file\n",
    "## print( mp4_file2 )\n",
    "# os.path.expandvars( mp4_file2 )\n",
    "# Video( mp4_file2, width=600, height=450)\n",
    "\n",
    "# help(Video)\n",
    "\n",
    "#----------------------------------------------\n",
    "# Movie is (8\" x 6\"), so aspect ratio is 3/4.\n",
    "# 450/600 = 3/4.  Only works if the MP4 file\n",
    "# is in the same directory as the notebook.\n",
    "#----------------------------------------------\n",
    "# Video( mp4_file, width=600, height=450)\n"
   ]
  },
  {
   "cell_type": "markdown",
   "metadata": {},
   "source": [
    "# Show video using a markdown cell (see code)"
   ]
  },
  {
   "cell_type": "markdown",
   "metadata": {},
   "source": [
    "<video controls src=mp4_file2 />"
   ]
  },
  {
   "cell_type": "code",
   "execution_count": 33,
   "metadata": {},
   "outputs": [],
   "source": [
    "# An alternate approach.\n",
    "#-------------------------\n",
    "# from IPython.display import HTML\n",
    "\n",
    "# HTML(\"\"\"\n",
    "# <video width=\"320\" height=\"240\" controls>\n",
    "#   <source src=mp4_file type=\"video/mp4\">\n",
    "# </video>\n",
    "# \"\"\")"
   ]
  }
 ],
 "metadata": {
  "kernelspec": {
   "display_name": "Python [conda env:tfvis]",
   "language": "python",
   "name": "conda-env-tfvis-py"
  },
  "language_info": {
   "codemirror_mode": {
    "name": "ipython",
    "version": 3
   },
   "file_extension": ".py",
   "mimetype": "text/x-python",
   "name": "python",
   "nbconvert_exporter": "python",
   "pygments_lexer": "ipython3",
   "version": "3.7.5"
  }
 },
 "nbformat": 4,
 "nbformat_minor": 4
}
