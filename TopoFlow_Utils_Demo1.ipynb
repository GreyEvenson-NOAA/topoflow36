{
 "cells": [
  {
   "cell_type": "markdown",
   "metadata": {},
   "source": [
    "# Jupyter Notebook to Prepare TopoFlow Input Files\n",
    "\n",
    "### Table of Contents\n",
    "\n",
    "1.  <a href=\"#intro_B\">Introduction</a> <br>\n",
    "2.  <a href=\"#choose_B\">Set the site_prefix, case_prefix and Common Info</a> <br>\n",
    "3.  <a href=\"#dirs_B\">Create Some Directories in Your Home Directory</a> <br>\n",
    "4.  <a href=\"#define_B\">Define Information for a Specific Basin of Interest</a> <br>\n",
    "5.  <a href=\"#copy_cfg_B\">Copy a Set of CFG files into New Basin Directory</a> <br>\n",
    "6.  <a href=\"#path_info_B\">Create a New \"path_info\" CFG File</a> <br>\n",
    "7.  <a href=\"#copy_outlets_B\">Copy an \"outlets file\" of Grid Cells to Monitor</a> <br>\n",
    "8.  <a href=\"#copy_rain_B\">Copy a Simple \"rainrates file\" into the \"met\" Directory</a> <br>\n",
    "9.  <a href=\"#import_utils_B\">Import Some TopoFlow Utilities</a> <br>\n",
    "10. <a href=\"#clip_dem_B\">Clip a Source DEM to a Bounding Box and Resample</a> <br>\n",
    "11. <a href=\"#read_dem_tif_B\">Read Clipped DEM from a GeoTIFF File</a> <br>\n",
    "12. <a href=\"#read_dem_rtg_B\">Read DEM from an RTG File (with RTI File)</a> <br>\n",
    "13. <a href=\"#read_dem_nc_B\">Read DEM from a netCDF File</a> <br>\n",
    "14. <a href=\"#smooth_dem_B\">Create a DEM with Smoother Slopes</a> <br>\n",
    "15. <a href=\"#fill_pits_B\">Fill Depressions in the DEM and Save</a> <br>\n",
    "16. <a href=\"#d8_flow_B\">Compute a D8 Flow Direction Grid</a> <br>\n",
    "17. <a href=\"#d8_area_B\">Save the D8 Total Contributing Area (TCA) Grid</a> <br>\n",
    "18. <a href=\"#d8_slope_B\">Compute the D8 Slope Grid</a> <br>\n",
    "19. <a href=\"#d8_aspect_B\">Compute the D8 Aspect Grid</a> <br>\n",
    "20. <a href=\"#chan_width_B\">Compute an Estimated Channel Width Grid</a> <br>\n",
    "21. <a href=\"#chan_manning_B\">Compute an Estimated \"Manning's n\" Grid</a> <br>\n",
    "22. <a href=\"#chan_sinu_B\">Compute an Estimated Channel Sinuosity Grid</a> <br>\n",
    "23. <a href=\"#bankfull_d_B\">Compute an Estimated Bankfull Depth Grid</a> <br>\n",
    "24. <a href=\"#init_depth_B\">Compute an Estimated Initial Channel Water Depth Grid</a> <br>\n",
    "25. <a href=\"#soil_hydro_B\">Create Soil Hydraulic Property Grids (via Pedotransfer) </a> <br>\n",
    "26. <a href=\"#rainrates_B\">Create a Space-time Rainfall Rates Grid Stack</a> <br>\n",
    "27. <a href=\"#setup_B\">Appendix 1: Installing TopoFlow in a conda Environment</a>\n",
    "\n",
    "<!-- Hyperlink IDs must be unique to work in Jupyter Lab when\n",
    "there are multiple notebooks open. Hence the trailing letter. -->"
   ]
  },
  {
   "cell_type": "markdown",
   "metadata": {},
   "source": [
    "## Introduction  <a id=\"intro_B\"></a> \n",
    "\n",
    "This Jupyter notebook demonstrates how to use a collection of TopoFlow utilities to create required input files for the TopoFlow hydrologic model.  Before you can run the code in this notebook, you will need to install the TopoFlow 3.6 Python package. This notebook uses numerous utilities from the TopoFlow 3.6 package, in <b>topoflow/utils</b>.  Detailed instructions and background information for how to install TopoFlow in a conda environment are given in Appendix 1: Installing TopoFlow in a conda Environment.\n",
    "\n",
    "This notebook addresses the important issue of <b>portability</b>.  By simply specifying a geographic bounding box and a few other bits of information for <b>any river basin in Ethiopia</b> in the first few cells, you can create all of the input files that are required by TopoFlow (except space-time meteorological grids, like rainfall rates, as discussed near the end.)  With a few other very minor changes, this notebook could create input files required by TopoFlow for <b>any river basin on Earth</b>.  This is because it uses data sets that are available <b>globally</b>, such as the\n",
    "[<b>MERIT DEM</b>](http://hydro.iis.u-tokyo.ac.jp/~yamadai/MERIT_DEM/) and the\n",
    "[<b>ISRIC SoilGrids</b>](https://www.isric.org/explore/soilgrids) database\n",
    "[<b>and services</b>](https://soilgrids.org/).\n",
    "\n",
    "This notebook currently assumes that the user has access to a shared Dropbox folder for the World Modelers MINT Project called <b>MINT</b>, and it copies some necessary files from there at the beginning.  However, these can be provided in a zip file upon request. (Scott.Peckham@colorado.edu).\n",
    "\n",
    "This notebook is for TopoFlow pre-processing (preparation of input files).  There are several other notebooks, including TopoFlow_Getting_Started.ipynb and TopoFlow_Visualization_v2.ipynb, which address other issues.\n",
    "\n",
    "<b>Note</b> Once you have set up some choices in the first few cells, it is possible to choose\n",
    "Run > Run All Cells."
   ]
  },
  {
   "cell_type": "markdown",
   "metadata": {},
   "source": [
    "## Set the site_prefix, case_prefix and Common Info  <a id=\"choose_B\"></a> \n",
    "\n",
    "In the next cell, uncomment the site_prefix for the Ethiopian river basin that you want to create input files for.  This notebook has been pre-configured with 6 Ethiopian river basins, but if you add a cell here at the top, similar to the ones for the other 6 basins, you can use this notebook to create all of the TopoFlow input files for <b>any</b> river basin in Ethiopia."
   ]
  },
  {
   "cell_type": "code",
   "execution_count": 1,
   "metadata": {},
   "outputs": [],
   "source": [
    "site_prefix = 'Baro-Gam_60sec'\n",
    "# site_prefix = 'Awash-border_60sec'\n",
    "# site_prefix = 'Shebelle-Imi_60sec'\n",
    "# site_prefix = 'Ganale-Welmel_60sec'\n",
    "# site_prefix = 'Guder_30sec'\n",
    "# site_prefix = 'Muger_30sec'\n",
    "\n",
    "#--------------------------------------------------------\n",
    "# For now, keep these the same for all the river basins\n",
    "#--------------------------------------------------------\n",
    "case_prefix  = 'Test1'\n",
    "channel_width_power = 0.5\n",
    "max_sinuosity   = 1.3    # [m/m]\n",
    "min_manning_n   = 0.03   # [m / s^(1/3)]\n",
    "max_manning_n   = 0.2    # [m / s^(1/3)]\n",
    "bankfull_depth_power = 0.4\n",
    "bank_angle = 30.0   # [degrees]"
   ]
  },
  {
   "cell_type": "markdown",
   "metadata": {},
   "source": [
    "## Create Some Directories in Your Home Directory  <a id=\"dirs_B\"></a>\n",
    "\n",
    "This notebook uses some data sets that provide coverage for the entire country of Ethiopia.  These have been placed in a Dropbox folder that is shared by the\n",
    "[<b>MINT Project</b>](http://mint-project.info/).  If you don't have access to the MINT Dropbox folder, you can request the files as a zip file, copy them somewhere on your computer and edit <b>src_dir</b> in the next cell accordingly."
   ]
  },
  {
   "cell_type": "code",
   "execution_count": 2,
   "metadata": {
    "collapsed": false,
    "jupyter": {
     "outputs_hidden": false
    }
   },
   "outputs": [],
   "source": [
    "import glob\n",
    "import os, os.path\n",
    "import shutil\n",
    "\n",
    "home_dir     = os.path.expanduser(\"~\")\n",
    "src_dir      = home_dir + '/Dropbox/MINT/Data/DEMs/Ethiopia/'\n",
    "src_soil_dir = src_dir + 'isric_soil_data/'\n",
    "src_cfg_dir  = src_dir + 'test1_cfg_files/'\n",
    "\n",
    "test_dir  = home_dir + '/TF_Tests3/'\n",
    "basin_dir = test_dir + site_prefix + '/'\n",
    "topo_dir  = basin_dir + '__topo/'\n",
    "soil_dir  = basin_dir + '__soil/'\n",
    "met_dir   = basin_dir + '__met/'\n",
    "cfg_dir   = basin_dir + 'Test1_cfg/'\n",
    "\n",
    "if not(os.path.exists( test_dir )):  os.mkdir( test_dir )\n",
    "if not(os.path.exists( basin_dir )): os.mkdir( basin_dir )\n",
    "if not(os.path.exists( topo_dir )):  os.mkdir( topo_dir )\n",
    "if not(os.path.exists( soil_dir )):  os.mkdir( soil_dir )\n",
    "if not(os.path.exists( met_dir )):   os.mkdir( met_dir )\n",
    "if not(os.path.exists( cfg_dir )):   os.mkdir( cfg_dir )\n"
   ]
  },
  {
   "cell_type": "markdown",
   "metadata": {},
   "source": [
    "## Define Information for a Specific Basin of Interest  <a id=\"define_B\"></a> \n",
    "\n",
    "TopoFlow uses a <b>site_prefix</b> for all of the filenames in a data set that pertain to the geographic location (the \"site\").  These files describe static properties of the location, such as topography and soil.  The default site prefix in this notebook is <b>Baro-Gam_60sec</b>.\n",
    "\n",
    "Topoflow uses a <b>case_prefix</b> for all of the filenames in a data set that describe a particular model scenario (the \"case\" under consideration).  These files describe things that can change from one model run to the next for the same site.  The default case prefix in this notebook is <b>Test1</b>.  Note that component CFG filenames always start with the case prefix.\n",
    "\n",
    "By simply changing the information in this next code block, this notebook can generate TopoFlow input files for any river basin in Ethiopia.  However, please heed the <b>Important Warning</b> below.\n",
    "\n",
    "out_bounds = Geographic bounding box for the chosen river basin<br>\n",
    "out_xres_sec = the spatial grid cell xsize to use, in arcseconds<br>\n",
    "out_yres_sec = the spatial grid cell ysize to use, in arcseconds<br>\n",
    "\n",
    "### Important Warning !!\n",
    "\n",
    "Some of the input grid files generated by this notebook are computed using empirical, power-law estimates, based on a grid of <b>total contributing area</b> (TCA).\n",
    "\n",
    "For these, it is necessary -- <b>at a minimum</b>  -- to know the values of a few key variables at the basin outlet.  These must be determined from the literature or other data sets.  These variables that are specific to a particular river basin have been collected <b>in the next code block</b>.\n",
    "\n",
    "If these are not set to reasonable values, the resulting predictions will be meaningless."
   ]
  },
  {
   "cell_type": "markdown",
   "metadata": {},
   "source": [
    "### Use info for Baro River at Gambella ?"
   ]
  },
  {
   "cell_type": "code",
   "execution_count": 3,
   "metadata": {},
   "outputs": [],
   "source": [
    "if (site_prefix == 'Baro-Gam_60sec'):\n",
    "\n",
    "    out_xres_sec = 60.0    # [arcseconds]\n",
    "    out_yres_sec = 60.0    # [arcseconds]\n",
    "    # Set the geographic bounding box and the grid cell size that\n",
    "    # will be used for the TopoFlow model run, where\n",
    "    #    Bounds = [ minlon, minlat, maxlon, maxlat ]\n",
    "    # The bounding box MUST contain the entire watershed polygon.\n",
    "    # Next one gives ncols = 133, nrows = 128.\n",
    "    ## out_bounds = [ 34.22125, 7.3704166666, 36.43791666666, 9.50375]\n",
    "    # Next one gives ncols = 134, nrows = 129\n",
    "    out_bounds = [ 34.221249999999, 7.362083333332, 36.450416666666, 9.503749999999]\n",
    "\n",
    "    max_river_width = 140.0  # [meters]  from Google Maps or Google Earth\n",
    "    A_out_km2 = 23567.7  # total contributing area at basin outlet [km2]\n",
    "    Qbase_out = 40.0     # estimated baseflow discharge at basin outlet [m^3 / s]\n",
    "    max_bankfull_depth = 8.0   # [meters]    # from literature or data\n"
   ]
  },
  {
   "cell_type": "markdown",
   "metadata": {},
   "source": [
    "### Use info for Awash River at Oromia border ?"
   ]
  },
  {
   "cell_type": "code",
   "execution_count": 4,
   "metadata": {},
   "outputs": [],
   "source": [
    "if (site_prefix == 'Awash-border_60sec'):\n",
    "\n",
    "    out_xres_sec = 60.0    # [arcseconds]\n",
    "    out_yres_sec = 60.0    # [arcseconds]\n",
    "    # Bounds = [ minlon, minlat, maxlon, maxlat ]\n",
    "    # The bounding box MUST contain the entire watershed polygon.\n",
    "    # out_bounds = [  37.829583333333, 6.657916666666, 39.929583333333,  9.374583333333]  # (for 30 arcseconds)\n",
    "    # out_bounds = [37.829583333333, 6.657916666666, 39.929583333333,  9.374583333333]  # (for 60 arcseconds)\n",
    "    out_bounds = [37.829583333333, 6.654583333333, 39.934583333333, 9.374583333333]\n",
    "    max_river_width = 25.0  # [meters]  from Google Maps or Google Earth\n",
    "    A_out_km2 = 30679.5   # total contributing area at basin outlet [km2]\n",
    "    Qbase_out = 10.0      # estimated baseflow discharge at basin outlet [m^3 / s]\n",
    "    max_bankfull_depth = 4.0   # [meters]    # from literature or data\n"
   ]
  },
  {
   "cell_type": "markdown",
   "metadata": {},
   "source": [
    "### Use info for Shebelle River at Imi ?"
   ]
  },
  {
   "cell_type": "code",
   "execution_count": 5,
   "metadata": {},
   "outputs": [],
   "source": [
    "if (site_prefix == 'Shebelle-Imi_60sec'):\n",
    "    \n",
    "    out_xres_sec = 60.0    # [arcseconds]\n",
    "    out_yres_sec = 60.0    # [arcseconds]\n",
    "    # Bounds = [ minlon, minlat, maxlon, maxlat ]\n",
    "    # The bounding box MUST contain the entire watershed polygon.\n",
    "    # out_bounds = [ 38.159583333333, 6.324583333333, 43.559583333333, 9.899583333333]  # (for 30 arcseconds)\n",
    "    out_bounds = [38.159583333333, 6.319583333333, 43.559583333333, 9.899583333333] \n",
    "    max_river_width = 130.0  # [meters]  from Google Maps or Google Earth\n",
    "    A_out_km2 = 90662.1   # total contributing area at basin outlet [km2]\n",
    "    Qbase_out = 50.0      # estimated baseflow discharge at basin outlet [m^3 / s]\n",
    "    max_bankfull_depth = 7.0   # [meters]    # from literature or data\n"
   ]
  },
  {
   "cell_type": "markdown",
   "metadata": {},
   "source": [
    "### Use info for Ganale River at border ?"
   ]
  },
  {
   "cell_type": "code",
   "execution_count": 6,
   "metadata": {},
   "outputs": [],
   "source": [
    "# Actually, this tributary of the Ganale River is called the Welmel Shet River.\n",
    "# The outlet is at the border between Oromia and Somali Regions.\n",
    "\n",
    "if (site_prefix == 'Ganale-Welmel_60sec'):\n",
    "    \n",
    "    out_xres_sec = 60.0    # [arcseconds]\n",
    "    out_yres_sec = 60.0    # [arcseconds]\n",
    "    # Bounds = [ minlon, minlat, maxlon, maxlat ]\n",
    "    # The bounding box MUST contain the entire watershed polygon.\n",
    "    out_bounds = [39.174583333333, 5.527916666666, 41.124583333333, 7.098749999999]  # (3 arcseconds) \n",
    "    max_river_width = 40.0  # [meters]  from Google Maps or Google Earth\n",
    "    A_out_km2 = 15241.7   # total contributing area at basin outlet [km2]\n",
    "    Qbase_out = 3.0      # estimated baseflow discharge at basin outlet [m^3 / s]\n",
    "    max_bankfull_depth = 2.0   # [meters]    # from literature or data    \n",
    "    "
   ]
  },
  {
   "cell_type": "markdown",
   "metadata": {},
   "source": [
    "### Use info for Guder River at Blue Nile confluence ?"
   ]
  },
  {
   "cell_type": "code",
   "execution_count": 7,
   "metadata": {},
   "outputs": [],
   "source": [
    "if (site_prefix == 'Guder_30sec'):\n",
    "    out_xres_sec = 30.0    # [arcseconds]\n",
    "    out_yres_sec = 30.0    # [arcseconds]\n",
    "    # Bounds = [ minlon, minlat, maxlon, maxlat ]\n",
    "    # The bounding box MUST contain the entire watershed polygon.\n",
    "    out_bounds = [37.149583333333, 8.596250000000, 38.266250000000, 9.904583333333]\n",
    "    max_river_width = 20.0  # [meters]  from Google Maps or Google Earth\n",
    "    A_out_km2 = 6487.8   # total contributing area at basin outlet [km2]\n",
    "    Qbase_out = 2.0      # estimated baseflow discharge at basin outlet [m^3 / s]\n",
    "    max_bankfull_depth = 2.0   # [meters]    # from literature or data\n"
   ]
  },
  {
   "cell_type": "markdown",
   "metadata": {},
   "source": [
    "### Use info for Muger River at Blue Nile confluence ?"
   ]
  },
  {
   "cell_type": "code",
   "execution_count": 8,
   "metadata": {},
   "outputs": [],
   "source": [
    "if (site_prefix == 'Muger_30sec'):\n",
    "    out_xres_sec = 30.0    # [arcseconds]\n",
    "    out_yres_sec = 30.0    # [arcseconds]\n",
    "    # Bounds = [ minlon, minlat, maxlon, maxlat ]\n",
    "    # The bounding box MUST contain the entire watershed polygon.\n",
    "    out_bounds = [37.807916666667, 8.929583333333, 39.032916666667, 10.112916666667]\n",
    "    max_river_width = 45.0  # [meters]  from Google Maps or Google Earth\n",
    "    A_out_km2 = 6924.12    # total contributing area at basin outlet [km2]\n",
    "    Qbase_out = 3.0      # estimated baseflow discharge at basin outlet [m^3 / s]\n",
    "    max_bankfull_depth = 2.0   # [meters]    # from literature or data"
   ]
  },
  {
   "cell_type": "markdown",
   "metadata": {},
   "source": [
    "## Copy a DEM for Ethiopia into the New Basin Directory  <a id=\"copy_dem_B\"></a>"
   ]
  },
  {
   "cell_type": "markdown",
   "metadata": {},
   "source": [
    "A DEM for the entire country of Ethiopia, saved in GeoTIFF format and with a grid cell size of 3 arcseconds can be found in a shared Dropbox folder called MINT.  Copy this file into the <b>topo directory</b> you just created.\n"
   ]
  },
  {
   "cell_type": "code",
   "execution_count": 9,
   "metadata": {},
   "outputs": [],
   "source": [
    "# os.chdir( topo_dir )\n",
    "\n",
    "# dem_file = 'Ethiopia_MERIT_DEM.tif'\n",
    "# src_file = src_dir + dem_file\n",
    "# dst_file = dem_file\n",
    "# shutil.copyfile( src_file, dst_file )"
   ]
  },
  {
   "cell_type": "markdown",
   "metadata": {},
   "source": [
    "## Copy a Set of CFG files into New Basin Directory  <a id=\"copy_cfg_B\"></a>\n",
    "\n",
    "A set of default CFG files to configure TopoFlow can be also be found in the MINT Dropbox folder.  Copy this file into the <b>cfg1 directory</b> you just created."
   ]
  },
  {
   "cell_type": "code",
   "execution_count": 10,
   "metadata": {},
   "outputs": [
    {
     "data": {
      "text/plain": [
       "'Test1_providers.txt'"
      ]
     },
     "execution_count": 10,
     "metadata": {},
     "output_type": "execute_result"
    }
   ],
   "source": [
    "os.chdir( src_cfg_dir )\n",
    "cfg_file_list = sorted( glob.glob( '*.cfg' ) )\n",
    "\n",
    "os.chdir( cfg_dir )\n",
    "for cfg_file in cfg_file_list:\n",
    "    shutil.copyfile( src_cfg_dir + cfg_file, cfg_file)\n",
    "\n",
    "# Copy the default \"provider_file\"\n",
    "provider_file = case_prefix + '_providers.txt'\n",
    "shutil.copyfile( src_cfg_dir + provider_file, provider_file )"
   ]
  },
  {
   "cell_type": "markdown",
   "metadata": {},
   "source": [
    "## Create a New \"path_info\" CFG File  <a id=\"path_info_B\"></a>"
   ]
  },
  {
   "cell_type": "code",
   "execution_count": 11,
   "metadata": {},
   "outputs": [],
   "source": [
    "os.chdir( cfg_dir )\n",
    "cfg_file = case_prefix + '_path_info.cfg'\n",
    "cfg_unit = open( cfg_file, 'w')\n",
    "\n",
    "d1 = basin_dir\n",
    "d2 = d1\n",
    "cp = case_prefix\n",
    "sp = site_prefix\n",
    "bar = '#===============================================================================\\n'\n",
    "cfg_unit.write( bar )\n",
    "cfg_unit.write('# TopoFlow Config File for: Path_Information\\n')\n",
    "cfg_unit.write( bar )\n",
    "L1 = 'in_directory  | XX | string | input directory'.replace('XX', d1)\n",
    "L2 = 'out_directory | XX | string | output directory'.replace('XX', d2)\n",
    "L3 = 'site_prefix   | XX | string | file prefix for the study site'.replace('XX', sp)\n",
    "L4 = 'case_prefix   | XX | string | file prefix for the model scenario'.replace('XX',cp)\n",
    "cfg_unit.write( L1 + '\\n')\n",
    "cfg_unit.write( L2 + '\\n')\n",
    "cfg_unit.write( L3 + '\\n')\n",
    "cfg_unit.write( L4 + '\\n')\n",
    "cfg_unit.close()"
   ]
  },
  {
   "cell_type": "markdown",
   "metadata": {},
   "source": [
    "## Copy an \"outlets file\" of Grid Cells to Monitor   <a id=\"copy_outlets_B\"></a>\n",
    "\n",
    "In TopoFlow component CFG files, flags can be set to tell TopoFlow to write values of chosen gridded variables to a file, to create a <b>grid stack</b>, indexed by time.  Grids are saved at a time interval set by <b>save_grid_dt</b>.\n",
    "\n",
    "Other flags in a CFG file can be set to tell TopoFlow to write values of chosen gridded variables to a file, but only at a specified set of grid cells.  These \"monitored grid cells\" or \"virtual gauges\" are set in an <b> outlets file</b> named <b>[case_prefix]_outlets.txt</b>.  It is a simple, multi-column text file, like this:\n",
    "```\n",
    "------------------------------------------------------------\n",
    " Monitored Grid Cell (Outlet) Information\n",
    "-------------------------------------------------------------------------------------\n",
    "    Column       Row     Area [km^2]      Relief [m]      Lon [deg]     Lat [deg]\n",
    "-------------------------------------------------------------------------------------\n",
    "        4         79        24647.3         2433.62       34.296250     8.1787500\n",
    "       14         76        24011.0         2425.90       34.462917     8.2287500\n",
    "       29         79        22972.0         2393.16       34.712917     8.1787500\n",
    "       48         59          507.3         1434.04       35.029583     8.5120833\n",
    "```\n",
    "It is not necessary for the Area and Relief columns to contain valid values (they are for reference, but are unused).  However, the column, row, longitude and latitude of each grid cell to be monitored must be specified.  They must match columns and rows in the DEM that is being used for the model run.  Creating an outlets file therefore requires a <b>human in the loop</b>, using interactive GIS (Geographic Information System) software and making intelligent choices.  It cannot be automated.\n",
    "\n",
    "Here we just copy an existing outlets file for one of the 6 Ethiopian basins."
   ]
  },
  {
   "cell_type": "code",
   "execution_count": 12,
   "metadata": {},
   "outputs": [
    {
     "data": {
      "text/plain": [
       "'Test1_outlets.txt'"
      ]
     },
     "execution_count": 12,
     "metadata": {},
     "output_type": "execute_result"
    }
   ],
   "source": [
    "os.chdir( cfg_dir )\n",
    "\n",
    "outlets_dir = src_dir + 'outlet_files_v2/' + site_prefix + '/'\n",
    "outlet_file = case_prefix + '_outlets.txt'\n",
    "shutil.copyfile( outlets_dir + outlet_file, outlet_file)"
   ]
  },
  {
   "cell_type": "markdown",
   "metadata": {},
   "source": [
    "## Copy a Simple \"rainrates file\" into the \"met\" Directory   <a id=\"copy_rain_B\"></a>\n",
    "\n",
    "In this step we copy a file with a simple time series of spatially uniform rainrates for testing purposes.  See the cell near the end about preparing space-time rainfall grid stacks.\n"
   ]
  },
  {
   "cell_type": "code",
   "execution_count": 13,
   "metadata": {},
   "outputs": [
    {
     "data": {
      "text/plain": [
       "'/Users/peckhams/TF_Tests3/Baro-Gam_60sec/__met/Test1_rain_rates.txt'"
      ]
     },
     "execution_count": 13,
     "metadata": {},
     "output_type": "execute_result"
    }
   ],
   "source": [
    "## os.chdir( met_dir )\n",
    "rain_file = 'Test1_rain_rates.txt'\n",
    "shutil.copyfile( src_cfg_dir + rain_file, met_dir + rain_file)"
   ]
  },
  {
   "cell_type": "markdown",
   "metadata": {},
   "source": [
    "## Import Some TopoFlow Utilities  <a id=\"import_utils_B\"></a>"
   ]
  },
  {
   "cell_type": "code",
   "execution_count": 14,
   "metadata": {
    "collapsed": false,
    "jupyter": {
     "outputs_hidden": false
    }
   },
   "outputs": [
    {
     "name": "stdout",
     "output_type": "stream",
     "text": [
      "Importing TopoFlow 3.6 package modules:\n",
      "   topoflow.utils\n",
      "   topoflow.utils.tests\n",
      "   topoflow.components\n",
      "   topoflow.components.tests\n",
      "   topoflow.framework\n",
      "   topoflow.framework.tests\n",
      " \n",
      "Paths for this package:\n",
      "framework_dir = /Users/peckhams/Dropbox/TopoFlow_3.6/topoflow/framework/\n",
      "parent_dir    = /Users/peckhams/Dropbox/TopoFlow_3.6/topoflow/\n",
      "examples_dir  = /Users/peckhams/Dropbox/TopoFlow_3.6/topoflow/examples/\n",
      "__file__      = /Users/peckhams/Dropbox/TopoFlow_3.6/topoflow/framework/emeli.py\n",
      "__name__      = topoflow.framework.emeli\n",
      " \n"
     ]
    }
   ],
   "source": [
    "from topoflow.utils import regrid\n",
    "from topoflow.utils import import_grid\n",
    "from topoflow.utils import fill_pits\n",
    "from topoflow.utils import rtg_files\n",
    "from topoflow.utils import rti_files\n",
    "from topoflow.utils import parameterize\n",
    "from topoflow.utils import init_depth\n",
    "from topoflow.utils import pedotransfer\n",
    "\n",
    "from topoflow.components import d8_global\n",
    "from topoflow.components import smooth_DEM"
   ]
  },
  {
   "cell_type": "markdown",
   "metadata": {},
   "source": [
    "## Clip a Source DEM to a Bounding Box and Resample  <a id=\"clip_dem_B\"></a>"
   ]
  },
  {
   "cell_type": "markdown",
   "metadata": {},
   "source": [
    "Here, we use the TopoFlow <b>regrid</b> utility to <b>clip</b> a DEM for the entire country of Ethiopia to the geographic bounding box for a particular river basin in Ethiopia.  This utility uses the gdal.warp() function in the GDAL Python package.  For this example, we use the Baro River basin which lies mostly in the Oromia region but drains past the town of Gambella into the Gambella region.\n",
    "\n",
    "At the same time, we <b>resample</b> (via spatial bilinear interpolation) the resulting DEM to a different, coarser spatial resolution.  The source DEM has a grid cell size of 3 arcseconds (roughly 90 meters), while the new DEM has a grid cell size of 60 arcseconds (roughly 1800 meters).  Both the source DEM and new DEM are stored in GeoTIFF format.  Resampling typically causes the bounding box to change slightly."
   ]
  },
  {
   "cell_type": "code",
   "execution_count": 15,
   "metadata": {},
   "outputs": [
    {
     "name": "stdout",
     "output_type": "stream",
     "text": [
      "Input grid file:\n",
      "   /Users/peckhams/Dropbox/MINT/Data/DEMs/Ethiopia/Ethiopia_MERIT_DEM.tif\n",
      "   ncols  = 20401\n",
      "   nrows  = 16801\n",
      "   xres   = 3.0  [arcsecs]\n",
      "   yres   = 3.0  [arcsecs]\n",
      "   bounds = [31.999583333333, 1.999583333333666, 49.00041666666634, 16.000416666667]\n",
      "   gmin   = -197.44768\n",
      "   gmax   = 4514.622\n",
      "\n",
      "Output grid file:\n",
      "   Baro-Gam_60sec_rawDEM.tif\n",
      "   ncols  = 134\n",
      "   nrows  = 129\n",
      "   xres   = 60.0  [arcsecs]\n",
      "   yres   = 60.0  [arcsecs]\n",
      "   bounds = [34.221249999999, 7.353749999999, 36.45458333333234, 9.503749999999]\n",
      "   gmin   = 422.53043\n",
      "   gmax   = 2854.459\n",
      "Finished regridding.\n",
      "\n"
     ]
    }
   ],
   "source": [
    "### in_nodata = ????\n",
    "### out_nodata = -9999.0\n",
    "\n",
    "os.chdir( topo_dir )\n",
    "in_file  = src_dir + 'Ethiopia_MERIT_DEM.tif'\n",
    "out_file = site_prefix + '_rawDEM.tif'\n",
    "\n",
    "regrid.regrid_geotiff(in_file=in_file, out_file=out_file, \n",
    "                   out_bounds=out_bounds,\n",
    "                   out_xres_sec=out_xres_sec, out_yres_sec=out_yres_sec,\n",
    "                   ### in_nodata=None, out_nodata=None, \n",
    "                   RESAMPLE_ALGO='bilinear', REPORT=True)"
   ]
  },
  {
   "cell_type": "markdown",
   "metadata": {},
   "source": [
    "## Read Clipped DEM from a GeoTIFF File  <a id=\"read_dem_tif_B\"></a>\n",
    "\n",
    "Here we import a DEM in GeoTIFF format.  Note that NetCDF (.nc) and RiverTools Grid (RTG) formats can also be imported.\n",
    "\n",
    "Most of the TopoFlow utilities use grids saved in the RiverTools Grid (RTG) format, which is a generic, binary, row-major format.  Georeferencing information for the grid is stored in a small, separate text file in RiverTools Info (RTI) format.  When the rti_file argument is specified, georeferencing information is also saved in the RTI file format for later use."
   ]
  },
  {
   "cell_type": "code",
   "execution_count": 16,
   "metadata": {},
   "outputs": [
    {
     "name": "stdout",
     "output_type": "stream",
     "text": [
      "Finished reading file:\n",
      "Baro-Gam_60sec_rawDEM.tif\n",
      "Grid info from GDAL:\n",
      "ncols, nrows = 134 , 129\n",
      "xres, yres   = 0.016666666666666666 , 0.016666666666666666\n",
      "----------------------------------\n",
      "ulx, uly     = 34.221249999999 , 9.503749999999\n",
      "lrx, lry     = 36.45458333333234 , 7.353749999999\n",
      "xskew, yskew = 0.0 , 0.0\n",
      "----------------------------------\n",
      "grid.min()  = 422.53043\n",
      "grid.max()  = 2854.459\n",
      "\n",
      "Finished making RTI file for:\n",
      "  Baro-Gam_60sec_rawDEM.tif\n",
      "\n"
     ]
    }
   ],
   "source": [
    "os.chdir( topo_dir )\n",
    "\n",
    "tif_file = site_prefix + '_rawDEM.tif'\n",
    "rti_file = site_prefix + '.rti'\n",
    "DEM = import_grid.read_from_geotiff( tif_file, REPORT=True,\n",
    "                                     rti_file=rti_file)\n",
    "\n",
    "grid_info = rti_files.read_info( rti_file )"
   ]
  },
  {
   "cell_type": "markdown",
   "metadata": {},
   "source": [
    "## Read DEM from an RTG File (with RTI file)  <a id=\"read_dem_rtg_B\"></a>\n",
    "\n",
    "<b>Note:</b> This shows how to alternately import a DEM in RTG format, but is commented out for now."
   ]
  },
  {
   "cell_type": "code",
   "execution_count": 17,
   "metadata": {},
   "outputs": [],
   "source": [
    "# os.chdir( topo_dir )\n",
    "# rtg_file = site_prefix + '_rawDEM.rtg'\n",
    "# DEM = import_grid.read_from_rtg( rtg_file, REPORT=True)\n",
    "# grid_info = rti_files.read_info( rtg_file )"
   ]
  },
  {
   "cell_type": "markdown",
   "metadata": {},
   "source": [
    "## Read DEM from a netCDF File  <a id=\"read_dem_nc_B\"></a>\n",
    "\n",
    "<b>Note:</b> This shows how to alternately import a DEM in netCDF format, but is commented out for now."
   ]
  },
  {
   "cell_type": "code",
   "execution_count": 18,
   "metadata": {},
   "outputs": [],
   "source": [
    "# os.chdir( topo_dir )\n",
    "# nc_file = site_prefix + '_rawDEM.nc'\n",
    "# DEM = import_grid.read_from_netcdf( nc_file, REPORT=True)"
   ]
  },
  {
   "cell_type": "markdown",
   "metadata": {},
   "source": [
    "## Create a DEM with Smoother Slopes  <a id=\"smooth_dem_B\"></a>"
   ]
  },
  {
   "cell_type": "markdown",
   "metadata": {},
   "source": [
    "<b>Note:</b> This step is optional and has been commented out for now.\n",
    "\n",
    "For so-called <b>mature</b> landscapes this \"profile smoothing\" algorithm works well, and results in a DEM with smoothly decreasing, nonzero channel slopes everywhere.  However, the landscape of the Baro River basin is not a good candidate because it is not mature."
   ]
  },
  {
   "cell_type": "code",
   "execution_count": 19,
   "metadata": {},
   "outputs": [],
   "source": [
    "# os.chdir( topo_dir )\n",
    "# c = smooth_DEM.DEM_smoother()\n",
    "# c.DEBUG = True\n",
    "# case_prefix = 'Test1'\n",
    "# cfg_file = case_prefix + '_dem_smoother.cfg'\n",
    "# c.initialize( cfg_file=cfg_file, mode='driver')\n",
    "# c.update()"
   ]
  },
  {
   "cell_type": "markdown",
   "metadata": {},
   "source": [
    "## Fill Depressions in the DEM and Save <a id=\"fill_pits_B\"></a>\n",
    "\n",
    "This step is necessary to make the DEM <b>hydrologically sound</b>."
   ]
  },
  {
   "cell_type": "code",
   "execution_count": 20,
   "metadata": {
    "collapsed": false,
    "jupyter": {
     "outputs_hidden": false
    }
   },
   "outputs": [
    {
     "name": "stdout",
     "output_type": "stream",
     "text": [
      "Number of nodata and NaN values = 0\n",
      "Finished initializing \"closed\" array.\n",
      " \n",
      "Putting boundary pixels on heap...\n",
      "Number of pixels on heap = 522\n",
      "Finished with heap insertion.\n",
      " \n",
      "n_closed = 0 of 17286\n",
      "n_closed = 5000 of 17286\n",
      "n_closed = 10000 of 17286\n",
      "n_closed = 15000 of 17286\n",
      "Total pixels   = 17286\n",
      "Raised  pixels = 783\n",
      "Drained pixels = 17288\n",
      "Run time for fill_pits() =     0.4635 [seconds]\n",
      "Finished with fill_pits().\n",
      " \n",
      "Writing grid values...\n",
      "Finished writing grid to:\n",
      "    Baro-Gam_60sec_DEM.rtg\n"
     ]
    }
   ],
   "source": [
    "# data_type = 'FLOAT'\n",
    "# shp = DEM.shape\n",
    "# nrows = shp[0]\n",
    "# ncols = shp[1]\n",
    "\n",
    "os.chdir( topo_dir )\n",
    "data_type = grid_info.data_type   # e.g. \"INTEGER\" or \"FLOAT\"\n",
    "ncols = grid_info.ncols\n",
    "nrows = grid_info.nrows\n",
    "\n",
    "fill_pits.fill_pits( DEM, data_type, ncols, nrows, SILENT=False)\n",
    "\n",
    "new_DEM_file = site_prefix + '_DEM.rtg'\n",
    "rtg_files.write_grid( DEM, new_DEM_file, grid_info, SILENT=False)"
   ]
  },
  {
   "cell_type": "markdown",
   "metadata": {},
   "source": [
    "## Compute the D8 Flow Direction Grid  <a id=\"d8_flow_B\"></a>\n",
    "\n",
    "TopoFlow includes a component called <b>d8_global</b> that can compute a grid of D8 flow direction codes (Jenson 1984 convention), as well as several additional, related grids such as a grid of total contributing area (TCA).  TopoFlow components are configured through the use of configuration files, which are text files with the extension \".cfg\".  Therefore, we now need to copy 2 CFG files into our working directory, called:  <i>Test1_path_info.cfg</i> (for path information) and <i>Test1_d8_global.cfg</i>."
   ]
  },
  {
   "cell_type": "code",
   "execution_count": 21,
   "metadata": {
    "collapsed": false,
    "jupyter": {
     "outputs_hidden": false
    }
   },
   "outputs": [
    {
     "name": "stdout",
     "output_type": "stream",
     "text": [
      "D8 component: Initializing...\n",
      "Computing pixel area grid...\n",
      "Computing pixel dimensions...\n",
      "    min(dx), max(dx) = 1830.1156, 1840.1654 [m]\n",
      "    min(dy), max(dy) = 1843.2078, 1843.4075 [m]\n",
      "    min(dd), max(dd) = 2597.59 , 2604.539 [m]\n",
      "    min(da), max(da) = 3373648.7317201453, 3391807.13024007 [m^2]\n",
      "Computing pixel IDs...\n",
      "Computing edge pixel IDs...\n",
      "Computing \"not_edge\" grid...\n",
      "Computing \"resolve array\"...\n",
      "Reading grid values...\n",
      "Finished reading grid from:\n",
      "  /Users/peckhams/TF_Tests3/Baro-Gam_60sec/__topo/Baro-Gam_60sec_DEM.rtg\n",
      "   min(DEM), max(DEM) = 422.70148 2854.459\n",
      " \n",
      "Filling pits in initial DEM...\n",
      "Number of nodata and NaN values = 0\n",
      "Finished initializing \"closed\" array.\n",
      " \n",
      "Putting boundary pixels on heap...\n",
      "Number of pixels on heap = 522\n",
      "Finished with heap insertion.\n",
      " \n",
      "n_closed = 0 of 17286\n",
      "n_closed = 5000 of 17286\n",
      "n_closed = 10000 of 17286\n",
      "n_closed = 15000 of 17286\n",
      "Total pixels   = 17286\n",
      "Raised  pixels = 0\n",
      "Drained pixels = 17288\n",
      "Run time for fill_pits() =     0.4455 [seconds]\n",
      "Finished with fill_pits().\n",
      " \n",
      "Imported netCDF4 version: 1.5.3\n",
      "D8 component: Updating...\n",
      "Updating D8 flow grid...\n",
      "   update_d8_codes(): Initializing grid...\n",
      "   --------------------------------------------\n",
      "   Data type of flow grid at start = int16\n",
      "   Number of flats         = 784\n",
      "   Number of 1-pixel pits  = 29\n",
      "   Number of nodata/NaN    = 0\n",
      "   min(codes), max(codes)  = -255, 136\n",
      "   --------------------------------------------\n",
      "   update_d8_codes(): Breaking ties...\n",
      "   update_d8_codes(): Linking flats...\n",
      "   Number of iterations = 17 (in link_flats())\n",
      "Updating flow width grid...\n",
      "    min(dw), max(dw) = 1830.1156, 2604.4915 [m]\n",
      "Updating flow length grid...\n",
      "    min(ds), max(ds) = 1830.1156, 2604.4915 [m]\n",
      "Updating upstream area grid...\n",
      "    min(A), max(A) = 0.0, 24704.818 [km^2]\n",
      "    Number of iterations = 170\n",
      "-----------------\n",
      "Grid Information\n",
      "-----------------\n",
      "grid_file    = Baro-Gam_60sec_rawDEM.tif\n",
      "data_source  = TopoFlow & GDAL\n",
      "ncols        = 134\n",
      "nrows        = 129\n",
      "data_type    = FLOAT\n",
      "byte_order   = LSB\n",
      "pixel_geom   = 0\n",
      "xres         = 60.0\n",
      "yres         = 60.0\n",
      "zres         = 0.01\n",
      "z_units      = METERS\n",
      "y_south_edge = 7.353749999999\n",
      "y_north_edge = 9.503749999999\n",
      "x_east_edge  = 36.454583333332\n",
      "x_west_edge  = 34.221249999999\n",
      "box_units    = DEGREES\n",
      "gmin         = 422.53043\n",
      "gmax         = 2854.459\n",
      "UTM_zone     = 36.0\n",
      " \n"
     ]
    }
   ],
   "source": [
    "os.chdir( topo_dir )\n",
    "d8 = d8_global.d8_component()\n",
    "d8.DEBUG = False\n",
    "cfg_file = cfg_dir + case_prefix + '_d8_global.cfg'  # (need full path here)\n",
    "time = 0.0\n",
    "d8.initialize( cfg_file=cfg_file, SILENT=False, REPORT=True )\n",
    "d8.update( time, SILENT=False, REPORT=True )\n",
    "\n",
    "rti_file = site_prefix + '.rti'\n",
    "grid_info = rti_files.read_info( rti_file, REPORT=True )\n",
    "\n",
    "d8_code_file = site_prefix + '_flow.rtg'\n",
    "rtg_files.write_grid(d8.d8_grid, d8_code_file, grid_info, RTG_type='BYTE')"
   ]
  },
  {
   "cell_type": "markdown",
   "metadata": {},
   "source": [
    "## Save the D8 Total Contributing Area (TCA) Grid  <a id=\"d8_area_B\"></a>"
   ]
  },
  {
   "cell_type": "code",
   "execution_count": 22,
   "metadata": {
    "collapsed": false,
    "jupyter": {
     "outputs_hidden": false
    }
   },
   "outputs": [
    {
     "name": "stdout",
     "output_type": "stream",
     "text": [
      "Writing grid values...\n",
      "Finished writing grid to:\n",
      "    Baro-Gam_60sec_d8-area.rtg\n"
     ]
    }
   ],
   "source": [
    "os.chdir( topo_dir )\n",
    "d8_area_file = site_prefix + '_d8-area.rtg'\n",
    "rtg_files.write_grid( d8.A, d8_area_file, grid_info, RTG_type='FLOAT', SILENT=False)"
   ]
  },
  {
   "cell_type": "markdown",
   "metadata": {},
   "source": [
    "## Compute the D8 Slope Grid  <a id=\"d8_slope_B\"></a>"
   ]
  },
  {
   "cell_type": "code",
   "execution_count": 23,
   "metadata": {},
   "outputs": [
    {
     "name": "stdout",
     "output_type": "stream",
     "text": [
      "Writing grid values...\n",
      "Finished writing grid to:\n",
      "    Baro-Gam_60sec_slope.rtg\n"
     ]
    }
   ],
   "source": [
    "os.chdir( topo_dir )\n",
    "d8.update_slope_grid()\n",
    "d8_slope_file = site_prefix + '_slope.rtg'\n",
    "rtg_files.write_grid( d8.S, d8_slope_file, grid_info, RTG_type='FLOAT', SILENT=False)"
   ]
  },
  {
   "cell_type": "markdown",
   "metadata": {},
   "source": [
    "## Compute the D8 Aspect Grid  <a id=\"d8_aspect_B\"></a>"
   ]
  },
  {
   "cell_type": "code",
   "execution_count": 24,
   "metadata": {},
   "outputs": [
    {
     "name": "stdout",
     "output_type": "stream",
     "text": [
      "Writing grid values...\n",
      "Finished writing grid to:\n",
      "    Baro-Gam_60sec_aspect.rtg\n"
     ]
    }
   ],
   "source": [
    "os.chdir( topo_dir )\n",
    "d8.update_aspect_grid()\n",
    "d8_aspect_file = site_prefix + '_aspect.rtg'\n",
    "rtg_files.write_grid(d8.aspect, d8_aspect_file, grid_info, RTG_type='FLOAT', SILENT=False)"
   ]
  },
  {
   "cell_type": "markdown",
   "metadata": {},
   "source": [
    "## Compute the Estimated Channel Width Grid <a id=\"chan_width_B\"></a>\n",
    "\n",
    "First, use Google Maps or Google Earth to estimate the width of the river at the outlet to your river basin, in meters.  Here, we'll assume that width equals 140 meters.\n",
    "\n",
    "The idea is to estimate the channel widths throughout the basin (as a grid with the same dimensions as the DEM), using an empirical power law of the form:  $w = c \\, A^p$\n",
    "where A is the total contributing area (TCA) that we computed as a grid above and saved into \"d8_area_file\".  A typical value of p is 0.5.  The value that w should have where A is maximum (e.g. the river outlet) is specified as g1. "
   ]
  },
  {
   "cell_type": "code",
   "execution_count": 25,
   "metadata": {},
   "outputs": [
    {
     "name": "stdout",
     "output_type": "stream",
     "text": [
      "Power-law parameters are:\n",
      "c = 0.8907117944769954\n",
      "p = 0.5\n",
      "Values set to 1.0 where A <= 0.\n",
      "  This occurred at 576 grid cells.\n",
      "grid min = 1.0\n",
      "grid_max = 139.99998\n",
      "Finished writing file: \n",
      "Baro-Gam_60sec_chan-w.rtg\n",
      "\n"
     ]
    }
   ],
   "source": [
    "# Should be specified at the top of this notebook.\n",
    "# max_river_width = 140.0  # [meters]\n",
    "# channel_width_power = 0.5\n",
    "\n",
    "os.chdir( topo_dir )\n",
    "cfg_dir = ''\n",
    "width_file = site_prefix + '_chan-w.rtg'\n",
    "parameterize.get_grid_from_TCA(site_prefix=site_prefix, cfg_dir=cfg_dir,\n",
    "             area_file=d8_area_file, out_file=width_file,\n",
    "             g1=max_river_width, p=channel_width_power)"
   ]
  },
  {
   "cell_type": "markdown",
   "metadata": {},
   "source": [
    "## Compute the Estimated \"Manning's n\" Grid  <a id=\"chan_manning_B\"></a>\n",
    "\n",
    "In order to compute grids of river flow velocity and discharge (volume flow rate), a very well-known, empirical formula known as <b>Manning's formula</b> (see Wikipedia) is the method used by default within TopoFlow.  This formula includes a parameter called <b>Manning's n</b>, that characterizes the roughness of the channel bed and resulting frictional loss of momentum.  Typical values in larger river channels range between 0.03 and 0.05.  Manning's formula can also be used for non-channelized, overland flow, but then a much larger value of 0.2 to 0.3 should be used.\n",
    "\n",
    "The following code uses a power-law estimate of the form:  $n = c \\, A^p$, where A is the total contributing area (TCA) grid, to create a grid of Manning's n values.  The value that n should have where A is maximum (e.g. the river outlet) is set as <b>g1</b>.  Similarly, the value that n should have where A is minimum (e.g. on a ridge) is set as <b>g2</b>.  The coefficient, c, and power, p, are then set to match these constraints."
   ]
  },
  {
   "cell_type": "code",
   "execution_count": 26,
   "metadata": {},
   "outputs": [
    {
     "name": "stdout",
     "output_type": "stream",
     "text": [
      "Power-law parameters are:\n",
      "c = 0.2591911840780398\n",
      "p = -0.21319042064432686\n",
      "Values set to 1.0 where A <= 0.\n",
      "  This occurred at 576 grid cells.\n",
      "grid min = 0.030000001\n",
      "grid_max = 1.0\n",
      "Finished writing file: \n",
      "Baro-Gam_60sec_chan-n.rtg\n",
      "\n"
     ]
    }
   ],
   "source": [
    "# Should be specified at the top of this notebook.\n",
    "# min_manning_n = 0.03\n",
    "# max_manning_n = 0.2\n",
    "\n",
    "os.chdir( topo_dir )\n",
    "manning_file = site_prefix + '_chan-n.rtg'\n",
    "parameterize.get_grid_from_TCA(site_prefix=site_prefix, cfg_dir=cfg_dir,\n",
    "             area_file=d8_area_file, out_file=manning_file,\n",
    "             g1=min_manning_n, g2=max_manning_n )"
   ]
  },
  {
   "cell_type": "markdown",
   "metadata": {},
   "source": [
    "## Compute the Estimated Channel Sinuosity Grid  <a id=\"chan_sinu_B\"></a>\n",
    "\n",
    "There are different definitions of channel sinuosity.  Here we are referring to the <b>absolute sinuosity</b>, defined as the ratio of the <b><i>along-channel flow distance</i></b> between the two endpoints of a channel and the <b><i>straight-line distance</i></b> between those endpoints.\n",
    "\n",
    "By this definition, sinuosity is <b>dimensionless</b> \\[km/km\\], with a minimum possible value of 1.0.  It tends to increase slowly from 1 where TCA is small to a larger value where TCA is big, but typically does not exceed 1.3.\n",
    "\n",
    "The following code uses a power-law estimate of the form:  $s = c \\, A^p$, where A is the total contributing area (TCA) grid, to create a grid of sinuosity values.  The value that s should have where A is maximum (e.g. the river outlet) is set as <b>g1</b>.  Similarly, the value that n should have where A is minimum (e.g. near a ridge) is set as <b>g2</b>.  The coefficient, c, and power, p, are then set to match these constraints."
   ]
  },
  {
   "cell_type": "code",
   "execution_count": 27,
   "metadata": {},
   "outputs": [
    {
     "name": "stdout",
     "output_type": "stream",
     "text": [
      "Power-law parameters are:\n",
      "c = 0.9647820441995061\n",
      "p = 0.029483400285421825\n",
      "Values set to 1.0 where A <= 0.\n",
      "  This occurred at 576 grid cells.\n",
      "grid min = 1.0\n",
      "grid_max = 1.3\n",
      "Finished writing file: \n",
      "Baro-Gam_60sec_sinu.rtg\n",
      "\n"
     ]
    }
   ],
   "source": [
    "# Should be specified at the top of this notebook.\n",
    "# max_sinuosity = 1.3\n",
    "\n",
    "os.chdir( topo_dir )\n",
    "min_sinuosity = 1.0  # (BY DEFINITION.  DO NOT CHANGE.)\n",
    "\n",
    "sinu_file = site_prefix + '_sinu.rtg'\n",
    "parameterize.get_grid_from_TCA(site_prefix=site_prefix, cfg_dir=cfg_dir,\n",
    "             area_file=d8_area_file, out_file=sinu_file,\n",
    "             g1=max_sinuosity, g2=min_sinuosity )"
   ]
  },
  {
   "cell_type": "markdown",
   "metadata": {},
   "source": [
    "## Compute the Estimated Bankfull Depth Grid  <a id=\"bankfull_d_B\"></a>\n",
    "\n",
    "The <b>bankfull depth</b> is the maximum in-channel water depth of a river at a given location.  (It varies throughout a river basin.)  When the depth of water in a river exceeds this depth, <b>overbank flow</b> occurs and water enters the flood plain adjacent to the channel. <b>Overbank flow depth</b>, <b>inundation depth</b> or simply <b>flooding depth</b> are terms that refer to the depth of water on land outside of the river channel.  It is important to know the bankfull depth in order to more accurately predict the flooding depth. \n",
    "\n",
    "While remote sensing images can be used to estimate a river's bankfull width, the river bed typically cannot be \"seen\" through the water.  Moreover, bankfull depth is typically only measured at a few locations (e.g. at gauging stations) within a river basin, so accurate values of bankfull depth are difficult to obtain.\n",
    "\n",
    "The following code uses a power-law estimate of the form:  $d_b = c \\, A^p$, where A is the total contributing area (TCA) grid, to create a grid of bankfull depth values.  The value that $d_b$ should have where A is maximum (e.g. the river outlet) is set as <b>g1</b>.  A typical, empirical value for p is 0.4. The coefficient, c, is then set to match these constraints."
   ]
  },
  {
   "cell_type": "code",
   "execution_count": 28,
   "metadata": {},
   "outputs": [
    {
     "name": "stdout",
     "output_type": "stream",
     "text": [
      "Power-law parameters are:\n",
      "c = 0.1399514237399525\n",
      "p = 0.4\n",
      "Values set to 1.0 where A <= 0.\n",
      "  This occurred at 576 grid cells.\n",
      "grid min = 0.2276279\n",
      "grid_max = 8.0\n",
      "Finished writing file: \n",
      "Baro-Gam_60sec_d-bank.rtg\n",
      "\n"
     ]
    }
   ],
   "source": [
    "# Should be specified at the top of this notebook.\n",
    "# max_bankfull_depth = 8.0  #### This must be determined from literature or data.\n",
    "# bankfull_depth_power = 0.4\n",
    "\n",
    "os.chdir( topo_dir )\n",
    "dbank_file = site_prefix + '_d-bank.rtg'\n",
    "parameterize.get_grid_from_TCA(site_prefix=site_prefix, cfg_dir=cfg_dir,\n",
    "        area_file=d8_area_file,  out_file=dbank_file,\n",
    "        g1=max_bankfull_depth, p=bankfull_depth_power )"
   ]
  },
  {
   "cell_type": "markdown",
   "metadata": {},
   "source": [
    "## Compute the Estimated Initial Channel Water Depth Grid  <a id=\"init_depth_B\"></a>\n",
    "\n",
    "Here we attempt to estimate the initial depth of water for every channel in the river network.  This is supposed to be the \"normal depth\" of the river that is maintained by baseflow from groundwater (i.e. due to the groundwater table intersecting the channel bed) and is not attributed to a recent rainfall event.  This is the starting or initial condition for a model run.\n",
    "\n",
    "This routine uses a <b>grid-based Newton-Raphson</b> iterative scheme to solve a transcendental equation (see Wikipedia) for the initial depth of water in a channel network that results from groundwater baseflow.  The variables involved are:\n",
    "\n",
    "w = bed bottom width, trapezoid [m]<br>\n",
    "A = upstream area [$km^2$]<br>\n",
    "S = downstream slope [m/m]<br>\n",
    "n = Manning roughness parameter  [$s/m^{1/3}$]<br>\n",
    "$\\theta$ = bank angle [degrees]<br>\n",
    "d = water depth in channel [m]<br>\n",
    "$A_c$ = wetted cross-section area [$m^2$]<br>\n",
    "P  = wetted cross-section perimeter [m]<br>\n",
    "$R_h = (A_c / P)$ = hydraulic radius [m]<br>\n",
    "B = spatially-uniform baseflow volume flux [$m s^{-1}$]<br>\n",
    "\n",
    "The equations used here are: <br>\n",
    "$Q = v \\, A_c = B \\,A$    [$m^3 s^{-1}$] (steady-state) <br>\n",
    "$v = (1/n) \\, {R_h}^{2/3} \\, S^{1/2} \\,\\,\\,$  [SI units] <br>\n",
    "$R_h = A_c / P$ <br>\n",
    "$A_c = d \\, [w + (d \\, \\tan(\\theta))]$ <br>\n",
    "$P = w + [2 \\, d \\, / \\cos(\\theta)]$ <br>\n",
    "\n",
    "Note that B can be estimated from a baseflow discharge measured at the basin outlet.\n",
    "\n",
    "If we are given w, n, theta, A, S and B, then we get an equation for d that cannot be solved in closed form.  However, we can write the equation $v \\, A_c = B \\, A$ in the form needed to solve for d (in every grid cell) by Newton's method, i.e.:\n",
    "$F(d) = [v(d) \\, A_c(d)] - (B \\, A) = 0$."
   ]
  },
  {
   "cell_type": "code",
   "execution_count": 29,
   "metadata": {},
   "outputs": [
    {
     "name": "stdout",
     "output_type": "stream",
     "text": [
      "Baseflow volume flux = 1.697238169189187e-09 [m s-1]\n",
      "Baseflow volume flux = 0.006110057409081073 [mm h-1]\n",
      "size(slope) = 17286\n",
      "size(wb) = 1305\n",
      "-------------------------------------------------\n",
      "WARNING: Zero or negative slopes found.\n",
      "         Replacing them with smallest slope.\n",
      "         Use \"Profile smoothing tool\" instead.\n",
      "         min(slope) = 4.7353055e-06\n",
      "         max(slope) = 0.3151615\n",
      "-------------------------------------------------\n",
      " \n",
      "Iterating...\n",
      "Pixels left = 17286\n",
      "Pixels left = 17286\n",
      "Pixels left = 17286\n",
      "Pixels left = 17286\n",
      "Pixels left = 17286\n",
      "Pixels left = 17286\n",
      "Pixels left = 17286\n",
      "Pixels left = 17286\n",
      "Pixels left = 17286\n",
      "Pixels left = 17286\n",
      "Pixels left = 17286\n",
      "Pixels left = 17252\n",
      "Pixels left = 17165\n",
      "Pixels left = 17054\n",
      "Pixels left = 16850\n",
      "Pixels left = 16550\n",
      "Pixels left = 16175\n",
      "Pixels left = 15532\n",
      "Pixels left = 14581\n",
      "Pixels left = 13149\n",
      "Pixels left = 10123\n",
      "Pixels left = 2940\n",
      "Pixels left = 576\n",
      "Pixels left = 576\n",
      "Pixels left = 0\n",
      "Finished writing file: \n",
      "Baro-Gam_60sec_d0.rtg\n",
      "d_min = 0.0006527226759138755 [m]\n",
      "d_max = 2.535443878175204 [m]\n",
      "\n"
     ]
    }
   ],
   "source": [
    "# Should be specified at the top of this notebook.\n",
    "# A_out_km2 = 23567.7  # TCA at basin outlet of Baro River (at Gambella)  [km2]\n",
    "# Qbase_out= 40.0      # estimated baseflow discharge at basin outlet [m^3 / s]\n",
    "\n",
    "os.chdir( topo_dir )\n",
    "B_mps = init_depth.get_baseflow_volume_flux( A_out_km2, Qbase_out, REPORT=True)\n",
    "\n",
    "d0_file = site_prefix + '_d0.rtg'\n",
    "init_depth.compute_initial_depth( site_prefix=site_prefix, cfg_dir=cfg_dir,\n",
    "           SILENT=False, baseflow_rate=B_mps, bank_angle=bank_angle,\n",
    "           # angle_file=angle_file,\n",
    "           area_file=d8_area_file, slope_file=d8_slope_file,\n",
    "           width_file=width_file, manning_file=manning_file,\n",
    "           sinu_file=sinu_file, d0_file=d0_file)"
   ]
  },
  {
   "cell_type": "markdown",
   "metadata": {},
   "source": [
    "## Create Soil Hydraulic Property Grids (via Pedotransfer) <a id=\"soil_hydro_B\"></a>\n",
    "\n",
    "Here, we first read a set of ISRIC <b>soil property</b> grids for each of 7 soil layers (see above) in GeoTIFF format.  We then <b>clip</b> them to a chosen geographic bounding box and <b>resample</b> (or regrid) them to a new spatial resolution (grid cell size).  (Typically, we regrid to the TopoFlow model grid.)  Finally, we compute a corresponding set of <b>soil hydraulic property</b> grids that are used to compute infiltration.  These are referenced in the CFG files for the TopoFlow infiltration components.  The REPORT flag can be set to True to see more detailed information about each of the soil property grids.  Any warnings or errors are printed regardless.\n",
    "\n",
    "Files in the <b>src_soil_dir</b> folder were downloaded from the\n",
    "[<b>ISRIC SoilGrids website</b>](https://soilgrids.org/)\n",
    "and span the entire country of Ethiopia.  They contain soil property variables for each of 7 soil layers, with a 1 km grid cell size.\n",
    "\n",
    "```\n",
    "Variables:\n",
    "BLDFIE = Bulk density [kg / m3]\n",
    "BDRICM = Absolute depth to bedrock [cm]\n",
    "CLYPPT = Mass fraction of clay [%]\n",
    "ORCDRC = Soil organic carbon content (fine earth fraction)  [g / kg]\n",
    "SLTPPT = Mass fraction of silt [%]\n",
    "SNDPPT = Mass fraction of sand [%]\n",
    "\n",
    "Layer 1 = sl1 = 0.00 to 0.05 m   (0  to  5 cm)\n",
    "Layer 2 = sl2 = 0.05 to 0.15 m   (5  to 15 cm)\n",
    "Layer 3 = sl3 = 0.15 to 0.30 m   (15 to 30 cm)\n",
    "Layer 4 = sl4 = 0.30 to 0.60 m   (30 to 60 cm)\n",
    "Layer 5 = sl5 = 0.60 to 1.00 m   (60 to 100 cm)\n",
    "Layer 6 = sl6 = 1.00 to 2.00 m   (100 to 200 cm)\n",
    "Layer 7 = sl7 = 2.00 to ??   m   (200 to ??? cm)\n",
    "```"
   ]
  },
  {
   "cell_type": "code",
   "execution_count": 30,
   "metadata": {},
   "outputs": [
    {
     "name": "stdout",
     "output_type": "stream",
     "text": [
      "\n",
      "Finished transforming ISRIC soil grid files.\n",
      "   Number of grids = 35\n",
      "   Number outside of model domain = 0\n",
      "\n",
      "WARNING in read_soil_grid_files:\n",
      "   Some values in OC grid are out of range.\n",
      "   min(OC) = -9999.0\n",
      "   Possible nodata value.\n",
      "\n",
      "WARNING in read_soil_grid_files:\n",
      "   Some values in D grid are out of range.\n",
      "   min(D) = -9999.0\n",
      "   Possible nodata value.\n",
      "\n",
      "WARNING in wosten_theta_s:\n",
      "   Some values are not in [0, 1].\n",
      "   min(theta_s) = -9999.0\n",
      "   Possible nodata value.\n",
      "   Forcing bad values into range.\n",
      "\n",
      "WARNING in wosten_alpha:\n",
      "   Some values are out of typical range.\n",
      "   Typical range: -0.15 to -0.004 [1/cm]\n",
      "   max(alpha) = -0.00015224768 (excl. zero)\n",
      "   max(alpha) = -0.0 (incl. zero)\n",
      "   Forcing bad values into range.\n",
      "\n",
      "ERROR in wosten_n:\n",
      "   Some values are out of range.\n",
      "   Typical range: 1.0 to 3.0 [unitless].\n",
      "   Forcing bad values into range.\n",
      "\n",
      "WARNING in get_tBC_from_vG_vars:\n",
      "   Some values in G grid are out of range.\n",
      "   Typical range: 0.08 to 2.3 [m].\n",
      "   min(G) = 0.002772573 [m]\n",
      "   max(G) = 4.264291 [m]\n",
      "\n",
      "WARNING in read_soil_grid_files:\n",
      "   Some values in OC grid are out of range.\n",
      "   min(OC) = -9999.0\n",
      "   Possible nodata value.\n",
      "\n",
      "WARNING in read_soil_grid_files:\n",
      "   Some values in D grid are out of range.\n",
      "   min(D) = -9999.0\n",
      "   Possible nodata value.\n",
      "\n",
      "WARNING in wosten_theta_s:\n",
      "   Some values are not in [0, 1].\n",
      "   min(theta_s) = -9999.0\n",
      "   Possible nodata value.\n",
      "   Forcing bad values into range.\n",
      "\n",
      "WARNING in wosten_alpha:\n",
      "   Some values are out of typical range.\n",
      "   Typical range: -0.15 to -0.004 [1/cm]\n",
      "   max(alpha) = -0.0 (incl. zero)\n",
      "   Forcing bad values into range.\n",
      "\n",
      "ERROR in wosten_n:\n",
      "   Some values are out of range.\n",
      "   Typical range: 1.0 to 3.0 [unitless].\n",
      "   Forcing bad values into range.\n",
      "\n",
      "WARNING in get_tBC_from_vG_vars:\n",
      "   Some values in G grid are out of range.\n",
      "   Typical range: 0.08 to 2.3 [m].\n",
      "   min(G) = 2.1024513e-05 [m]\n",
      "\n",
      "WARNING in read_soil_grid_files:\n",
      "   Some values in OC grid are out of range.\n",
      "   min(OC) = -9999.0\n",
      "   Possible nodata value.\n",
      "\n",
      "WARNING in read_soil_grid_files:\n",
      "   Some values in D grid are out of range.\n",
      "   min(D) = -9999.0\n",
      "   Possible nodata value.\n",
      "\n",
      "WARNING in wosten_theta_s:\n",
      "   Some values are not in [0, 1].\n",
      "   min(theta_s) = -9999.0\n",
      "   Possible nodata value.\n",
      "   Forcing bad values into range.\n",
      "\n",
      "WARNING in wosten_alpha:\n",
      "   Some values are out of typical range.\n",
      "   Typical range: -0.15 to -0.004 [1/cm]\n",
      "   max(alpha) = -0.0 (incl. zero)\n",
      "   Forcing bad values into range.\n",
      "\n",
      "ERROR in wosten_n:\n",
      "   Some values are out of range.\n",
      "   Typical range: 1.0 to 3.0 [unitless].\n",
      "   Forcing bad values into range.\n",
      "\n",
      "WARNING in get_tBC_from_vG_vars:\n",
      "   Some values in G grid are out of range.\n",
      "   Typical range: 0.08 to 2.3 [m].\n",
      "   min(G) = 2.3145541e-05 [m]\n",
      "\n",
      "WARNING in read_soil_grid_files:\n",
      "   Some values in OC grid are out of range.\n",
      "   min(OC) = -9999.0\n",
      "   Possible nodata value.\n",
      "\n",
      "WARNING in read_soil_grid_files:\n",
      "   Some values in D grid are out of range.\n",
      "   min(D) = -9999.0\n",
      "   Possible nodata value.\n",
      "\n",
      "WARNING in wosten_theta_s:\n",
      "   Some values are not in [0, 1].\n",
      "   min(theta_s) = -9999.0\n",
      "   Possible nodata value.\n",
      "   Forcing bad values into range.\n",
      "\n",
      "WARNING in wosten_alpha:\n",
      "   Some values are out of typical range.\n",
      "   Typical range: -0.15 to -0.004 [1/cm]\n",
      "   max(alpha) = -0.0 (incl. zero)\n",
      "   Forcing bad values into range.\n",
      "\n",
      "ERROR in wosten_n:\n",
      "   Some values are out of range.\n",
      "   Typical range: 1.0 to 3.0 [unitless].\n",
      "   Forcing bad values into range.\n",
      "\n",
      "WARNING in get_tBC_from_vG_vars:\n",
      "   Some values in G grid are out of range.\n",
      "   Typical range: 0.08 to 2.3 [m].\n",
      "   min(G) = 3.0185074e-05 [m]\n",
      "\n",
      "WARNING in read_soil_grid_files:\n",
      "   Some values in OC grid are out of range.\n",
      "   min(OC) = -9999.0\n",
      "   Possible nodata value.\n",
      "\n",
      "WARNING in read_soil_grid_files:\n",
      "   Some values in D grid are out of range.\n",
      "   min(D) = -9999.0\n",
      "   Possible nodata value.\n",
      "\n",
      "WARNING in wosten_theta_s:\n",
      "   Some values are not in [0, 1].\n",
      "   min(theta_s) = -9999.0\n",
      "   Possible nodata value.\n",
      "   Forcing bad values into range.\n",
      "\n",
      "WARNING in wosten_alpha:\n",
      "   Some values are out of typical range.\n",
      "   Typical range: -0.15 to -0.004 [1/cm]\n",
      "   max(alpha) = -0.0 (incl. zero)\n",
      "   Forcing bad values into range.\n",
      "\n",
      "ERROR in wosten_n:\n",
      "   Some values are out of range.\n",
      "   Typical range: 1.0 to 3.0 [unitless].\n",
      "   Forcing bad values into range.\n",
      "\n",
      "WARNING in get_tBC_from_vG_vars:\n",
      "   Some values in G grid are out of range.\n",
      "   Typical range: 0.08 to 2.3 [m].\n",
      "   min(G) = 3.8777016e-05 [m]\n",
      "\n",
      "WARNING in read_soil_grid_files:\n",
      "   Some values in OC grid are out of range.\n",
      "   min(OC) = -9999.0\n",
      "   Possible nodata value.\n",
      "\n",
      "WARNING in read_soil_grid_files:\n",
      "   Some values in D grid are out of range.\n",
      "   min(D) = -9999.0\n",
      "   Possible nodata value.\n",
      "\n",
      "WARNING in wosten_theta_s:\n",
      "   Some values are not in [0, 1].\n",
      "   min(theta_s) = -9999.0\n",
      "   Possible nodata value.\n",
      "   Forcing bad values into range.\n",
      "\n",
      "WARNING in wosten_alpha:\n",
      "   Some values are out of typical range.\n",
      "   Typical range: -0.15 to -0.004 [1/cm]\n",
      "   max(alpha) = -5.764497e-35 (excl. zero)\n",
      "   max(alpha) = -0.0 (incl. zero)\n",
      "   Forcing bad values into range.\n",
      "\n",
      "ERROR in wosten_n:\n",
      "   Some values are out of range.\n",
      "   Typical range: 1.0 to 3.0 [unitless].\n",
      "   max(n) = 753935100.0\n",
      "   Forcing bad values into range.\n",
      "\n",
      "WARNING in get_tBC_from_vG_vars:\n",
      "   Some values in G grid are out of range.\n",
      "   Typical range: 0.08 to 2.3 [m].\n",
      "   min(G) = 0.0039157136 [m]\n",
      "   max(G) = 2.1265663e+31 [m]\n",
      "\n",
      "WARNING in read_soil_grid_files:\n",
      "   Some values in OC grid are out of range.\n",
      "   min(OC) = -9999.0\n",
      "   Possible nodata value.\n",
      "\n",
      "WARNING in read_soil_grid_files:\n",
      "   Some values in D grid are out of range.\n",
      "   min(D) = -9999.0\n",
      "   Possible nodata value.\n",
      "\n",
      "WARNING in wosten_theta_s:\n",
      "   Some values are not in [0, 1].\n",
      "   min(theta_s) = -9999.0\n",
      "   Possible nodata value.\n",
      "   Forcing bad values into range.\n",
      "\n",
      "WARNING in wosten_alpha:\n",
      "   Some values are out of typical range.\n",
      "   Typical range: -0.15 to -0.004 [1/cm]\n",
      "   max(alpha) = -3.066925e-35 (excl. zero)\n",
      "   max(alpha) = -0.0 (incl. zero)\n",
      "   Forcing bad values into range.\n",
      "\n",
      "ERROR in wosten_n:\n",
      "   Some values are out of range.\n",
      "   Typical range: 1.0 to 3.0 [unitless].\n",
      "   max(n) = 835828350.0\n",
      "   Forcing bad values into range.\n",
      "\n",
      "WARNING in get_tBC_from_vG_vars:\n",
      "   Some values in G grid are out of range.\n",
      "   Typical range: 0.08 to 2.3 [m].\n",
      "   min(G) = 0.003901472 [m]\n",
      "   max(G) = 3.997028e+31 [m]\n",
      "\n",
      "Finished computing & saving soil hydraulic vars.\n",
      "\n"
     ]
    }
   ],
   "source": [
    "# Copy RTI file from topo to soil directory\n",
    "topo_rti_file = topo_dir + site_prefix + '.rti'\n",
    "soil_rti_file = soil_dir + site_prefix + '.rti'\n",
    "shutil.copyfile( topo_rti_file, soil_rti_file )\n",
    "\n",
    "pedotransfer.save_soil_hydraulic_vars( site_prefix=site_prefix,\n",
    "         in_dir=src_soil_dir, out_dir=soil_dir,\n",
    "         out_bounds=out_bounds, REPORT=False,\n",
    "         out_xres_sec=out_xres_sec, out_yres_sec=out_yres_sec,\n",
    "         RESAMPLE_ALGO='bilinear')"
   ]
  },
  {
   "cell_type": "markdown",
   "metadata": {},
   "source": [
    "## Create a Space-time Rainfall Rate Grid Stack  <a id=\"rainrates_B\"></a>\n",
    "\n",
    "<b>Note:</b> This capability has been delegated to the MINT data transformation team, since\n",
    "downloading all of the required files can take hours to days.\n",
    "\n",
    "However, assuming all required files have already been downloaded to your computer it can also be performed using TopoFlow's <b>regrid</b> utility.  The specific function for this is called:\n",
    "<b>create_rts_from_nc_files()</b>.\n",
    "\n",
    "For the [<b>MINT Project</b>](http://mint-project.info/), we have used two different\n",
    "<b>global</b>, remote-sensing based products for rainfall from NASA, called:\n",
    "<b>GPM</b> and <b>GLDAS</b>.\n",
    "\n",
    "[<b>Version 06 of the GPM GPM IMERG Final Precipitation L3 </b>](https://disc.gsfc.nasa.gov/datasets/GPM_3IMERGHH_06/summary?keywords=GPM)\n",
    "has a spatial resolution of <b>0.1 x 0.1 degrees</b> (360 x 360 arcseconds)\n",
    "and a temporal resolution of <b>30 minutes</b> (1800 seconds). \n",
    "This data is available for dates between: <b>2000-06-01</b> and <b>2020-01-31</b>.\n",
    "This is the highest spatial and temporal resolution available for GPM data.\n",
    "\n",
    "[<b>Version 2.1 of the GLDAS Noah Land Surface Model L4</b>](https://disc.gsfc.nasa.gov/datasets/GLDAS_NOAH025_3H_2.1/summary?keywords=GLDAS)\n",
    "has a spatial resolution of <b>0.25 x 0.25 degrees</b> (900 x 900 arcseconds)\n",
    "and a temporal resolution of <b>3 hours</b> (180 minutes).\n",
    "This data is available for dates between: <b>2000-01-01</b> and <b>2020-02-29</b>.\n",
    "This is the highest spatial and temporal resolution available for GLDAS data.\n",
    "\n",
    "In addition to space-time rainfall rates, some of the TopoFlow components can make use of other meteorological variables such as:  air temperature, soil temperature, relative humidity, surface wind speed, shortware radiation and longwave radiation.  The procedure for preparing these other space-time datasets for use in TopoFlow is very similar to what is done for precipitation.\n"
   ]
  },
  {
   "cell_type": "code",
   "execution_count": 31,
   "metadata": {},
   "outputs": [],
   "source": [
    "# os.chdir( met_dir )\n",
    "\n",
    "## Copy your GPM or GLDAS RTS files into the \"met\" directory"
   ]
  },
  {
   "cell_type": "markdown",
   "metadata": {},
   "source": [
    "## Appendix 1: &nbsp; Installing TopoFlow in a conda Environment  <a id=\"setup_B\"></a>\n",
    "\n",
    "To run this Jupyter notebook, it is recommended to use Python 3.7 from an Anaconda distribution and to install the required Python packages in a conda environment called <b>tf36</b>.  This prevents conflicts with other Python packages you may have installed.\n",
    "The Anaconda distribution includes many packages from the\n",
    "[<b>Python Standard Library</b>](https://docs.python.org/3/library/).\n",
    "\n",
    "First, download the TopoFlow 3.6 package from GitHub repo \"topoflow36\" at:\n",
    "<b>https://github.com/peckhams/topoflow36</b>.\n",
    "Copy or unzip the package into some directory on your computer.  Let's refer to this full path as TF36_DIR.  e.g. TF36_DIR = /Users/peckhams/Dropbox/TopoFlow_3.6\n",
    "\n",
    "Installing TopoFlow 3.6 with pip causes most of its dependencies to be installed automatically.  However, if you want to run the growing collection of Jupyter notebooks (such as this one) that highlight TopoFlow functionality, you will also need to install the\n",
    "[<b>nb_conda</b>](https://docs.anaconda.com/anaconda/user-guide/tasks/use-jupyter-notebook-extensions/) package, and optionally the <b>jupyterlab</b> package (see below).\n",
    "In addition, some of the new TopoFlow utilities (e.g. regrid.py and visualize.py) require the\n",
    "[<b>gdal</b>](https://pypi.org/project/GDAL/) and\n",
    "[<b>matplotlib</b>](https://matplotlib.org/) packages.\n",
    "Simply type the following commands at an OS prompt after installing Anaconda and downloading TopoFlow.\n",
    "\n",
    "``` bash\n",
    "% conda update -n base conda\n",
    "% conda create --name tf36\n",
    "% conda activate tf36\n",
    "% conda list\n",
    "% conda install nb_conda\n",
    "% conda install gdal\n",
    "% conda install matplotlib\n",
    "% conda install imageio\n",
    "% pip install imageio-ffmpeg  (an imageio extension)\n",
    "% cd TF36_DIR\n",
    "% pip install -e .   (-e is the editable/developer option)\n",
    "```\n",
    "\n",
    "<b>Note:</b>  The <b>pip</b> package manager is used to install TopoFlow 3.6, since it is not available as a conda package.  (It gets installed when you install <b>nb_conda</b>.) However, like conda, pip will install a package and its dependencies into the currently active conda environment, as explained\n",
    "[<b>in these docs</b>](https://docs.conda.io/projects/conda/en/4.6.1/user-guide/tasks/manage-pkgs.html#installing-non-conda-packages).  If you switch to another environment with <b>conda activate envname</b>, you can confirm that topoflow (or cfunits, gdal, netcdf4, etc.) is not there with <b>conda list</b>. \n",
    "\n",
    "<b>Note:</b>  Some of the new TopoFlow utilities use a Python package version of [<b>GDAL</b>](https://pypi.org/project/GDAL/).  At the time of this writing, installing <b>gdal</b> from the <b>conda-forge </b> with <i>conda install -c conda-forge gdal</i> did not work.\n",
    "\n",
    "<b>Note:</b> The netCDF4 package will be installed as a TopoFlow dependency.\n",
    "\n",
    "#### <b>Conda Environments</b>\n",
    "\n",
    "Note that <b>conda</b> is the name of the package manager for the popular Anaconda Python distribution.  One feature of conda is support for multiple environments, which are isolated from one another.  When you install Anaconda, an environment called <b>base</b> is created for you and a base set of commonly-used Python packages are installed there.  However, you can (and should!) create additional, named environments and install different sets of Python packages into them without worrying about potential conflicts with packages in other environments.  Type <b>conda env list</b> to list your available environments.  You can switch to one of your other environments using the command <b>conda activate envname</b>.  (Replace \"envname\" with the name of an environment.) You can switch back to the base environment with the command <b>conda deactivate</b>.  It is better not to install new packages into the base environment.  See the online conda documentation on [<b>Managing Environments</b>](https://docs.conda.io/projects/conda/en/latest/user-guide/tasks/manage-environments.html) for more information.\n",
    "\n",
    "It is always a good idea to update conda itself before creating new environments and installing packages in them. The \"-n\" flag is followed by the name of the environment to update, and the \"-c\" flag is followed by the name of the <b>channel</b> from which to get packages.  A channel is a collection of Python packages that are provided and maintained by some group.  The word \"defaults\" refers to\n",
    "[<b>Anaconda's own collection</b>](https://docs.anaconda.com/anaconda/packages/pkg-docs/), while\n",
    "[<b>conda-forge</b>](https://conda-forge.org/feedstocks/)\n",
    "refers to another popular collection and the GitHub organization that maintains it.  Many Python packages are available from both of these channels.  (However, the ipyleaflet and pydap  packages are currently not available in the Anaconda collection.) When you are installing several packages into an environment, the potential for installation problems seems to be less if you get them all from the same channel.  Keep in mind that packages you install will likely depend on many other Python packages, so there is a potential for conflicts, usually related to different package versions.  Using conda environments helps to mitigate against this and helps with <b>reproducibility</b>.\n",
    "\n",
    "Once you've switched to an environment with <b>conda activate envname</b>, you can type <b>conda list</b> to see a list of packages.  If you do this right after you create a new environment you will see that it contains no packages.  If you do this right after installing each package above you will see that:\n",
    "\n",
    "<ul>\n",
    "    <li>Installing <b>nb_conda</b> triggers installation of <b>nb_conda_kernels</b> (2.2.3),\n",
    "        <b>ipykernel</b> (5.3.0), <b>notebook</b> (6.0.3), <b>pip</b> (20.0.2),\n",
    "        <b>setuptools</b> (46.4.0) and <b>traitlets</b> (4.3.3), among many others.\n",
    "    <li>Installing <b>gdal</b> triggers installation of #######.\n",
    "    <li>Installing <b>matplotlib</b> triggers installation of ##########. \n",
    "</ul>\n",
    "\n",
    "#### <b>Jupyter Notebook Extensions</b>\n",
    "\n",
    "Note that <b>nb_conda</b> is installed first above, and triggers installation of <b>nb_conda_kernels</b> along with <b>notebook</b>.  This is important as it makes your Jupyter notebook app aware of your conda environments and available in the app as \"kernels\".  Anaconda provides a helpful page on the\n",
    "[<b>Jupyter Notebook Extensions</b>](https://docs.continuum.io/anaconda/user-guide/tasks/use-jupyter-notebook-extensions/).\n",
    "That page also explains how you can enable or disable these extensions individually. The command <b>jupyter nbextension list</b> shows you the extensions that are installed and whether they are enabled.  If you run the <b>jupyter notebook</b> or <b>jupyter lab</b> command in an environment that has <b>nb_conda_kernels</b> installed (see below), you will have the ability to associate one of your available conda environments with any new notebook you create.  Different environments give rise to different <b>kernels</b> in Jupyter, and the kernel name includes the environment name, e.g. <b>Python \\[conda env:tf36\\]</b>.  The kernel name is displayed in the upper right corner.  Notebooks typically open with the \"environment kernel\" they were created with. However, there is a <b>Change Kernel</b> option in the <b>Kernel</b> menu in the Jupyter app menu bar. (After changing the kernel, you may need to choose <b>Restart</b> from the <b>Kernel</b> menu.\n",
    "\n",
    "#### <b>Cloning a conda Environment</b>\n",
    "\n",
    "If your notebook is working but then you want to import additional packages (possibly with many dependencies, and potential for problems), you can keep the first environment but clone it with\n",
    "<b><i>conda create --name clonename --copy --clone envname</i></b>,\n",
    "and then install the additional packages in the clone.  This way, you can switch to the new environment's kernel and try to run your notebook, but if you run into any problems you can easily revert back to the original environment and functionality.\n",
    "\n",
    "<b>Note:</b> Setting the \"--copy\" flag installs all packages using copies instead of hard or soft links.  This is necessary to avoid problems when using <b>pip</b> together with <b>conda</b> as described [<b>on this page</b>](https://stackoverflow.com/questions/43879119/installing-tensorflow-in-cloned-conda-environment-breaks-conda-environment-it-wa).\n",
    "\n",
    "#### <b>Running Notebooks in the Jupyter Notebook App</b>\n",
    "\n",
    "When you want to run the notebook, type <b>conda activate tf36</b> (at an OS command prompt) to activate this environment.  Then change to the directory that contains this notebook and type <b>jupyter notebook</b>.  By default, this folder is called <b>Jupyter</b> and is in your home directory.  In the app, choose this notebook by name, \"TopoFlow_Getting_Started.ipynb\", and make sure to choose the kernel called:  <b>Python \\[conda env:tf36\\]</b>.  See the References section at the end for more info.\n",
    "\n",
    "#### <b>Running Notebooks in the JupyterLab App</b>\n",
    "\n",
    "The\n",
    "[<b>JupyterLab</b>](https://jupyterlab.readthedocs.io/en/stable/index.html)\n",
    "app is a cool, new successor to the Notebook app and offers many additional features.  If you want to use this notebook in JupyterLab, you need to install one more Python package, as follows.\n",
    "\n",
    "``` bash\n",
    "% conda activate tf36\n",
    "% conda install -c conda-forge jupyterlab\n",
    "```\n",
    "\n",
    "You launch the JupyterLab app by typing <b>jupyter lab</b> instead of <b>jupyter notebook</b>.  To quit, choose <b>Logout</b> or <b>Shutdown</b> from the app's <b>File</b> menu.\n",
    "\n",
    "#### <b>JupyterLab Extensions</b>\n",
    "\n",
    "The Jupyter project provides documentation on\n",
    "[<b>JupyterLab Extensions</b>](https://jupyterlab.readthedocs.io/en/stable/user/extensions.html)\n",
    "which add capabilities to JupyterLab.  For example, after installing jupyterlab (see just above), if you want to use the <b>ipywidgets</b> and <b>ipyleaflet</b> Python packages, you need to install two extensions, as follows:\n",
    "```\n",
    "% conda activate tf36\n",
    "% jupyter labextension install jupyter-leaflet\n",
    "% jupyter labextension install @jupyter-widgets/jupyterlab-manager\n",
    "```\n",
    "To list the jupyter labextensions you have, and to see whether or not they are enabled, type <b>jupyter labextension list</b>.  <b>Note:</b> If you start jupyterlab from a conda environment in which a given extension is not installed, and then open or switch to a notebook which uses a different \"environment kernel\", one that requires that extension, the notebook may not work.\n",
    "\n",
    "You should only install trusted extensions, due to security concerns, as explained in the documentation.  Third-party extensions pose a potential security risk.  An extension that allows you to play MP4 movie files in JupyterLab is\n",
    "[<b>available on GitHub</b>](https://github.com/jupyterlab/jupyterlab-mp4)\n",
    "(by Ian Rose of the JupyterLab organization)\n",
    "and can be installed with the command:\n",
    "```\n",
    "% jupyter labextension install @jupyterlab/mp4-extension\n",
    "```\n",
    "<b>Note:</b> This command is from a pull-request on the extension's github repo.\n",
    "Using the command: \"jupyter labextension install jupyterlab-mp4\" results in the\n",
    "following error message:<br>\n",
    "An error occured.\n",
    "ValueError: \"jupyterlab-mp4\" is not a valid npm package\n",
    "\n",
    "As of May 27, 2020, JupyterLab has added an experimental <b>Extension Manager</b> which can be enabled by choosing Settings > Enable Extension Manager in the app.\n"
   ]
  },
  {
   "cell_type": "code",
   "execution_count": null,
   "metadata": {},
   "outputs": [],
   "source": []
  }
 ],
 "metadata": {
  "anaconda-cloud": {},
  "kernelspec": {
   "display_name": "Python [conda env:tf36] *",
   "language": "python",
   "name": "conda-env-tf36-py"
  },
  "language_info": {
   "codemirror_mode": {
    "name": "ipython",
    "version": 3
   },
   "file_extension": ".py",
   "mimetype": "text/x-python",
   "name": "python",
   "nbconvert_exporter": "python",
   "pygments_lexer": "ipython3",
   "version": "3.7.7"
  }
 },
 "nbformat": 4,
 "nbformat_minor": 4
}
